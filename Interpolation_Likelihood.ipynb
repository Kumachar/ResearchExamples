{
 "cells": [
  {
   "metadata": {
    "ExecuteTime": {
     "end_time": "2024-12-19T21:02:39.849912Z",
     "start_time": "2024-12-19T21:02:39.845773Z"
    }
   },
   "cell_type": "code",
   "source": [
    "import arviz as az\n",
    "import matplotlib.pyplot as plt\n",
    "import numpy as np\n",
    "import pymc as pm\n",
    "import pytensor\n",
    "import pytensor.tensor as pt\n",
    "\n",
    "from pytensor.graph import Apply, Op\n",
    "from scipy.optimize import approx_fprime"
   ],
   "id": "c0a0e5632be0b7dc",
   "outputs": [],
   "execution_count": 8
  },
  {
   "metadata": {},
   "cell_type": "markdown",
   "source": [
    "Here, we sampled value of $Y-data$, where $Y$ is the model value and $data$ is the observed value. We then calculated the log-likelihood of the sampled data. We will use this sampled data to interpolate the log-likelihood.\n",
    "\n",
    "$$loglikelihood = -\\frac{(y-data)^2}{2\\sigma}-log(\\sqrt{2\\pi})-log(\\sigma)$$\n",
    "\n",
    "To simplify the problem, we assume that the standard deviation of the noise is known and equal to 1. We also assume that the noise is Gaussian. The likelihood of the data given the model is then given by:\n",
    "\n",
    "$$p(data|Y) = \\frac{1}{\\sqrt{2\\pi}}exp(-\\frac{(Y-data)^2}{2})$$"
   ],
   "id": "98300487dccc380e"
  },
  {
   "metadata": {},
   "cell_type": "markdown",
   "source": [
    "We adopted a black box likelihood function, which is a function that takes the data and the model parameters as input and returns the log-likelihood, and do not require gradient. (Thus may occur some problem if we extract the gradient of the log-likelihood function)\n",
    "\n",
    "This example is based on the PyMC3 example [here](https://www.pymc.io/projects/examples/en/latest/howto/blackbox_external_likelihood_numpy.html)."
   ],
   "id": "17bd7d87adb9dec2"
  },
  {
   "metadata": {},
   "cell_type": "markdown",
   "source": "# Black box likelihood",
   "id": "20e824aad57c1a7c"
  },
  {
   "metadata": {},
   "cell_type": "code",
   "source": [
    "sampled_data = np.linspace(-500, 500, 1000)\n",
    "sampled_log_likelihood = -0.5 * ((sampled_data) / 1) ** 2 - np.log(np.sqrt(2 * np.pi)) - np.log(1)"
   ],
   "id": "f557763ae47fb956",
   "outputs": [],
   "execution_count": null
  },
  {
   "metadata": {
    "collapsed": true
   },
   "cell_type": "code",
   "source": [
    "def interpolate(x0, y0, x):\n",
    "    x = np.array(x)\n",
    "\n",
    "    idx = np.searchsorted(x0, x)\n",
    "    dl = np.array(x - x0[idx - 1])\n",
    "    dr = np.array(x0[idx] - x)\n",
    "    d = dl + dr\n",
    "    wl = dr / d\n",
    "\n",
    "    return wl * y0[idx - 1] + (1 - wl) * y0[idx]"
   ],
   "id": "initial_id",
   "outputs": [],
   "execution_count": null
  },
  {
   "metadata": {},
   "cell_type": "code",
   "source": [
    "def my_model(m, c, x):\n",
    "    return m * x + c\n",
    "\n",
    "def my_loglike(m, c, sigma, x, data):\n",
    "    # Use interpolation to get the log-likelihood\n",
    "    for param in (m, c, sigma, x, data):\n",
    "        if not isinstance(param, (float, np.ndarray)):\n",
    "            raise TypeError(f\"Invalid input type to loglike: {type(param)}\")\n",
    "    model = my_model(m, c, x)\n",
    "    return interpolate(sampled_data, sampled_log_likelihood, model-data) "
   ],
   "id": "a8e1f7be12d15ee9",
   "outputs": [],
   "execution_count": null
  },
  {
   "metadata": {},
   "cell_type": "code",
   "source": [
    "import numpy as np\n",
    "\n",
    "N = 10  \n",
    "sigma = 1.0  \n",
    "x = np.linspace(0.0, 9.0, N)\n",
    "\n",
    "mtrue = 0.4 \n",
    "ctrue = 3.0 \n",
    "\n",
    "truemodel = my_model(mtrue, ctrue, x)\n",
    "\n",
    "# make data\n",
    "rng = np.random.default_rng(716743)\n",
    "data = sigma * rng.normal(size=N) + truemodel"
   ],
   "id": "4a67a5fcb064c50f",
   "outputs": [],
   "execution_count": null
  },
  {
   "metadata": {},
   "cell_type": "code",
   "source": [
    "class LogLike(Op):\n",
    "    def make_node(self, m, c, sigma, x, data) -> Apply:\n",
    "        # Convert inputs to tensor variables\n",
    "        m = pt.as_tensor(m)\n",
    "        c = pt.as_tensor(c)\n",
    "        sigma = pt.as_tensor(sigma)\n",
    "        x = pt.as_tensor(x)\n",
    "        data = pt.as_tensor(data)\n",
    "        inputs = [m, c, sigma, x, data]\n",
    "        outputs = [data.type()]\n",
    "\n",
    "        return Apply(self, inputs, outputs)\n",
    "\n",
    "    def perform(self, node: Apply, inputs: list[np.ndarray], outputs: list[list[None]]) -> None:\n",
    "        m, c, sigma, x, data = inputs  \n",
    "        loglike_eval = my_loglike(m, c, sigma, x, data)\n",
    "        outputs[0][0] = np.asarray(loglike_eval)"
   ],
   "id": "20abe9e9429afca8",
   "outputs": [],
   "execution_count": null
  },
  {
   "metadata": {},
   "cell_type": "code",
   "source": [
    "loglike_op = LogLike()\n",
    "\n",
    "test_out = loglike_op(mtrue, ctrue, sigma, x, data)"
   ],
   "id": "67762cbe16c65dbd",
   "outputs": [],
   "execution_count": null
  },
  {
   "metadata": {},
   "cell_type": "code",
   "source": "pytensor.dprint(test_out, print_type=True)",
   "id": "924f6d72fda0dfe1",
   "outputs": [],
   "execution_count": null
  },
  {
   "metadata": {},
   "cell_type": "code",
   "source": "test_out.eval()",
   "id": "c34d905d41b51cdb",
   "outputs": [],
   "execution_count": null
  },
  {
   "metadata": {},
   "cell_type": "code",
   "source": [
    "def custom_dist_loglike(data, m, c, sigma, x):\n",
    "    return loglike_op(m, c, sigma, x, data)\n",
    "\n",
    "\n",
    "\n",
    "with pm.Model() as no_grad_model:\n",
    "    m = pm.Uniform(\"m\", lower=-10.0, upper=10.0, initval=mtrue)\n",
    "    c = pm.Uniform(\"c\", lower=-10.0, upper=10.0, initval=ctrue)\n",
    "\n",
    "\n",
    "    likelihood = pm.CustomDist(\n",
    "        \"likelihood\", m, c, sigma, x, observed=data, logp=custom_dist_loglike\n",
    "    )\n",
    "    "
   ],
   "id": "3680a60b9e111730",
   "outputs": [],
   "execution_count": null
  },
  {
   "metadata": {},
   "cell_type": "code",
   "source": [
    "with no_grad_model:\n",
    "    idata_no_grad = pm.sample(3000, tune=1000)"
   ],
   "id": "c1cb94511b8fc5d9",
   "outputs": [],
   "execution_count": null
  },
  {
   "metadata": {},
   "cell_type": "code",
   "source": "az.summary(idata_no_grad)",
   "id": "e97972c588796640",
   "outputs": [],
   "execution_count": null
  },
  {
   "metadata": {},
   "cell_type": "code",
   "source": "az.plot_trace(idata_no_grad, lines=[(\"m\", {}, mtrue), (\"c\", {}, ctrue)]);",
   "id": "b293167d8e52fb69",
   "outputs": [],
   "execution_count": null
  },
  {
   "metadata": {},
   "cell_type": "markdown",
   "source": "",
   "id": "3875e21d6fb2adb5"
  },
  {
   "metadata": {},
   "cell_type": "markdown",
   "source": "# With gradients",
   "id": "1e195adb84ef4186"
  },
  {
   "metadata": {},
   "cell_type": "code",
   "source": [
    "def finite_differences_loglike(m, c, sigma, x, data, eps=1e-7):\n",
    "    \"\"\"\n",
    "    Calculate the partial derivatives of a function at a set of values. The\n",
    "    derivatives are calculated using scipy approx_fprime function.\n",
    "\n",
    "    Parameters\n",
    "    ----------\n",
    "    m, c: array_like\n",
    "        The parameters of the function for which we wish to define partial derivatives\n",
    "    x, data, sigma:\n",
    "        Observed variables as we have been using so far\n",
    "\n",
    "\n",
    "    Returns\n",
    "    -------\n",
    "    grad_wrt_m: array_like\n",
    "        Partial derivative wrt to the m parameter\n",
    "    grad_wrt_c: array_like\n",
    "        Partial derivative wrt to the c parameter\n",
    "    \"\"\"\n",
    "\n",
    "    def inner_func(mc, sigma, x, data):\n",
    "        return my_loglike(*mc, sigma, x, data)\n",
    "\n",
    "    grad_wrt_mc = approx_fprime([m, c], inner_func, [eps, eps], sigma, x, data)\n",
    "\n",
    "    return grad_wrt_mc[:, 0], grad_wrt_mc[:, 1]"
   ],
   "id": "9167a5a7c4003d36",
   "outputs": [],
   "execution_count": null
  },
  {
   "metadata": {},
   "cell_type": "code",
   "source": [
    "class LogLikeWithGrad(Op):\n",
    "    def make_node(self, m, c, sigma, x, data) -> Apply:\n",
    "        # Same as before\n",
    "        m = pt.as_tensor(m)\n",
    "        c = pt.as_tensor(c)\n",
    "        sigma = pt.as_tensor(sigma)\n",
    "        x = pt.as_tensor(x)\n",
    "        data = pt.as_tensor(data)\n",
    "\n",
    "        inputs = [m, c, sigma, x, data]\n",
    "        outputs = [data.type()]\n",
    "        return Apply(self, inputs, outputs)\n",
    "\n",
    "    def perform(self, node: Apply, inputs: list[np.ndarray], outputs: list[list[None]]) -> None:\n",
    "        # Same as before\n",
    "        m, c, sigma, x, data = inputs  # this will contain my variables\n",
    "        loglike_eval = my_loglike(m, c, sigma, x, data)\n",
    "        outputs[0][0] = np.asarray(loglike_eval)\n",
    "\n",
    "    def grad(\n",
    "        self, inputs: list[pt.TensorVariable], g: list[pt.TensorVariable]\n",
    "    ) -> list[pt.TensorVariable]:\n",
    "        # NEW!\n",
    "        # the method that calculates the gradients - it actually returns the vector-Jacobian product\n",
    "        m, c, sigma, x, data = inputs\n",
    "\n",
    "        # Our gradient expression assumes these are scalar parameters\n",
    "        if m.type.ndim != 0 or c.type.ndim != 0:\n",
    "            raise NotImplementedError(\"Gradient only implemented for scalar m and c\")\n",
    "\n",
    "        grad_wrt_m, grad_wrt_c = loglikegrad_op(m, c, sigma, x, data)\n",
    "\n",
    "        # out_grad is a tensor of gradients of the Op outputs wrt to the function cost\n",
    "        [out_grad] = g\n",
    "        return [\n",
    "            pt.sum(out_grad * grad_wrt_m),\n",
    "            pt.sum(out_grad * grad_wrt_c),\n",
    "            # We did not implement gradients wrt to the last 3 inputs\n",
    "            # This won't be a problem for sampling, as those are constants in our model\n",
    "            pytensor.gradient.grad_not_implemented(self, 2, sigma),\n",
    "            pytensor.gradient.grad_not_implemented(self, 3, x),\n",
    "            pytensor.gradient.grad_not_implemented(self, 4, data),\n",
    "        ]\n",
    "\n",
    "\n",
    "class LogLikeGrad(Op):\n",
    "    def make_node(self, m, c, sigma, x, data) -> Apply:\n",
    "        m = pt.as_tensor(m)\n",
    "        c = pt.as_tensor(c)\n",
    "        sigma = pt.as_tensor(sigma)\n",
    "        x = pt.as_tensor(x)\n",
    "        data = pt.as_tensor(data)\n",
    "\n",
    "        inputs = [m, c, sigma, x, data]\n",
    "        # There are two outputs with the same type as data,\n",
    "        # for the partial derivatives wrt to m, c\n",
    "        outputs = [data.type(), data.type()]\n",
    "\n",
    "        return Apply(self, inputs, outputs)\n",
    "\n",
    "    def perform(self, node: Apply, inputs: list[np.ndarray], outputs: list[list[None]]) -> None:\n",
    "        m, c, sigma, x, data = inputs\n",
    "\n",
    "        # calculate gradients\n",
    "        grad_wrt_m, grad_wrt_c = finite_differences_loglike(m, c, sigma, x, data)\n",
    "\n",
    "        outputs[0][0] = grad_wrt_m\n",
    "        outputs[1][0] = grad_wrt_c\n",
    "\n",
    "\n",
    "# Initalize the Ops\n",
    "loglikewithgrad_op = LogLikeWithGrad()\n",
    "loglikegrad_op = LogLikeGrad()"
   ],
   "id": "7fe503618fbf9081",
   "outputs": [],
   "execution_count": null
  },
  {
   "metadata": {},
   "cell_type": "code",
   "source": [
    "m = pt.scalar(\"m\")\n",
    "c = pt.scalar(\"c\")\n",
    "out = loglikewithgrad_op(m, c, sigma, x, data)\n",
    "eval_out = out.eval({m: mtrue, c: ctrue})\n",
    "print(eval_out)\n",
    "assert np.allclose(eval_out, my_loglike(mtrue, ctrue, sigma, x, data))"
   ],
   "id": "832d6ec2d34c28bd",
   "outputs": [],
   "execution_count": null
  },
  {
   "metadata": {},
   "cell_type": "code",
   "source": [
    "grad_wrt_m, grad_wrt_c = pytensor.grad(out.sum(), wrt=[m, c])\n",
    "pytensor.dprint([grad_wrt_m], print_type=True)"
   ],
   "id": "36fb8b41d8757427",
   "outputs": [],
   "execution_count": null
  },
  {
   "metadata": {},
   "cell_type": "code",
   "source": [
    "def custom_dist_loglike(data, m, c, sigma, x):\n",
    "    # data, or observed is always passed as the first input of CustomDist\n",
    "    return loglikewithgrad_op(m, c, sigma, x, data)\n",
    "\n",
    "\n",
    "# use PyMC to sampler from log-likelihood\n",
    "with pm.Model() as grad_model:\n",
    "    # uniform priors on m and c\n",
    "    m = pm.Uniform(\"m\", lower=-10.0, upper=10.0)\n",
    "    c = pm.Uniform(\"c\", lower=-10.0, upper=10.0)\n",
    "\n",
    "    # use a CustomDist with a custom logp function\n",
    "    likelihood = pm.CustomDist(\n",
    "        \"likelihood\", m, c, sigma, x, observed=data, logp=custom_dist_loglike\n",
    "    )"
   ],
   "id": "d3042444e2424b4d",
   "outputs": [],
   "execution_count": null
  },
  {
   "metadata": {},
   "cell_type": "code",
   "source": [
    "with grad_model:\n",
    "    # Use custom number of draws to replace the HMC based defaults\n",
    "    idata_grad = pm.sample()\n",
    "\n",
    "# plot the traces"
   ],
   "id": "7bdbe5e842070ae5",
   "outputs": [],
   "execution_count": null
  },
  {
   "metadata": {},
   "cell_type": "code",
   "source": [
    "az.plot_trace(idata_grad, lines=[(\"m\", {}, mtrue), (\"c\", {}, ctrue)]);\n",
    "az.summary(idata_grad)"
   ],
   "id": "2cb0725cb78eed95",
   "outputs": [],
   "execution_count": null
  },
  {
   "metadata": {},
   "cell_type": "markdown",
   "source": "# use example data",
   "id": "751dc4d6ede22621"
  },
  {
   "metadata": {
    "ExecuteTime": {
     "end_time": "2024-12-19T21:16:52.742442Z",
     "start_time": "2024-12-19T21:13:01.303741Z"
    }
   },
   "cell_type": "code",
   "source": [
    "import numpy as np\n",
    "import pytensor.tensor as pt\n",
    "from pytensor.graph.op import Op, Apply\n",
    "import pymc as pm\n",
    "import pandas as pd\n",
    "\n",
    "# Define interpolate function\n",
    "def interpolate(x0, y0, x):\n",
    "    x = np.array(x)\n",
    "    idx = np.searchsorted(x0, x)\n",
    "    dl = np.array(x - x0[idx - 1])\n",
    "    dr = np.array(x0[idx] - x)\n",
    "    d = dl + dr\n",
    "    wl = dr / d\n",
    "    return wl * y0[idx - 1] + (1 - wl) * y0[idx]\n",
    "\n",
    "# Load data and ensure it's a NumPy array\n",
    "data = pd.read_csv('grids_example_1.csv', header=None).values\n",
    "param_min = data[0, :].min()\n",
    "param_max = data[0, :].max()\n",
    "\n",
    "# Function to compute log-likelihood    \n",
    "def my_loglike(x, data):\n",
    "    x_vals = data[0, :]\n",
    "    loglike_vals = data[1, :]\n",
    "    return interpolate(x_vals, loglike_vals, x)\n",
    "\n",
    "# Define custom PyTensor operation\n",
    "class LogLike(Op):\n",
    "    def make_node(self, x, data):\n",
    "        x = pt.as_tensor_variable(x)  # Ensure x is a tensor\n",
    "        data = pt.as_tensor_variable(data)  # Ensure data is a tensor\n",
    "        inputs = [x, data]\n",
    "        outputs = [pt.TensorType(dtype=\"float64\", broadcastable=(False,))()]\n",
    "        return Apply(self, inputs, outputs)\n",
    "\n",
    "    def perform(self, node, inputs, outputs):\n",
    "        x, data = inputs\n",
    "        x_vals = data[0, :]\n",
    "        loglike_vals = data[1, :]\n",
    "        loglike_eval = interpolate(x_vals, loglike_vals, x)\n",
    "        outputs[0][0] = np.array(loglike_eval)\n",
    "\n",
    "# Initialize operation\n",
    "loglike_op = LogLike()\n",
    "\n",
    "# PyMC model without observed data\n",
    "with pm.Model() as no_grad_model:\n",
    "    # Define prior for x\n",
    "    x = pm.Uniform(\"x\", lower=param_min, upper=param_max, shape=1)\n",
    "\n",
    "    # Add a custom potential for the likelihood\n",
    "    pm.Potential(\"likelihood\", loglike_op(x, data))\n",
    "\n",
    "    # Sample posterior\n",
    "    idata = pm.sample(\n",
    "        200000, \n",
    "        tune=5000,\n",
    "        chains=8,\n",
    "    )"
   ],
   "id": "6ed5c313c9a3eb26",
   "outputs": [
    {
     "name": "stderr",
     "output_type": "stream",
     "text": [
      "Multiprocess sampling (8 chains in 4 jobs)\n",
      "Metropolis: [x]\n"
     ]
    },
    {
     "data": {
      "text/plain": [
       "Output()"
      ],
      "application/vnd.jupyter.widget-view+json": {
       "version_major": 2,
       "version_minor": 0,
       "model_id": "841c37e5b16b4d59a37a782626d78501"
      }
     },
     "metadata": {},
     "output_type": "display_data"
    },
    {
     "data": {
      "text/plain": [],
      "text/html": [
       "<pre style=\"white-space:pre;overflow-x:auto;line-height:normal;font-family:Menlo,'DejaVu Sans Mono',consolas,'Courier New',monospace\"></pre>\n"
      ]
     },
     "metadata": {},
     "output_type": "display_data"
    },
    {
     "data": {
      "text/plain": [
       "\n"
      ],
      "text/html": [
       "<pre style=\"white-space:pre;overflow-x:auto;line-height:normal;font-family:Menlo,'DejaVu Sans Mono',consolas,'Courier New',monospace\">\n",
       "</pre>\n"
      ]
     },
     "metadata": {},
     "output_type": "display_data"
    },
    {
     "name": "stderr",
     "output_type": "stream",
     "text": [
      "Sampling 8 chains for 5_000 tune and 200_000 draw iterations (40_000 + 1_600_000 draws total) took 225 seconds.\n"
     ]
    }
   ],
   "execution_count": 22
  },
  {
   "metadata": {
    "ExecuteTime": {
     "end_time": "2024-12-19T21:20:55.432999Z",
     "start_time": "2024-12-19T21:20:53.939214Z"
    }
   },
   "cell_type": "code",
   "source": "az.summary(idata)",
   "id": "5a3f2e871c5d5a1",
   "outputs": [
    {
     "data": {
      "text/plain": [
       "      mean     sd  hdi_3%  hdi_97%  mcse_mean  mcse_sd  ess_bulk  ess_tail  \\\n",
       "x[0]  0.46  1.063  -1.423    2.303      0.002    0.001  321357.0  344808.0   \n",
       "\n",
       "      r_hat  \n",
       "x[0]    1.0  "
      ],
      "text/html": [
       "<div>\n",
       "<style scoped>\n",
       "    .dataframe tbody tr th:only-of-type {\n",
       "        vertical-align: middle;\n",
       "    }\n",
       "\n",
       "    .dataframe tbody tr th {\n",
       "        vertical-align: top;\n",
       "    }\n",
       "\n",
       "    .dataframe thead th {\n",
       "        text-align: right;\n",
       "    }\n",
       "</style>\n",
       "<table border=\"1\" class=\"dataframe\">\n",
       "  <thead>\n",
       "    <tr style=\"text-align: right;\">\n",
       "      <th></th>\n",
       "      <th>mean</th>\n",
       "      <th>sd</th>\n",
       "      <th>hdi_3%</th>\n",
       "      <th>hdi_97%</th>\n",
       "      <th>mcse_mean</th>\n",
       "      <th>mcse_sd</th>\n",
       "      <th>ess_bulk</th>\n",
       "      <th>ess_tail</th>\n",
       "      <th>r_hat</th>\n",
       "    </tr>\n",
       "  </thead>\n",
       "  <tbody>\n",
       "    <tr>\n",
       "      <th>x[0]</th>\n",
       "      <td>0.46</td>\n",
       "      <td>1.063</td>\n",
       "      <td>-1.423</td>\n",
       "      <td>2.303</td>\n",
       "      <td>0.002</td>\n",
       "      <td>0.001</td>\n",
       "      <td>321357.0</td>\n",
       "      <td>344808.0</td>\n",
       "      <td>1.0</td>\n",
       "    </tr>\n",
       "  </tbody>\n",
       "</table>\n",
       "</div>"
      ]
     },
     "execution_count": 25,
     "metadata": {},
     "output_type": "execute_result"
    }
   ],
   "execution_count": 25
  },
  {
   "metadata": {
    "ExecuteTime": {
     "end_time": "2024-12-19T21:20:57.329365Z",
     "start_time": "2024-12-19T21:20:55.447016Z"
    }
   },
   "cell_type": "code",
   "source": "az.plot_trace(idata)",
   "id": "ebaa844cb82d3e87",
   "outputs": [
    {
     "data": {
      "text/plain": [
       "array([[<Axes: title={'center': 'x'}>, <Axes: title={'center': 'x'}>]],\n",
       "      dtype=object)"
      ]
     },
     "execution_count": 26,
     "metadata": {},
     "output_type": "execute_result"
    },
    {
     "data": {
      "text/plain": [
       "<Figure size 1200x200 with 2 Axes>"
      ],
      "image/png": "[encoded data removed]"
     },
     "metadata": {},
     "output_type": "display_data"
    }
   ],
   "execution_count": 26
  },
  {
   "metadata": {
    "ExecuteTime": {
     "end_time": "2024-12-19T21:20:57.567932Z",
     "start_time": "2024-12-19T21:20:57.336231Z"
    }
   },
   "cell_type": "code",
   "source": "az.plot_posterior(idata)",
   "id": "3e1d663e2e210c03",
   "outputs": [
    {
     "data": {
      "text/plain": [
       "<Axes: title={'center': 'x\\n0'}>"
      ]
     },
     "execution_count": 27,
     "metadata": {},
     "output_type": "execute_result"
    },
    {
     "data": {
      "text/plain": [
       "<Figure size 640x480 with 1 Axes>"
      ],
      "image/png": "[encoded data removed]"
     },
     "metadata": {},
     "output_type": "display_data"
    }
   ],
   "execution_count": 27
  },
  {
   "metadata": {
    "ExecuteTime": {
     "end_time": "2024-12-19T20:57:20.516762Z",
     "start_time": "2024-12-19T20:57:20.498656Z"
    }
   },
   "cell_type": "code",
   "source": [
    "import numpy as np\n",
    "import pytensor.tensor as pt\n",
    "from pytensor.graph.op import Op, Apply\n",
    "import pymc as pm\n",
    "import pandas as pd\n",
    "import matplotlib.pyplot as plt\n",
    "\n",
    "# Define interpolate function\n",
    "def interpolate(x0, y0, x):\n",
    "    x = np.array(x)\n",
    "    idx = np.searchsorted(x0, x)\n",
    "    dl = np.array(x - x0[idx - 1])\n",
    "    dr = np.array(x0[idx] - x)\n",
    "    d = dl + dr\n",
    "    wl = dr / d\n",
    "    return wl * y0[idx - 1] + (1 - wl) * y0[idx]\n",
    "\n",
    "# Load data and ensure it's a NumPy array\n",
    "data = pd.read_csv('grids_example_1.csv', header=None).values\n",
    "param_min = data[0, :].min()\n",
    "param_max = data[0, :].max()"
   ],
   "id": "6c6983b3871ef138",
   "outputs": [],
   "execution_count": 3
  },
  {
   "metadata": {
    "ExecuteTime": {
     "end_time": "2024-12-19T21:07:55.679062Z",
     "start_time": "2024-12-19T21:07:55.591436Z"
    }
   },
   "cell_type": "code",
   "source": [
    "# plot the data\n",
    "plt.plot(data[0, :], data[1, :], 'o')\n",
    "\n",
    "plt.show()"
   ],
   "id": "dc9928c2e76c0881",
   "outputs": [
    {
     "data": {
      "text/plain": [
       "<Figure size 640x480 with 1 Axes>"
      ],
      "image/png": "[encoded data removed]"
     },
     "metadata": {},
     "output_type": "display_data"
    }
   ],
   "execution_count": 21
  },
  {
   "metadata": {},
   "cell_type": "code",
   "outputs": [],
   "execution_count": null,
   "source": "",
   "id": "446b5f00b1072739"
  }
 ],
 "metadata": {
  "kernelspec": {
   "display_name": "Python 3",
   "language": "python",
   "name": "python3"
  },
  "language_info": {
   "codemirror_mode": {
    "name": "ipython",
    "version": 2
   },
   "file_extension": ".py",
   "mimetype": "text/x-python",
   "name": "python",
   "nbconvert_exporter": "python",
   "pygments_lexer": "ipython2",
   "version": "2.7.6"
  }
 },
 "nbformat": 4,
 "nbformat_minor": 5
}
