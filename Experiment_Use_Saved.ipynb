{
 "cells": [
  {
   "metadata": {},
   "cell_type": "code",
   "outputs": [],
   "execution_count": null,
   "source": [
    "import dill\n",
    "import arviz as az\n",
    "import pymc as pm\n",
    "import matplotlib.pyplot as plt\n",
    "import numpy as np"
   ],
   "id": "1b92859e8549758d"
  },
  {
   "metadata": {},
   "cell_type": "code",
   "outputs": [],
   "execution_count": null,
   "source": [
    "with open(\"HDP_models_traces.pkl\", \"rb\") as f:\n",
    "    models, traces, datasets, a_all, b_all = dill.load(f)\n",
    "\n",
    "RANDOM_SEED = 42"
   ],
   "id": "c32fc3d44ad173a"
  },
  {
   "metadata": {},
   "cell_type": "code",
   "outputs": [],
   "execution_count": null,
   "source": [
    "def summary_HDP(trace, model, N_sources=1, k=1):\n",
    "    \"\"\"\n",
    "    Summarize and visualize the HDP model results.\n",
    "\n",
    "    :param trace: Trace of the model\n",
    "    :param model: The model being summarized\n",
    "    :param N_sources: Number of sources\n",
    "    :param k: Number of components for the model\n",
    "    :return: None\n",
    "    \"\"\"\n",
    "    # Variable names to summarize\n",
    "    var_names = [\"α\", \"β\", \"σ\", \"gamma\", \"alpha0\", \"beta\"]\n",
    "    # Add π_norm for each source\n",
    "    for s in range(N_sources):\n",
    "        var_names.append(f\"pi_{s}\")\n",
    "        var_names.append(f\"pi_norm_{s}\")\n",
    "    \n",
    "    # Print summary of the trace\n",
    "    print(az.summary(trace, var_names=var_names))\n",
    "    print(\"Trace summary completed.\")\n",
    "\n",
    "    # Plot trace and posterior distributions\n",
    "    az.plot_trace(trace, var_names=[\"α\", \"β\", \"σ\", \"gamma\", \"alpha0\", \"beta\"])\n",
    "    plt.show()\n",
    "\n",
    "    with model:\n",
    "        posterior_predictive = pm.sample_posterior_predictive(trace, random_seed=RANDOM_SEED)\n",
    "    \n",
    "    az.plot_posterior(trace, var_names=[\"α\", \"β\", \"σ\", \"gamma\", \"alpha0\", \"beta\"])\n",
    "    plt.show()\n",
    "\n",
    "    az.plot_ppc(posterior_predictive, num_pp_samples=1000)\n",
    "    plt.show()\n",
    "\n",
    "    # Bar plot of posterior expected mixture weights\n",
    "    fig, ax = plt.subplots(figsize=(8, 6))\n",
    "    plot_w = np.arange(k) + 1  # Component indices\n",
    "    for s in range(N_sources):\n",
    "        weights = trace.posterior[f\"pi_norm_{s}\"].mean((\"chain\", \"draw\"))\n",
    "        ax.bar(\n",
    "            plot_w - 0.5 + s * 0.1,  # Offset for sources\n",
    "            weights,\n",
    "            width=0.1, label=f\"Source {s + 1}\",\n",
    "        )\n",
    "    \n",
    "    ax.set_xlim(0.5, k + 0.5)\n",
    "    ax.set_xlabel(\"Component\")\n",
    "    ax.set_ylabel(\"Posterior expected mixture weight\")\n",
    "    ax.legend(title=\"Sources\")\n",
    "    plt.show()"
   ],
   "id": "6c8e9a71a0fe78ca"
  },
  {
   "metadata": {},
   "cell_type": "code",
   "outputs": [],
   "execution_count": null,
   "source": [
    "for (ns, nc), (X, Y, proportions) in datasets.items():\n",
    "    print(f\"Running model for setting with {ns} sources and {nc} components.\")\n",
    "    print(f\"True proportions for sources: {proportions}\")\n",
    "    print(f\"True regression parameters (a, b): {a_all[nc - 2]}, {b_all[nc - 2]}\")\n",
    "    summary_HDP(traces[(ns, nc)], models[(ns, nc)], N_sources=ns, k=nc)"
   ],
   "id": "3a5a4ea54322bb66"
  }
 ],
 "metadata": {
  "kernelspec": {
   "display_name": "Python 3",
   "language": "python",
   "name": "python3"
  },
  "language_info": {
   "codemirror_mode": {
    "name": "ipython",
    "version": 2
   },
   "file_extension": ".py",
   "mimetype": "text/x-python",
   "name": "python",
   "nbconvert_exporter": "python",
   "pygments_lexer": "ipython2",
   "version": "2.7.6"
  }
 },
 "nbformat": 4,
 "nbformat_minor": 5
}
