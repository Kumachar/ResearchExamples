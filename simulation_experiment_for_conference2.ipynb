{
 "cells": [
  {
   "metadata": {
    "ExecuteTime": {
     "end_time": "2025-06-18T22:51:06.025552Z",
     "start_time": "2025-06-18T22:51:04.937417Z"
    }
   },
   "cell_type": "code",
   "source": [
    "from tqdm import tqdm\n",
    "import re\n",
    "import numpy as np\n",
    "import matplotlib.pyplot as plt\n",
    "from scipy.integrate import trapezoid\n",
    "from scipy.stats import gaussian_kde\n",
    "import os\n",
    "import jax.random as random\n",
    "import jax\n",
    "import jax.numpy as jnp\n",
    "import numpyro\n",
    "import numpyro.distributions as dist\n",
    "from numpyro.infer import MCMC, NUTS\n",
    "from scipy.special import gammaln, log1p, expit\n",
    "from pathlib import Path\n",
    "import re, numpy as np, pandas as pd, matplotlib.pyplot as plt\n",
    "from scipy.stats     import gaussian_kde\n",
    "from scipy.integrate import trapezoid\n",
    "from scipy.interpolate import interp1d\n",
    "from __future__ import annotations\n",
    "import numpy as np\n",
    "import xarray as xr\n",
    "from typing import List, Dict, Any\n",
    "import os\n",
    "from pathlib import Path\n",
    "import numpy as np\n",
    "import pandas as pd\n",
    "import jax.random as random\n",
    "import jax.numpy as jnp\n",
    "import arviz as az\n",
    "from numpyro.infer import MCMC, NUTS\n",
    "import matplotlib as mpl\n",
    "from datetime import date\n",
    "import statsmodels.api as sm"
   ],
   "id": "ae0d5e20526ea2e",
   "outputs": [],
   "execution_count": 1
  },
  {
   "metadata": {
    "ExecuteTime": {
     "end_time": "2025-06-18T22:51:06.649382Z",
     "start_time": "2025-06-18T22:51:06.600483Z"
    }
   },
   "cell_type": "code",
   "source": [
    "# Save beta density histograms as JPEG files\n",
    "def save_beta_density_hist(\n",
    "        idata,\n",
    "        *,\n",
    "        output_folder: str | Path,\n",
    "        experiment: str,\n",
    "        regex: str = r\"beta_\\d+\",\n",
    "        bins: int = 40,\n",
    "        dpi: int = 300,\n",
    "):\n",
    "    \"\"\"\n",
    "    One figure per beta variable (KDE + histogram) written to\n",
    "    {output_folder}/{experiment}_{varname}.jpg.\n",
    "    Histogram now shows *frequency* and the x-axis label is removed.\n",
    "    \"\"\"\n",
    "    output_folder = Path(output_folder)\n",
    "    output_folder.mkdir(parents=True, exist_ok=True)\n",
    "\n",
    "    posterior = idata.posterior\n",
    "    var_names = [v for v in posterior.data_vars if re.fullmatch(regex, v)]\n",
    "    if not var_names:\n",
    "        raise ValueError(f\"No variables match pattern {regex!r}\")\n",
    "\n",
    "    for var in var_names:\n",
    "        draws = posterior[var].values.reshape(-1)\n",
    "\n",
    "        fig, (ax_kde, ax_hist) = plt.subplots(\n",
    "            2, 1,\n",
    "            figsize=(6, 4),\n",
    "            sharex=True,\n",
    "            gridspec_kw={\"height_ratios\": (2, 1)},\n",
    "        )\n",
    "\n",
    "        # KDE (top)\n",
    "        az.plot_kde(draws, ax=ax_kde, plot_kwargs={\"color\": \"steelblue\"})\n",
    "        ax_kde.set_ylabel(\"Density\")\n",
    "        ax_kde.set_title(\"\")  # no title\n",
    "        ax_kde.set_xlabel(\"\")  # remove x-axis label\n",
    "        ax_kde.grid(True)\n",
    "\n",
    "        # Histogram (bottom) — raw counts\n",
    "        ax_hist.hist(draws, bins=bins, density=False,\n",
    "                     color=\"steelblue\", alpha=0.6)\n",
    "        ax_hist.set_ylabel(\"Frequency\")\n",
    "        ax_hist.set_xlabel(\"\")  # remove x-axis label\n",
    "        ax_hist.grid(True)\n",
    "\n",
    "        fig.tight_layout()\n",
    "\n",
    "        fname = output_folder / f\"{experiment}_{var}.jpg\"\n",
    "        fig.savefig(fname, dpi=dpi, bbox_inches=\"tight\")\n",
    "        plt.close(fig)\n",
    "    print(f\"Saved experiment {experiment} beta densities to {output_folder}\")\n",
    "\n",
    "\n",
    "# Plot empirical prior vs posterior KDEs\n",
    "def plot_df_prior_vs_posterior(\n",
    "        df_sim,\n",
    "        idata,\n",
    "        *,\n",
    "        kde_bw: str | float | None = None,  # bandwidth for gaussian_kde\n",
    "        density_cut: float = 1e-3,  # threshold for x-axis limits\n",
    "        xgrid_len: int = 2000,\n",
    "        save_to: str | Path | None = None,\n",
    "):\n",
    "    \"\"\"\n",
    "    Overlay empirical prior (from profile-likelihoods) with posterior KDEs.\n",
    "\n",
    "    Parameters\n",
    "    ----------\n",
    "    df_sim : DataFrame\n",
    "        Columns ['source', 'outcome', 'point', 'value'];  'value' is log-lik.\n",
    "    idata  : arviz.InferenceData\n",
    "        Must contain variables  beta_<s>.\n",
    "    kde_bw : str | float | None\n",
    "        Passed to gaussian_kde(bw_method=...).  None → Scott’s rule.\n",
    "    density_cut : float\n",
    "        x-axis is restricted to points where max(prior, posterior) > density_cut.\n",
    "    xgrid_len : int\n",
    "        Number of points used to draw the KDE curve.\n",
    "    \"\"\"\n",
    "\n",
    "\n",
    "    # ── 1) detect β_s in the posterior ───────────────────────────\n",
    "    beta_vars = [v for v in idata.posterior.data_vars\n",
    "                 if re.fullmatch(r\"beta_\\d+\", v)]\n",
    "    sources_avl = sorted(int(v.split(\"_\")[1]) for v in beta_vars)\n",
    "    if not sources_avl:\n",
    "        raise ValueError(\"No beta_* variables found in idata.posterior\")\n",
    "\n",
    "    # ── 2) prepare empirical priors ──────────────────────────────\n",
    "    prior_dens = {}\n",
    "    for s in sources_avl:\n",
    "        sub = df_sim[df_sim[\"source\"] == s]\n",
    "        g = sub.groupby(\"point\")[\"value\"].sum().sort_index()\n",
    "        x = g.index.to_numpy()\n",
    "        ll = g.values - g.values.max()\n",
    "        p = np.exp(ll)\n",
    "        p = p / trapezoid(p, x)  # normalise\n",
    "        prior_dens[s] = (x, p)\n",
    "\n",
    "    # ── 3) KDEs for posterior samples ────────────────────────────\n",
    "    post_kde = {}\n",
    "    sample_rng = {}\n",
    "    for s in sources_avl:\n",
    "        samples = idata.posterior[f\"beta_{s}\"].values.flatten()\n",
    "        post_kde[s] = gaussian_kde(samples, bw_method=kde_bw)\n",
    "        sample_rng[s] = (samples.min(), samples.max())\n",
    "\n",
    "    # ── 4) plotting ──────────────────────────────────────────────\n",
    "    n = len(sources_avl)\n",
    "    ncols, nrows = 2, int(np.ceil(n / 2))\n",
    "    fig, axes = plt.subplots(nrows, ncols, figsize=(10, 4 * nrows))\n",
    "    axes = axes.flatten()\n",
    "\n",
    "    for idx, s in enumerate(sources_avl):\n",
    "        x_prior, p_prior = prior_dens[s]\n",
    "        xmin = min(x_prior.min(), sample_rng[s][0])\n",
    "        xmax = max(x_prior.max(), sample_rng[s][1])\n",
    "        xgrid = np.linspace(xmin, xmax, xgrid_len)\n",
    "\n",
    "        p_post = post_kde[s](xgrid)\n",
    "\n",
    "        # ---- x-axis trimming by density_cut ---------------------\n",
    "        mask = np.maximum(\n",
    "            np.interp(xgrid, x_prior, p_prior, left=0, right=0),\n",
    "            p_post\n",
    "        ) > density_cut\n",
    "\n",
    "        if mask.any():\n",
    "            x_lim = (xgrid[mask].min(), xgrid[mask].max())\n",
    "        else:  # fallback: full span\n",
    "            x_lim = (xmin, xmax)\n",
    "\n",
    "        # ---- draw curves ---------------------------------------\n",
    "        axes[idx].plot(x_prior, p_prior, label=\"Prior (Interpolated)\")\n",
    "        axes[idx].plot(xgrid, p_post, label=\"Posterior (KDE)\")\n",
    "\n",
    "        axes[idx].set_title(f\"Source {s}\")\n",
    "        axes[idx].set_xlabel(rf\"$\\beta_{{{s}}}$\")\n",
    "        axes[idx].set_ylabel(\"Density\")\n",
    "        axes[idx].grid(True)\n",
    "        axes[idx].legend()\n",
    "        axes[idx].set_xlim(*x_lim)\n",
    "\n",
    "    # hide unused axes\n",
    "    for ax in axes[n:]:\n",
    "        ax.axis(\"off\")\n",
    "\n",
    "    fig.tight_layout()\n",
    "    save_to\n",
    "    if save_to is not None:\n",
    "        fig.savefig(save_to, dpi=300, bbox_inches=\"tight\")\n",
    "    else:\n",
    "        plt.show()\n",
    "\n",
    "# KL divergence between prior and posterior densities\n",
    "def kl_prior_posterior_beta(\n",
    "    df_sim,\n",
    "    idata,\n",
    "    *,\n",
    "    posterior_bins: int | None = None,\n",
    "    eps: float = 1e-12,\n",
    "):\n",
    "    \"\"\"\n",
    "    Compute KL( posterior || prior) for each beta_s parameter.\n",
    "\n",
    "    The prior density is taken from the profile-likelihood table `df_sim`\n",
    "    (already normalised to integrate to 1).\n",
    "    The posterior density is estimated with a histogram that uses exactly\n",
    "    the same support grid, so the numerical integration is straightforward.\n",
    "\n",
    "    Parameters\n",
    "    ----------\n",
    "    df_sim : DataFrame\n",
    "        Columns: ['source','outcome','point','value'] with log-likelihood\n",
    "        values per grid point.\n",
    "    idata : arviz.InferenceData\n",
    "        Must contain posterior variables  beta_<s>.\n",
    "    posterior_bins : int, optional\n",
    "        If given, overrides the grid from `df_sim` and builds an equally\n",
    "        spaced grid with this many bins.  `None` (default) means: “use the\n",
    "        grid contained in df_sim”.\n",
    "    eps : float\n",
    "        Small positive number added to both densities to avoid log(0).\n",
    "\n",
    "    Returns\n",
    "    -------\n",
    "    kl_dict : dict  {source: KL divergence}\n",
    "    \"\"\"\n",
    "\n",
    "    # -------- 1) Which β_s parameters are present?\n",
    "    beta_vars   = [v for v in idata.posterior.data_vars if re.fullmatch(r\"beta_\\d+\", v)]\n",
    "    sources_avl = sorted(int(v.split(\"_\")[1]) for v in beta_vars)\n",
    "    if not sources_avl:\n",
    "        raise ValueError(\"No beta_* variables found in idata.posterior\")\n",
    "\n",
    "    kl_dict = {}\n",
    "\n",
    "    for s in sources_avl:\n",
    "        # ---------- prior density on its grid --------------------\n",
    "        sub = df_sim[df_sim[\"source\"] == s]\n",
    "        g   = sub.groupby(\"point\")[\"value\"].sum().sort_index()\n",
    "        x_prior = g.index.to_numpy()\n",
    "        ll = g.values - g.values.max()\n",
    "        p_prior = np.exp(ll)\n",
    "        p_prior = p_prior / trapezoid(p_prior, x_prior)\n",
    "\n",
    "        # ---------- choose the grid / bin edges ------------------\n",
    "        if posterior_bins is None:\n",
    "            # use the df_sim grid\n",
    "            # build edges so that each bin is centred on a prior grid point\n",
    "            dx           = np.diff(x_prior)\n",
    "            left_edges   = x_prior[:-1] - dx / 2.0\n",
    "            right_edges  = x_prior[:-1] + dx / 2.0\n",
    "            edges        = np.concatenate(\n",
    "                ([left_edges[0]], right_edges, [x_prior[-1] + dx[-1] / 2.0])\n",
    "            )\n",
    "        else:\n",
    "            edges = np.linspace(x_prior.min(), x_prior.max(), posterior_bins + 1)\n",
    "\n",
    "        # ---------- posterior density on the same grid -----------\n",
    "        samples = idata.posterior[f\"beta_{s}\"].values.flatten()\n",
    "        counts, _ = np.histogram(samples, bins=edges, density=True)\n",
    "        # `counts` is already a density (area = 1); align it with mid-points\n",
    "        if posterior_bins is None:\n",
    "            p_post = counts\n",
    "            dx = np.diff(edges)                # width per bin\n",
    "        else:\n",
    "            # re-evaluate prior on the new grid to match dimensions\n",
    "            mid   = 0.5 * (edges[:-1] + edges[1:])\n",
    "            from scipy.interpolate import interp1d\n",
    "            interp = interp1d(x_prior, p_prior, bounds_error=False, fill_value=0.0)\n",
    "            p_prior = interp(mid)\n",
    "            p_post  = counts\n",
    "            dx      = np.diff(edges)\n",
    "\n",
    "        # ---------- KL divergence (numerical integral) -----------\n",
    "        # add eps to avoid division by / log of zero\n",
    "        p_post_safe  = p_post  + eps\n",
    "        p_prior_safe = p_prior + eps\n",
    "        kl = np.sum(dx * p_post_safe * np.log(p_post_safe / p_prior_safe))\n",
    "\n",
    "        kl_dict[s] = kl\n",
    "\n",
    "    return kl_dict\n",
    "\n",
    "# Summarise prior and posterior statistics for beta parameters\n",
    "def summarise_beta_prior_posterior(\n",
    "        df_sim,\n",
    "        idata,\n",
    "        kl_vals,\n",
    "        experiment_label: int = 1\n",
    "):\n",
    "    \"\"\"\n",
    "    For each beta_s parameter:\n",
    "\n",
    "        • numerical mean  & median of the PRIOR density\n",
    "        • mean, median and 0.95 CI of the POSTERIOR draws\n",
    "        • flag indicating whether the CI contains the prior mean\n",
    "\n",
    "    Returns\n",
    "    -------\n",
    "    stats_df : pandas.DataFrame\n",
    "        Columns\n",
    "            source\n",
    "            prior_mean   prior_median\n",
    "            post_mean    post_median\n",
    "            post_ci_lower  post_ci_upper\n",
    "            ci_covers_prior_mean   (bool)\n",
    "    \"\"\"\n",
    "\n",
    "    # 1 ── locate the beta variables in the posterior\n",
    "    beta_vars = [v for v in idata.posterior.data_vars if re.fullmatch(r\"beta_\\d+\", v)]\n",
    "\n",
    "    sources_avl = sorted(int(v.split(\"_\")[1]) for v in beta_vars)\n",
    "    if not sources_avl:\n",
    "        raise ValueError(\"No beta_* variables found in idata.posterior\")\n",
    "\n",
    "    records = []\n",
    "\n",
    "    # 2 ── loop over sources\n",
    "    for s in sources_avl:\n",
    "        # ----- PRIOR density on grid ----------------------------\n",
    "        sub = df_sim[df_sim[\"source\"] == s]\n",
    "        g = sub.groupby(\"point\")[\"value\"].sum().sort_index()\n",
    "        x = g.index.to_numpy()\n",
    "        ll = g.values - g.values.max()  # stabilise exponentiation\n",
    "        p = np.exp(ll)\n",
    "        p = p / trapezoid(p, x)  # normalise\n",
    "\n",
    "        prior_mean = trapezoid(x * p, x)\n",
    "\n",
    "        # median: CDF crosses 0.5\n",
    "        # cumulative integral (trapezoidal)\n",
    "        cdf = np.concatenate(\n",
    "            ([0.0],\n",
    "             np.cumsum((p[:-1] + p[1:]) / 2 * np.diff(x)))\n",
    "        )\n",
    "        # interpolate to find the 0.5 point\n",
    "        median_interp = interp1d(cdf, x, bounds_error=False)\n",
    "        prior_median = float(median_interp(0.5))\n",
    "\n",
    "        # ----- POSTERIOR summary --------------------------------\n",
    "        samples = idata.posterior[f\"beta_{s}\"].values.flatten()\n",
    "        post_mean = float(np.mean(samples))\n",
    "        post_median = float(np.median(samples))\n",
    "        ci_lower, ci_upper = np.percentile(samples, [2.5, 97.5])\n",
    "\n",
    "        covers = (ci_lower <= prior_mean) and (prior_mean <= ci_upper)\n",
    "        mean_error = prior_mean - post_mean\n",
    "        median_error = prior_median - post_median\n",
    "\n",
    "        records.append(dict(\n",
    "            experiment = experiment_label,\n",
    "            source=\"beta{}\".format(s),\n",
    "            prior_mean=prior_mean,\n",
    "            prior_median=prior_median,\n",
    "            post_mean=post_mean,\n",
    "            post_median=post_median,\n",
    "            mean_error=mean_error,\n",
    "            median_error=median_error,\n",
    "            kl_divergence = kl_vals.get(s, np.nan),\n",
    "            post_ci_lower=ci_lower,\n",
    "            post_ci_upper=ci_upper,\n",
    "            ci_covers_prior_mean=covers,\n",
    "        ))\n",
    "\n",
    "    stats_df = pd.DataFrame.from_records(records)\n",
    "    return stats_df\n",
    "\n",
    "def largest_mean_pi_norm(\n",
    "    idata,\n",
    "    *,\n",
    "    pis: Any | None = None,\n",
    "    pis_var: str = \"pis\",\n",
    ") -> List[Dict[str, Any]]:\n",
    "    \"\"\"\n",
    "    For every source s\n",
    "    ---------------------------------\n",
    "    1. find the component c that maximises the posterior mean of\n",
    "       `pi_norm[s, c]`;\n",
    "    2. also report the *true* largest proportion, i.e.\n",
    "       max_c pis[s, c].\n",
    "\n",
    "    Parameters\n",
    "    ----------\n",
    "    idata : arviz.InferenceData\n",
    "        Must contain posterior variable 'pi_norm'.\n",
    "    pis : array-like or xarray.DataArray, optional\n",
    "        Ground-truth mixing proportions with shape (n_sources, n_components).\n",
    "        If not supplied the function tries to read `idata.posterior[pis_var]`.\n",
    "    pis_var : str\n",
    "        Name of the variable inside `idata.posterior` that stores `pis`\n",
    "        (ignored if `pis` argument is provided).\n",
    "\n",
    "    Returns\n",
    "    -------\n",
    "    List[dict]\n",
    "        One dictionary per source with keys\n",
    "        • source          – int (0-based)\n",
    "        • component       – int, index of argmax of mean π\n",
    "        • mean_value      – float, posterior mean π at that (s, c)\n",
    "        • true_proportion – float, max_c pis[s, c] if available, else None\n",
    "    \"\"\"\n",
    "    # ── posterior mean of pi_norm ―――――――――――――――――――――――――――――――――――――――\n",
    "    mean_pi = idata.posterior[\"pi_norm\"].mean(dim=(\"chain\", \"draw\"))  # (source, component)\n",
    "    mean_vals = mean_pi.values                                        # ndarray (S, C)\n",
    "\n",
    "    # best component index for each source\n",
    "    best_comp_idx = mean_vals.argmax(axis=1)                          # shape (S,)\n",
    "\n",
    "    # ── fetch / validate true proportions ――――――――――――――――――――――――――――――\n",
    "    if pis is None:\n",
    "        if pis_var in idata.posterior:\n",
    "            pis = idata.posterior[pis_var]\n",
    "        else:\n",
    "            pis = None\n",
    "\n",
    "    pis_vals = None\n",
    "    if pis is not None:\n",
    "        pis_vals = _as_ndarray(pis)\n",
    "        if pis_vals.shape != mean_vals.shape:\n",
    "            raise ValueError(\n",
    "                \"Shape mismatch between `pis` \"\n",
    "                f\"{pis_vals.shape} and pi_norm mean {mean_vals.shape}\"\n",
    "            )\n",
    "\n",
    "    # ── assemble results ――――――――――――――――――――――――――――――――――――――――――――――\n",
    "    results = []\n",
    "    for src, comp in enumerate(best_comp_idx):\n",
    "        true_prop = None\n",
    "        if pis_vals is not None:\n",
    "            true_prop = float(pis_vals[src].max())\n",
    "\n",
    "        results.append(\n",
    "            {\n",
    "                \"source\": src,\n",
    "                \"component\": int(comp),\n",
    "                \"mean_value\": float(mean_vals[src, comp]),\n",
    "                \"true_proportion\": true_prop,\n",
    "            }\n",
    "        )\n",
    "    return results\n",
    "\n",
    "def plot_df_prior_vs_posterior(\n",
    "    idata,\n",
    "    beta_df,\n",
    "    *,\n",
    "    kde_bw: str | float | None = None,   # gaussian_kde bandwidth\n",
    "    density_cut: float = 1e-2,           # trim x-axis where both dens < cut\n",
    "    xgrid_len: int = 2_000,\n",
    "    save_to: str | Path | None = None,\n",
    "):\n",
    "    \"\"\"\n",
    "    Overlay prior and posterior densities for every β_s found in *idata*.\n",
    "\n",
    "    Parameters\n",
    "    ----------\n",
    "    idata : arviz.InferenceData\n",
    "        Must contain variables  beta_<s>.\n",
    "    prior_samples : dict[int, ndarray]\n",
    "        Mapping  {source s → 1-D array of prior β draws}.\n",
    "    kde_bw, density_cut, xgrid_len, save_to\n",
    "        Same meaning as before.\n",
    "    \"\"\"\n",
    "\n",
    "    # ── 1) locate β_s in the posterior ────────────────────────────────\n",
    "    prior_samples = (\n",
    "    beta_df\n",
    "    .groupby(\"source\")[\"beta_true\"]\n",
    "    .apply(lambda s: s.values)       # dict: {source → 1-D array}\n",
    "    .to_dict()\n",
    "    )\n",
    "    beta_vars   = [v for v in idata.posterior.data_vars\n",
    "                   if re.fullmatch(r\"beta_\\d+\", v)]\n",
    "    sources_avl = sorted(int(v.split(\"_\")[1]) for v in beta_vars)\n",
    "    if not sources_avl:\n",
    "        raise ValueError(\"No beta_* variables found in idata.posterior\")\n",
    "\n",
    "    # ── 2) KDEs for prior & posterior samples ─────────────────────────\n",
    "    prior_kde  = {}\n",
    "    post_kde   = {}\n",
    "    sample_rng = {}\n",
    "\n",
    "    for s in sources_avl:\n",
    "        if s not in prior_samples:\n",
    "            raise KeyError(f\"prior_samples missing key {s}\")\n",
    "\n",
    "        # prior KDE\n",
    "        prior_draws = np.asarray(prior_samples[s]).ravel()\n",
    "        prior_kde[s] = gaussian_kde(prior_draws, bw_method=kde_bw)\n",
    "\n",
    "        # posterior KDE\n",
    "        post_draws  = idata.posterior[f\"beta_{s}\"].values.ravel()\n",
    "        post_kde[s] = gaussian_kde(post_draws,  bw_method=kde_bw)\n",
    "\n",
    "        sample_rng[s] = (min(prior_draws.min(), post_draws.min()),\n",
    "                         max(prior_draws.max(), post_draws.max()))\n",
    "\n",
    "    # ── 3) plotting ───────────────────────────────────────────────────\n",
    "    n      = len(sources_avl)\n",
    "    ncols  = 2\n",
    "    nrows  = int(np.ceil(n / ncols))\n",
    "    fig, axes = plt.subplots(nrows, ncols, figsize=(10, 4 * nrows))\n",
    "    axes   = axes.flatten()\n",
    "\n",
    "    for idx, s in enumerate(sources_avl):\n",
    "        xmin, xmax = sample_rng[s]\n",
    "        xgrid      = np.linspace(xmin, xmax, xgrid_len)\n",
    "\n",
    "        p_prior = prior_kde[s](xgrid)\n",
    "        p_post  = post_kde[s](xgrid)\n",
    "\n",
    "        # ---- x-axis trimming by density_cut --------------------------\n",
    "        mask = np.maximum(p_prior, p_post) > density_cut\n",
    "        if mask.any():\n",
    "            axes[idx].set_xlim(xgrid[mask].min(), xgrid[mask].max())\n",
    "\n",
    "        # ---- draw curves --------------------------------------------\n",
    "        axes[idx].plot(xgrid, p_prior, label=\"Prior (KDE)\")\n",
    "        axes[idx].plot(xgrid, p_post,  label=\"Posterior (KDE)\")\n",
    "\n",
    "        axes[idx].set_title(f\"Source {s}\")\n",
    "        axes[idx].set_xlabel(rf\"$\\beta_{{{s}}}$\")\n",
    "        axes[idx].set_ylabel(\"Density\")\n",
    "        axes[idx].grid(True)\n",
    "        axes[idx].legend()\n",
    "\n",
    "    for ax in axes[n:]:\n",
    "        ax.axis(\"off\")\n",
    "\n",
    "    fig.tight_layout()\n",
    "    if save_to is not None:\n",
    "        fig.savefig(save_to, dpi=300, bbox_inches=\"tight\")\n",
    "        plt.close(fig)\n",
    "    else:\n",
    "        plt.show()\n",
    "\n",
    "def kl_prior_posterior_beta(\n",
    "    idata,\n",
    "    beta_df: pd.DataFrame | None = None,  # prior samples\n",
    "    *,\n",
    "    posterior_bins: int = 200,    # size of a *shared* equally–spaced grid\n",
    "    eps: float = 1e-12,\n",
    "):\n",
    "    \"\"\"\n",
    "    KL(  posterior  ||  prior )   for each beta_s, where **both** densities are\n",
    "    estimated from Monte-Carlo draws (prior draws you supply + posterior draws\n",
    "    inside *idata*).\n",
    "\n",
    "    Parameters\n",
    "    ----------\n",
    "    idata : arviz.InferenceData\n",
    "        Must contain posterior variables named  beta_<s>.\n",
    "    prior_samples : dict {source -> 1-D array of draws}\n",
    "        The raw β draws representing the prior for every source.\n",
    "        Keys must match the integers “s” in beta_<s>.\n",
    "    posterior_bins : int\n",
    "        Number of equally spaced histogram bins used for *both* densities.\n",
    "    eps : float\n",
    "        Tiny value added to each density to avoid log(0).\n",
    "\n",
    "    Returns\n",
    "    -------\n",
    "    kl_dict : dict {source : KL divergence (float)}\n",
    "    \"\"\"\n",
    "    prior_samples = (\n",
    "    beta_df\n",
    "    .groupby(\"source\")[\"beta_true\"]\n",
    "    .apply(lambda s: s.values)\n",
    "    .to_dict()\n",
    "    )\n",
    "\n",
    "    # 1) which β_s exist in the posterior?\n",
    "    beta_vars   = [v for v in idata.posterior.data_vars if re.fullmatch(r\"beta_\\d+\", v)]\n",
    "    sources_avl = sorted(int(v.split(\"_\")[1]) for v in beta_vars)\n",
    "    if not sources_avl:\n",
    "        raise ValueError(\"No beta_* variables found in idata.posterior\")\n",
    "\n",
    "    kl_dict = {}\n",
    "\n",
    "    for s in sources_avl:\n",
    "        if s not in prior_samples:\n",
    "            raise KeyError(f\"prior_samples missing key {s}\")\n",
    "\n",
    "        # ----- sample arrays --------------------------------------------\n",
    "        prior_draws = np.asarray(prior_samples[s]).ravel()\n",
    "        post_draws  = idata.posterior[f\"beta_{s}\"].values.ravel()\n",
    "\n",
    "        # ----- shared histogram grid ------------------------------------\n",
    "        xmin = min(prior_draws.min(), post_draws.min())\n",
    "        xmax = max(prior_draws.max(), post_draws.max())\n",
    "        edges = np.linspace(xmin, xmax, posterior_bins + 1)\n",
    "        widths = np.diff(edges)                # Δx per bin\n",
    "        mids   = 0.5 * (edges[:-1] + edges[1:])\n",
    "\n",
    "        # ----- densities (area = 1) -------------------------------------\n",
    "        prior_hist, _ = np.histogram(prior_draws, bins=edges, density=True)\n",
    "        post_hist,  _ = np.histogram(post_draws,  bins=edges, density=True)\n",
    "\n",
    "        # ----- KL integral  Σ p_post * log(p_post / p_prior) * Δx --------\n",
    "        p_post  = post_hist  + eps\n",
    "        p_prior = prior_hist + eps\n",
    "        kl      = np.sum(widths * p_post * np.log(p_post / p_prior))\n",
    "\n",
    "        kl_dict[s] = kl\n",
    "\n",
    "    return kl_dict\n",
    "\n",
    "def summarise_beta_prior_posterior(\n",
    "    idata,\n",
    "    beta_df: pd.DataFrame | None = None,\n",
    "    *,\n",
    "    kl_dict: dict[int, float] | None = None,\n",
    "    experiment_label: int | str = 1,\n",
    "):\n",
    "    \"\"\"\n",
    "    Summarise PRIOR vs POSTERIOR for each β_s.\n",
    "\n",
    "    Parameters\n",
    "    ----------\n",
    "    idata : arviz.InferenceData\n",
    "        Must contain posterior variables named  beta_<s>.\n",
    "    prior_samples : dict {source → 1-D array of draws}\n",
    "        Monte-Carlo draws representing the prior for every source.\n",
    "    kl_dict : dict {source → KL divergence}, optional\n",
    "        If you have already computed KL( post || prior ) you can pass it here\n",
    "        so the values are copied into the output table.  Missing keys get NaN.\n",
    "    experiment_label : hashable\n",
    "        Copied verbatim into the “experiment” column so you can concatenate\n",
    "        results from many runs.\n",
    "\n",
    "    Returns\n",
    "    -------\n",
    "    stats_df : pandas.DataFrame\n",
    "        Columns:\n",
    "            experiment  source\n",
    "            prior_mean  prior_median\n",
    "            post_mean   post_median\n",
    "            mean_error  median_error\n",
    "            kl_divergence\n",
    "            post_ci_lower  post_ci_upper\n",
    "            ci_covers_prior_mean   (bool)\n",
    "    \"\"\"\n",
    "    prior_samples = (\n",
    "    beta_df.groupby(\"source\")[\"beta_true\"]\n",
    "           .apply(lambda s: s.values)       # dict {source → draws}\n",
    "           .to_dict()\n",
    "    )\n",
    "\n",
    "    # ── 1) locate β_s in the posterior ──────────────────────────────────\n",
    "    beta_vars   = [v for v in idata.posterior.data_vars if re.fullmatch(r\"beta_\\d+\", v)]\n",
    "    sources_avl = sorted(int(v.split(\"_\")[1]) for v in beta_vars)\n",
    "    if not sources_avl:\n",
    "        raise ValueError(\"No beta_* variables found in idata.posterior\")\n",
    "\n",
    "    if kl_dict is None:\n",
    "        kl_dict = {}\n",
    "\n",
    "    records = []\n",
    "\n",
    "    # 2 ── per-source summary\n",
    "    for s in sources_avl:\n",
    "        if s not in prior_samples:\n",
    "            raise KeyError(f\"prior_samples missing key {s}\")\n",
    "\n",
    "        prior_draws  = np.asarray(prior_samples[s]).ravel()\n",
    "        prior_mean   = float(np.mean(prior_draws))\n",
    "        prior_median = float(np.median(prior_draws))\n",
    "\n",
    "        post_draws   = idata.posterior[f\"beta_{s}\"].values.ravel()\n",
    "        post_mean    = float(np.mean(post_draws))\n",
    "        post_median  = float(np.median(post_draws))\n",
    "        ci_lower, ci_upper = np.percentile(post_draws, [2.5, 97.5])   # ← call via np\n",
    "\n",
    "        records.append(dict(\n",
    "            experiment           = experiment_label,\n",
    "            source               = f\"beta{s}\",\n",
    "            prior_mean           = prior_mean,\n",
    "            prior_median         = prior_median,\n",
    "            post_mean            = post_mean,\n",
    "            post_median          = post_median,\n",
    "            mean_error           = prior_mean - post_mean,\n",
    "            median_error         = prior_median - post_median,\n",
    "            kl_divergence        = kl_dict.get(s, np.nan),\n",
    "            post_ci_lower        = ci_lower,\n",
    "            post_ci_upper        = ci_upper,\n",
    "            ci_covers_prior_mean = ci_lower <= prior_mean <= ci_upper,\n",
    "        ))\n",
    "\n",
    "    return pd.DataFrame.from_records(records)\n",
    "\n",
    "def store_beta_posteriors(\n",
    "        idata,\n",
    "        df_sim: pd.DataFrame,\n",
    "        *,\n",
    "        beta_df: pd.DataFrame | None = None,\n",
    "        output_folder: str | Path,\n",
    "        file_ext: str = \"npz\",\n",
    "        compress: bool = True,\n",
    "        regex: str = r\"beta_\\d+\",\n",
    ") -> dict[str, dict[str, np.ndarray]]:\n",
    "    \"\"\"\n",
    "    Persist posterior samples of β parameters plus their empirical priors.\n",
    "\n",
    "    For each posterior variable that matches *regex*\n",
    "    (default pattern ``beta_<number>``) the function\n",
    "\n",
    "    1. extracts all posterior draws and flattens them to 1-D;\n",
    "    2. selects the slice of *df_sim* that belongs to the same *source*\n",
    "       (the integer following the underscore);\n",
    "    3. writes a single file\n",
    "\n",
    "           beta_<s>.npz   (or .npy)\n",
    "\n",
    "       with three NumPy arrays:\n",
    "           • samples – posterior draws            (shape = [n_draws])\n",
    "           • grid    – grid points used in prior  (shape = [m])\n",
    "           • loglik  – log-likelihood on that grid (shape = [m])\n",
    "\n",
    "    Parameters\n",
    "    ----------\n",
    "    idata : arviz.InferenceData\n",
    "        Posterior container produced by NumPyro / ArviZ.\n",
    "    df_sim : pandas.DataFrame\n",
    "        Columns ['source','outcome','point','value']; *value* is a\n",
    "        log-likelihood.  Log-likelihoods for identical (source, point)\n",
    "        pairs are summed before being stored.\n",
    "    output_folder : str | pathlib.Path\n",
    "        Where the files are written (created if missing).\n",
    "    file_ext : {\"npz\",\"npy\"}, default \"npz\"\n",
    "        Storage format.  If \"npz\" you may enable compressed archives\n",
    "        via *compress=True* (default).\n",
    "    compress : bool, default True\n",
    "        Compression flag for the “npz” format.\n",
    "    regex : str, default r\"beta_\\\\d+\"\n",
    "        Pattern that selects β variables inside *idata.posterior*.\n",
    "\n",
    "    Returns\n",
    "    -------\n",
    "    dict\n",
    "        A mapping ``{ \"beta_<s>\" : { \"samples\":…, \"grid\":…, \"loglik\":… }, … }``\n",
    "        matching what has been written to disk.\n",
    "    \"\"\"\n",
    "\n",
    "    output_folder = Path(output_folder)\n",
    "    output_folder.mkdir(parents=True, exist_ok=True)\n",
    "\n",
    "    beta_vars = [v for v in idata.posterior.data_vars if re.fullmatch(regex, v)]\n",
    "    if not beta_vars:\n",
    "        raise ValueError(f\"No beta variables match {regex!r}\")\n",
    "\n",
    "    result: dict[str, dict[str, np.ndarray]] = {}\n",
    "\n",
    "    for var in sorted(beta_vars, key=lambda v: int(v.split(\"_\")[1])):\n",
    "        s = int(var.split(\"_\")[1])  # source number\n",
    "        samples = idata.posterior[var].values.reshape(-1)\n",
    "\n",
    "        # ---- empirical prior slice (summed over outcomes) ----\n",
    "        mask = df_sim[\"source\"] == s\n",
    "        if not mask.any():\n",
    "            raise ValueError(f\"df_sim contains no rows for source={s}\")\n",
    "\n",
    "        sub = (\n",
    "            df_sim.loc[mask, [\"point\", \"value\"]]\n",
    "            .groupby(\"point\", sort=True)[\"value\"]\n",
    "            .sum()\n",
    "            .sort_index()\n",
    "        )\n",
    "        grid, loglik = sub.index.to_numpy(), sub.values\n",
    "\n",
    "        if beta_df is not None:\n",
    "            # If beta_df is provided, we can also extract the prior samples\n",
    "            prior_samples = beta_df[beta_df[\"source\"] == s][\"beta_true\"].values\n",
    "            bundle = {\n",
    "                \"samples\": samples,\n",
    "                \"grid\": grid,\n",
    "                \"loglik\": loglik,\n",
    "                \"prior_samples\": prior_samples\n",
    "            }\n",
    "        else:\n",
    "            bundle = {\n",
    "                \"samples\": samples,\n",
    "                \"grid\": grid,\n",
    "                \"loglik\": loglik,\n",
    "                \"prior_samples\": np.array([])  # empty if no prior samples\n",
    "            }\n",
    "        result[var] = bundle\n",
    "\n",
    "        fname = output_folder / f\"{var}.{file_ext}\"\n",
    "        if file_ext == \"npz\":\n",
    "            (np.savez_compressed if compress else np.savez)(fname, **bundle)\n",
    "        elif file_ext == \"npy\":\n",
    "            np.save(fname, bundle, allow_pickle=True)\n",
    "        else:\n",
    "            raise ValueError(\"file_ext must be 'npz' or 'npy'\")\n",
    "\n",
    "    print(f\"Stored {len(result)} β posteriors in {output_folder}\")\n",
    "    return result\n",
    "\n",
    "def load_beta_posteriors(\n",
    "        folder: str | Path,\n",
    "        *,\n",
    "        file_ext: str = \"npz\",\n",
    "        regex: str = r\"beta_\\d+\\.\"  # automatically completed with file_ext\n",
    ") -> dict[str, dict[str, np.ndarray]]:\n",
    "    \"\"\"\n",
    "    Read back the objects produced by `store_beta_posteriors`.\n",
    "\n",
    "    Parameters\n",
    "    ----------\n",
    "    folder : str | pathlib.Path\n",
    "        Directory that contains the saved `beta_<s>.<ext>` files.\n",
    "    file_ext : {\"npz\", \"npy\"}, default \"npz\"\n",
    "        Extension that was used when saving.\n",
    "    regex : str, default r\"beta_\\\\d+\\\\.\"\n",
    "        A prefix for the file-name pattern; the extension is appended\n",
    "        automatically.  Change only if you saved under a different name\n",
    "        convention.\n",
    "\n",
    "    Returns\n",
    "    -------\n",
    "    dict\n",
    "        Mapping ``{ \"beta_<s>\" : { \"samples\":…, \"grid\":…, \"loglik\":… }, … }``.\n",
    "    \"\"\"\n",
    "    folder = Path(folder)\n",
    "    if not folder.is_dir():\n",
    "        raise FileNotFoundError(f\"{folder} is not a directory\")\n",
    "\n",
    "    pattern = re.compile(regex + re.escape(file_ext) + r\"$\")\n",
    "    output: dict[str, dict[str, np.ndarray]] = {}\n",
    "\n",
    "    for f in sorted(folder.iterdir()):\n",
    "        if not pattern.fullmatch(f.name):\n",
    "            continue\n",
    "        varname = f.stem  # e.g. \"beta_1\"\n",
    "        if file_ext == \"npz\":\n",
    "            with np.load(f, allow_pickle=False) as data:\n",
    "                output[varname] = {\n",
    "                    \"samples\": data[\"samples\"],\n",
    "                    \"grid\": data[\"grid\"],\n",
    "                    \"loglik\": data[\"loglik\"],\n",
    "                    \"prior_samples\": data[\"prior_samples\"] if \"prior_samples\" in data else np.array([]),\n",
    "                }\n",
    "        elif file_ext == \"npy\":\n",
    "            output[varname] = np.load(f, allow_pickle=True).item()\n",
    "        else:\n",
    "            raise ValueError(\"file_ext must be 'npz' or 'npy'\")\n",
    "\n",
    "    if not output:\n",
    "        raise RuntimeError(f\"No *.{file_ext} files that match {regex} found in {folder}\")\n",
    "\n",
    "    print(f\"Loaded {len(output)} β posterior archives from {folder}\")\n",
    "    return output\n",
    "\n",
    "\n",
    "def _as_ndarray(obj) -> np.ndarray:\n",
    "    \"\"\"Return obj as a NumPy array, handling xarray objects transparently.\"\"\"\n",
    "    if isinstance(obj, (np.ndarray, list, tuple)):\n",
    "        return np.asarray(obj)\n",
    "    if isinstance(obj, (xr.DataArray, xr.Dataset)):\n",
    "        return obj.values\n",
    "    raise TypeError(\n",
    "        \"Expected NumPy array-like or xarray object for `pis`, \"\n",
    "        f\"got {type(obj).__name__}\"\n",
    "    )\n",
    "\n",
    "\n",
    "def largest_mean_pi_norm(\n",
    "    idata,\n",
    "    *,\n",
    "    pis: Any | None = None,\n",
    "    pis_var: str = \"pis\",\n",
    ") -> List[Dict[str, Any]]:\n",
    "    \"\"\"\n",
    "    For every source s\n",
    "    ---------------------------------\n",
    "    1. find the component c that maximises the posterior mean of\n",
    "       `pi_norm[s, c]`;\n",
    "    2. also report the *true* largest proportion, i.e.\n",
    "       max_c pis[s, c].\n",
    "\n",
    "    Parameters\n",
    "    ----------\n",
    "    idata : arviz.InferenceData\n",
    "        Must contain posterior variable 'pi_norm'.\n",
    "    pis : array-like or xarray.DataArray, optional\n",
    "        Ground-truth mixing proportions with shape (n_sources, n_components).\n",
    "        If not supplied the function tries to read `idata.posterior[pis_var]`.\n",
    "    pis_var : str\n",
    "        Name of the variable inside `idata.posterior` that stores `pis`\n",
    "        (ignored if `pis` argument is provided).\n",
    "\n",
    "    Returns\n",
    "    -------\n",
    "    List[dict]\n",
    "        One dictionary per source with keys\n",
    "        • source          – int (0-based)\n",
    "        • component       – int, index of argmax of mean π\n",
    "        • mean_value      – float, posterior mean π at that (s, c)\n",
    "        • true_proportion – float, max_c pis[s, c] if available, else None\n",
    "    \"\"\"\n",
    "    # ── posterior mean of pi_norm ―――――――――――――――――――――――――――――――――――――――\n",
    "    mean_pi = idata.posterior[\"pi_norm\"].mean(dim=(\"chain\", \"draw\"))  # (source, component)\n",
    "    mean_vals = mean_pi.values                                        # ndarray (S, C)\n",
    "\n",
    "    # best component index for each source\n",
    "    best_comp_idx = mean_vals.argmax(axis=1)                          # shape (S,)\n",
    "\n",
    "    # ── fetch / validate true proportions ――――――――――――――――――――――――――――――\n",
    "    if pis is None:\n",
    "        if pis_var in idata.posterior:\n",
    "            pis = idata.posterior[pis_var]\n",
    "        else:\n",
    "            pis = None\n",
    "\n",
    "    pis_vals = None\n",
    "    if pis is not None:\n",
    "        pis_vals = _as_ndarray(pis)\n",
    "        if pis_vals.shape != mean_vals.shape:\n",
    "            raise ValueError(\n",
    "                \"Shape mismatch between `pis` \"\n",
    "                f\"{pis_vals.shape} and pi_norm mean {mean_vals.shape}\"\n",
    "            )\n",
    "\n",
    "    # ── assemble results ――――――――――――――――――――――――――――――――――――――――――――――\n",
    "    results = []\n",
    "    for src, comp in enumerate(best_comp_idx):\n",
    "        true_prop = None\n",
    "        if pis_vals is not None:\n",
    "            true_prop = float(pis_vals[src].max())\n",
    "\n",
    "        results.append(\n",
    "            {\n",
    "                \"source\": src,\n",
    "                \"component\": int(comp),\n",
    "                \"mean_value\": float(mean_vals[src, comp]),\n",
    "                \"true_proportion\": true_prop,\n",
    "            }\n",
    "        )\n",
    "    return results\n",
    "\n"
   ],
   "id": "5ffa055f541abefd",
   "outputs": [],
   "execution_count": 2
  },
  {
   "metadata": {},
   "cell_type": "markdown",
   "source": "# Poisson regression mixture model",
   "id": "562ce2f78e3c7c23"
  },
  {
   "metadata": {
    "ExecuteTime": {
     "end_time": "2025-06-18T22:51:18.677776Z",
     "start_time": "2025-06-18T22:51:18.483336Z"
    }
   },
   "cell_type": "code",
   "source": [
    "def simulate_profile_likelihoods_poisson(\n",
    "    K=5, S=8, O=8, n_obs=100,\n",
    "    *, beta_mean=None, beta_sds=None, true_pis=None, grid=None, seed=0\n",
    "):\n",
    "    rng = np.random.default_rng(seed)\n",
    "    if beta_mean is None:\n",
    "        beta_mean = np.linspace(-1, 1, K)\n",
    "    if beta_sds is None:\n",
    "        beta_sds = np.full(K, 0.15)\n",
    "    beta_mean = np.asarray(beta_mean, float)\n",
    "    beta_sds = np.asarray(beta_sds, float)\n",
    "    if grid is None:\n",
    "        raise ValueError(\"Provide grid\")\n",
    "    grid = np.asarray(grid, float)\n",
    "    if true_pis is None:\n",
    "        true_pis = rng.dirichlet(np.ones(K)*2.0, size=S)\n",
    "\n",
    "    # This will hold all (x_i,y_i) for each source so we can fit one GLM per source\n",
    "    data_by_source = {s: {\"x\": [], \"y\": []} for s in range(S)}\n",
    "\n",
    "    recs, beta_recs = [], []\n",
    "    for s in range(S):\n",
    "        pi_s = true_pis[s]\n",
    "        for o in range(O):\n",
    "            # 1) simulate latent β_i and data\n",
    "            z = rng.choice(K, size=n_obs, p=pi_s)\n",
    "            beta_i = rng.normal(beta_mean[z], beta_sds[z])\n",
    "            x_i = rng.uniform(-1, 1, n_obs)\n",
    "            lam = np.exp(beta_i * x_i)\n",
    "            y_i = rng.poisson(lam)\n",
    "\n",
    "            # record for later GLM\n",
    "            data_by_source[s][\"x\"].append(x_i)\n",
    "            data_by_source[s][\"y\"].append(y_i)\n",
    "\n",
    "            # 2) profile log-lik steps\n",
    "            for b in grid:\n",
    "                logp = y_i * (b * x_i) - np.exp(b * x_i) - gammaln(y_i + 1)\n",
    "                recs.append({\n",
    "                    \"source\": s+1,\n",
    "                    \"outcome\": o+1,\n",
    "                    \"point\": b,\n",
    "                    \"value\": logp.sum()\n",
    "                })\n",
    "\n",
    "            # 3) true β’s\n",
    "            beta_recs.append({\n",
    "                \"source\": s+1,\n",
    "                \"outcome\": o+1,\n",
    "                \"beta_true\": beta_i.copy()\n",
    "            })\n",
    "\n",
    "    # assemble simulation outputs\n",
    "    df_sim  = pd.DataFrame.from_records(recs)\n",
    "    beta_df = pd.DataFrame.from_records(beta_recs)\n",
    "\n",
    "    # 4) fit one Poisson GLM per source (pooling across all outcomes)\n",
    "    est_recs = []\n",
    "    for s in range(S):\n",
    "        x_all = np.concatenate(data_by_source[s][\"x\"])\n",
    "        y_all = np.concatenate(data_by_source[s][\"y\"])\n",
    "        X = sm.add_constant(x_all)              # design matrix [ intercept, x ]\n",
    "        model = sm.GLM(y_all, X, family=sm.families.Poisson())\n",
    "        res   = model.fit()\n",
    "        est_recs.append({\n",
    "            \"source\": s+1,\n",
    "            \"beta_est\": res.params[1]           # coefficient on x\n",
    "        })\n",
    "    est_df = pd.DataFrame.from_records(est_recs)\n",
    "\n",
    "    return df_sim, true_pis, beta_df, est_df\n",
    "\n",
    "rng = np.random.default_rng(42)\n",
    "\n",
    "grid_pts   = np.linspace(-3, 3, 200)\n",
    "#mean draw from gaussian with mean 1 and sd 0.15\n",
    "beta_mean = rng.normal(loc=2.0, scale=3.0, size=5)\n",
    "beta_sds = np.abs(rng.normal(loc=0.0, scale=1.0, size=5))\n",
    "\n",
    "df_sim, true_pis, beta_df, est_df = simulate_profile_likelihoods_poisson(\n",
    "    K=5, S=8, O=8, n_obs=100,\n",
    "    beta_mean=beta_mean,\n",
    "    beta_sds=beta_sds,\n",
    "    grid=grid_pts,\n",
    "    seed=42\n",
    ")\n",
    "\n",
    "df_sim.to_csv(\"simulated_profileLikelihoods.csv\", index=False)"
   ],
   "id": "549effe457ee9af5",
   "outputs": [],
   "execution_count": 3
  },
  {
   "metadata": {
    "ExecuteTime": {
     "end_time": "2025-06-17T12:58:00.658587Z",
     "start_time": "2025-06-17T12:58:00.447616Z"
    }
   },
   "cell_type": "code",
   "source": [
    "import numpy as np\n",
    "import pandas as pd\n",
    "import matplotlib.pyplot as plt\n",
    "from scipy.stats import gaussian_kde\n",
    "from scipy.integrate import trapezoid\n",
    "from scipy.special import gammaln\n",
    "import statsmodels.api as sm\n",
    "\n",
    "def simulate_profile_likelihoods_poisson(\n",
    "    K: int = 5,\n",
    "    S: int = 8,\n",
    "    O: int = 8,\n",
    "    n_obs: int = 100,\n",
    "    *,\n",
    "    beta_mean: np.ndarray | None = None,\n",
    "    beta_sds:  np.ndarray | None = None,\n",
    "    true_pis:  np.ndarray | None = None,\n",
    "    grid:      np.ndarray | None = None,\n",
    "    seed: int = 0,\n",
    "):\n",
    "    rng = np.random.default_rng(seed)\n",
    "    if beta_mean is None:\n",
    "        beta_mean = np.linspace(-1, 1, K)\n",
    "    if beta_sds is None:\n",
    "        beta_sds = np.full(K, 0.15)\n",
    "    beta_mean = np.asarray(beta_mean, dtype=float)\n",
    "    beta_sds  = np.asarray(beta_sds,  dtype=float)\n",
    "    if beta_mean.shape != (K,) or beta_sds.shape != (K,):\n",
    "        raise ValueError(\"beta_mean and beta_sds must be length-K arrays\")\n",
    "    if grid is None:\n",
    "        raise ValueError(\"Provide a 1-D array of grid points via `grid`\")\n",
    "    grid = np.asarray(grid, dtype=float)\n",
    "    if true_pis is None:\n",
    "        true_pis = rng.dirichlet(np.ones(K) * 2.0, size=S)\n",
    "\n",
    "    recs = []\n",
    "    beta_recs = []\n",
    "    X_list = []\n",
    "    Y_list = []\n",
    "\n",
    "    for s in range(S):\n",
    "        pi_s = true_pis[s]\n",
    "        for o in range(O):\n",
    "            z      = rng.choice(K, size=n_obs, p=pi_s)\n",
    "            beta_i = rng.normal(loc=beta_mean[z], scale=beta_sds[z])\n",
    "            beta_recs.append({\"source\": s+1, \"outcome\": o+1, \"beta_true\": beta_i.copy()})\n",
    "            x_i = rng.uniform(-1, 1, size=n_obs)\n",
    "            lam = np.exp(beta_i * x_i)\n",
    "            y_i = rng.poisson(lam)\n",
    "            X_list.append({\"source\": s+1, \"outcome\": o+1, \"x\": x_i.copy()})\n",
    "            Y_list.append({\"source\": s+1, \"outcome\": o+1, \"y\": y_i.copy()})\n",
    "            for b in grid:\n",
    "                logp = y_i * (b * x_i) - np.exp(b * x_i) - gammaln(y_i + 1)\n",
    "                recs.append({\"source\": s+1, \"outcome\": o+1, \"point\": b, \"value\": logp.sum()})\n",
    "\n",
    "    df_sim  = pd.DataFrame.from_records(recs)\n",
    "    beta_df = pd.DataFrame.from_records(beta_recs)\n",
    "    return df_sim, true_pis, beta_df, X_list, Y_list\n",
    "\n",
    "def plot_source_density_vs_likelihood(\n",
    "    s: int,\n",
    "    df_sim: pd.DataFrame,\n",
    "    beta_df: pd.DataFrame,\n",
    "    X_list: list[dict],\n",
    "    Y_list: list[dict],\n",
    "    *,\n",
    "    kde_bw: str | float | None = None,\n",
    "    xgrid_len: int = 2000,\n",
    "    ax: plt.Axes | None = None,\n",
    "):\n",
    "    # 1) subset for the requested source\n",
    "    sim_sub = df_sim[df_sim[\"source\"] == s]\n",
    "    beta_raw = beta_df[beta_df[\"source\"] == s][\"beta_true\"].to_numpy()\n",
    "    if sim_sub.empty or beta_raw.size == 0:\n",
    "        raise ValueError(f\"No records found for source {s}\")\n",
    "    beta_list = [np.atleast_1d(entry) for entry in beta_raw]\n",
    "    beta_sub = np.concatenate(beta_list).astype(float)\n",
    "\n",
    "    # 2) flatten X and Y for Poisson regression\n",
    "    x_all = np.concatenate([d[\"x\"] for d in X_list if d[\"source\"] == s])\n",
    "    y_all = np.concatenate([d[\"y\"] for d in Y_list if d[\"source\"] == s])\n",
    "\n",
    "    # 3) fit Poisson regression (no intercept): log(E[y]) = b * x\n",
    "    model = sm.GLM(y_all, x_all[:, None], family=sm.families.Poisson())\n",
    "    result = model.fit()\n",
    "    b_est = result.params[0]\n",
    "\n",
    "    # 4) KDE for β samples\n",
    "    kde = gaussian_kde(beta_sub, bw_method=kde_bw)\n",
    "\n",
    "    # 5) profile-likelihood → density\n",
    "    g = sim_sub.groupby(\"point\")[\"value\"].sum().sort_index()\n",
    "    x_lik = g.index.to_numpy()\n",
    "    loglik = g.values - g.values.max()\n",
    "    p_lik = np.exp(loglik)\n",
    "    p_lik /= trapezoid(p_lik, x_lik)\n",
    "\n",
    "    # 6) compute sample mean & profile MLE\n",
    "    sample_mean = beta_sub.mean()\n",
    "    mle = x_lik[np.argmax(p_lik)]\n",
    "\n",
    "    print(f\"Source {s}: sample mean = {sample_mean:.4f}, profile MLE = {mle:.4f}, Poisson GLM β = {b_est:.4f}\")\n",
    "\n",
    "    # 7) plot\n",
    "    xmin = min(x_lik.min(), beta_sub.min())\n",
    "    xmax = max(x_lik.max(), beta_sub.max())\n",
    "    xgrid = np.linspace(xmin, xmax, xgrid_len)\n",
    "    if ax is None:\n",
    "        fig, ax = plt.subplots(figsize=(6, 4))\n",
    "    ax.plot(xgrid, kde(xgrid), label=\"Sample density (KDE)\", lw=2)\n",
    "    ax.plot(x_lik, p_lik, label=\"Normalized likelihood\", lw=2, alpha=0.8)\n",
    "    ax.axvline(b_est, linestyle=\"--\", label=\"Poisson GLM β\", lw=2)\n",
    "    ax.set_title(f\"Source {s}: density vs likelihood with Poisson GLM\")\n",
    "    ax.set_xlabel(r\"$\\beta$\")\n",
    "    ax.set_ylabel(\"Density\")\n",
    "    ax.grid(True)\n",
    "    ax.legend()\n",
    "    return ax, beta_sub\n",
    "\n",
    "# Example usage\n",
    "rng = np.random.default_rng(42)\n",
    "grid_pts = np.linspace(-10, 10, 200)\n",
    "beta_mean = rng.normal(loc=2.0, scale=3.0, size=5)\n",
    "beta_sds  = np.abs(rng.normal(loc=0.0, scale=1.0, size=5))\n",
    "\n",
    "df_sim, true_pis, beta_df, X_list, Y_list = simulate_profile_likelihoods_poisson(\n",
    "    K=5, S=8, O=8, n_obs=100,\n",
    "    beta_mean=beta_mean,\n",
    "    beta_sds=beta_sds,\n",
    "    grid=grid_pts,\n",
    "    seed=42\n",
    ")\n",
    "\n",
    "# Plot for source 1\n",
    "ax, beta_sub = plot_source_density_vs_likelihood(7, df_sim, beta_df, X_list, Y_list)\n",
    "plt.show()\n"
   ],
   "id": "6da5f8d42b6d4151",
   "outputs": [
    {
     "name": "stdout",
     "output_type": "stream",
     "text": [
      "Source 7: sample mean = 2.2631, profile MLE = 3.7688, Poisson GLM β = 3.8192\n"
     ]
    },
    {
     "data": {
      "text/plain": [
       "<Figure size 600x400 with 1 Axes>"
      ],
      "image/png": "[encoded data removed]"
     },
     "metadata": {},
     "output_type": "display_data"
    }
   ],
   "execution_count": 80
  },
  {
   "metadata": {
    "ExecuteTime": {
     "end_time": "2025-06-17T12:58:06.452935Z",
     "start_time": "2025-06-17T12:58:05.475179Z"
    }
   },
   "cell_type": "code",
   "source": [
    "def plot_source_outcome_density_vs_likelihood(\n",
    "    s: int,\n",
    "    o: int,\n",
    "    df_sim: pd.DataFrame,\n",
    "    beta_df: pd.DataFrame,\n",
    "    X_list: list[dict],\n",
    "    Y_list: list[dict],\n",
    "    *,\n",
    "    kde_bw: str | float | None = None,\n",
    "    xgrid_len: int = 2000,\n",
    "    ax: plt.Axes | None = None,\n",
    "):\n",
    "    # filter for specific source & outcome\n",
    "    sim_sub = df_sim[(df_sim[\"source\"] == s) & (df_sim[\"outcome\"] == o)]\n",
    "    beta_raw = beta_df[(beta_df[\"source\"] == s) & (beta_df[\"outcome\"] == o)][\"beta_true\"].to_numpy()\n",
    "    if sim_sub.empty or beta_raw.size == 0:\n",
    "        raise ValueError(f\"No records for source {s}, outcome {o}\")\n",
    "\n",
    "    # flatten beta vector\n",
    "    beta_sub = np.atleast_1d(beta_raw[0]).astype(float)\n",
    "\n",
    "    # flatten X and Y vectors\n",
    "    x_all = np.atleast_1d([d[\"x\"] for d in X_list if d[\"source\"]==s and d[\"outcome\"]==o][0]).astype(float)\n",
    "    y_all = np.atleast_1d([d[\"y\"] for d in Y_list if d[\"source\"]==s and d[\"outcome\"]==o][0]).astype(int)\n",
    "\n",
    "    # fit Poisson regression (no intercept)\n",
    "    model = sm.GLM(y_all, x_all[:, None], family=sm.families.Poisson())\n",
    "    result = model.fit()\n",
    "    b_est = result.params[0]\n",
    "\n",
    "    # KDE density\n",
    "    kde = gaussian_kde(beta_sub, bw_method=kde_bw)\n",
    "\n",
    "    # profile-likelihood → density\n",
    "    g = sim_sub.groupby(\"point\")[\"value\"].sum().sort_index()\n",
    "    x_lik = g.index.to_numpy()\n",
    "    loglik = g.values - g.values.max()\n",
    "    p_lik = np.exp(loglik)\n",
    "    p_lik /= trapezoid(p_lik, x_lik)\n",
    "\n",
    "    # summary stats\n",
    "    sample_mean = np.mean(beta_sub)\n",
    "    mle = x_lik[np.argmax(p_lik)]\n",
    "    print(f\"Source {s}, Outcome {o}: mean={sample_mean:.4f}, MLE={mle:.4f}, GLM β={b_est:.4f}\")\n",
    "\n",
    "    # x-grid\n",
    "    xmin, xmax = beta_sub.min(), beta_sub.max()\n",
    "    xmin = min(xmin, x_lik.min())\n",
    "    xmax = max(xmax, x_lik.max())\n",
    "    xgrid = np.linspace(xmin, xmax, xgrid_len)\n",
    "\n",
    "    # plot\n",
    "    if ax is None:\n",
    "        fig, ax = plt.subplots(figsize=(6, 4))\n",
    "    ax.set_xlim(-3, 3)\n",
    "    ax.plot(xgrid, kde(xgrid), label=\"Sample density (KDE)\", lw=2)\n",
    "    ax.plot(x_lik, p_lik, label=\"Normalized likelihood\", lw=2, alpha=0.8)\n",
    "    ax.axvline(b_est, linestyle=\"--\", label=\"Poisson GLM β\", lw=2)\n",
    "    ax.set_title(f\"Source {s}, Outcome {o}: density vs. likelihood\")\n",
    "    ax.set_xlabel(r\"$\\beta$\")\n",
    "    ax.set_ylabel(\"Density\")\n",
    "    ax.grid(True)\n",
    "\n",
    "    return ax\n",
    "\n",
    "import math\n",
    "\n",
    "# get sorted list of sources\n",
    "sources = sorted(df_sim[\"source\"].unique())\n",
    "n_sources = len(sources)\n",
    "\n",
    "#set up 2‐column grid\n",
    "ncols = 2\n",
    "nrows = math.ceil(n_sources / ncols)\n",
    "fig, axes = plt.subplots(nrows, ncols,\n",
    "                         figsize=(12, 4 * nrows),\n",
    "                         sharex=False, sharey=False)\n",
    "\n",
    "# flatten axes array for easy indexing\n",
    "axes_flat = axes.flatten()\n",
    "\n",
    "# loop over sources and plot\n",
    "for ax, s in zip(axes_flat, sources):\n",
    "    plot_source_density_vs_likelihood(s, df_sim, beta_df, X_list, Y_list, ax=ax)\n",
    "\n",
    "# hide any unused subplots\n",
    "for ax in axes_flat[n_sources:]:\n",
    "    ax.set_visible(False)\n",
    "\n",
    "fig.tight_layout()\n",
    "plt.show()\n"
   ],
   "id": "357aeaf248b9d98b",
   "outputs": [
    {
     "name": "stdout",
     "output_type": "stream",
     "text": [
      "Source 1: sample mean = 0.7600, profile MLE = 2.2613, Poisson GLM β = 2.3116\n",
      "Source 2: sample mean = 2.0181, profile MLE = 3.7688, Poisson GLM β = 3.7447\n",
      "Source 3: sample mean = 2.6213, profile MLE = 3.7688, Poisson GLM β = 3.7926\n",
      "Source 4: sample mean = 2.5092, profile MLE = 3.9698, Poisson GLM β = 3.9740\n",
      "Source 5: sample mean = 1.8655, profile MLE = 3.5678, Poisson GLM β = 3.5769\n",
      "Source 6: sample mean = 1.9892, profile MLE = 3.7688, Poisson GLM β = 3.7698\n",
      "Source 7: sample mean = 2.2631, profile MLE = 3.7688, Poisson GLM β = 3.8192\n",
      "Source 8: sample mean = 1.1879, profile MLE = 3.2663, Poisson GLM β = 3.2435\n"
     ]
    },
    {
     "data": {
      "text/plain": [
       "<Figure size 1200x1600 with 8 Axes>"
      ],
      "image/png": "[encoded data removed]"
     },
     "metadata": {},
     "output_type": "display_data"
    }
   ],
   "execution_count": 81
  },
  {
   "metadata": {
    "ExecuteTime": {
     "end_time": "2025-06-18T14:42:23.415221Z",
     "start_time": "2025-06-18T14:42:23.164402Z"
    }
   },
   "cell_type": "code",
   "source": [
    "K = 5\n",
    "S = 8\n",
    "O = 8\n",
    "n_obs = 100\n",
    "grid = grid_pts\n",
    "seed = 42\n",
    "rng = np.random.default_rng(seed)\n",
    "\n",
    "if beta_mean is None:\n",
    "    beta_mean = np.linspace(-1, 1, K)\n",
    "if beta_sds is None:\n",
    "    beta_sds = np.full(K, 0.15)\n",
    "beta_mean = np.asarray(beta_mean, dtype=float)\n",
    "beta_sds  = np.asarray(beta_sds,  dtype=float)\n",
    "if beta_mean.shape != (K,) or beta_sds.shape != (K,):\n",
    "    raise ValueError(\"beta_mean and beta_sds must be length-K arrays\")\n",
    "if grid is None:\n",
    "    raise ValueError(\"Provide a 1-D array of grid points via `grid`\")\n",
    "grid = np.asarray(grid, dtype=float)\n",
    "if true_pis is None:\n",
    "    true_pis = rng.dirichlet(np.ones(K) * 2.0, size=S)\n",
    "\n",
    "recs = []\n",
    "beta_recs = []\n",
    "X_list = []\n",
    "Y_list = []\n",
    "\n",
    "for s in range(S):\n",
    "    pi_s = true_pis[s]\n",
    "    for o in range(O):\n",
    "        z      = rng.choice(K, size=n_obs, p=pi_s)\n",
    "        beta_i = rng.normal(loc=beta_mean[z], scale=beta_sds[z])\n",
    "        beta_recs.append({\"source\": s+1, \"outcome\": o+1, \"beta_true\": beta_i.copy()})\n",
    "        x_i = rng.uniform(-1, 1, size=n_obs)\n",
    "        lam = np.exp(beta_i * x_i)\n",
    "        y_i = rng.poisson(lam)\n",
    "        model = sm.GLM(y_i, x_i[:, None], family=sm.families.Poisson())\n",
    "        result = model.fit()\n",
    "        b_est = result.params[0]\n",
    "        print(f\"the estimated beta is {b_est:.4f}\")\n",
    "        print(f'sample mean is {np.mean(beta_i):.4f}')\n",
    "        X_list.append({\"source\": s+1, \"outcome\": o+1, \"x\": x_i.copy()})\n",
    "        Y_list.append({\"source\": s+1, \"outcome\": o+1, \"y\": y_i.copy()})\n",
    "        for b in grid:\n",
    "            logp = y_i * (b * x_i) - np.exp(b * x_i) - gammaln(y_i + 1)\n",
    "            recs.append({\"source\": s+1, \"outcome\": o+1, \"point\": b, \"value\": logp.sum()})\n",
    "\n",
    "df_sim  = pd.DataFrame.from_records(recs)\n",
    "beta_df = pd.DataFrame.from_records(beta_recs)\n",
    "\n",
    "x_i = X_list[0][\"source\"]\n"
   ],
   "id": "6a6f160f23cf17c9",
   "outputs": [
    {
     "name": "stdout",
     "output_type": "stream",
     "text": [
      "the estimated beta is -0.0539\n",
      "sample mean is 0.9437\n",
      "the estimated beta is 1.2750\n",
      "sample mean is 0.3985\n",
      "the estimated beta is 1.9192\n",
      "sample mean is -0.1554\n",
      "the estimated beta is -2.0167\n",
      "sample mean is -0.5908\n",
      "the estimated beta is -1.6897\n",
      "sample mean is 0.3029\n",
      "the estimated beta is 2.9412\n",
      "sample mean is 0.4318\n",
      "the estimated beta is 3.4329\n",
      "sample mean is 1.2000\n",
      "the estimated beta is 3.0794\n",
      "sample mean is 1.1238\n",
      "the estimated beta is 3.0337\n",
      "sample mean is 1.4316\n",
      "the estimated beta is 3.2227\n",
      "sample mean is 1.9873\n",
      "the estimated beta is 1.5638\n",
      "sample mean is 1.5789\n",
      "the estimated beta is 3.7758\n",
      "sample mean is 1.6800\n",
      "the estimated beta is 4.0417\n",
      "sample mean is 2.1969\n",
      "the estimated beta is 3.9886\n",
      "sample mean is 2.0824\n",
      "the estimated beta is 4.2016\n",
      "sample mean is 1.8951\n",
      "the estimated beta is 3.3240\n",
      "sample mean is 2.0487\n",
      "the estimated beta is 3.1900\n",
      "sample mean is 2.2505\n",
      "the estimated beta is 3.2826\n",
      "sample mean is 2.4827\n",
      "the estimated beta is 2.0686\n",
      "sample mean is 2.1884\n",
      "the estimated beta is 3.7372\n",
      "sample mean is 2.2682\n",
      "the estimated beta is 4.3002\n",
      "sample mean is 2.5606\n",
      "the estimated beta is 4.4891\n",
      "sample mean is 2.5939\n",
      "the estimated beta is 4.1758\n",
      "sample mean is 2.5507\n",
      "the estimated beta is 3.3894\n",
      "sample mean is 2.8155\n",
      "the estimated beta is 3.9729\n",
      "sample mean is 2.7235\n",
      "the estimated beta is 3.7433\n",
      "sample mean is 2.2833\n",
      "the estimated beta is 3.7626\n",
      "sample mean is 2.9778\n",
      "the estimated beta is 4.2525\n",
      "sample mean is 2.9253\n",
      "the estimated beta is 3.9322\n",
      "sample mean is 2.7022\n",
      "the estimated beta is 3.6601\n",
      "sample mean is 2.3919\n",
      "the estimated beta is 4.4264\n",
      "sample mean is 2.4243\n",
      "the estimated beta is 4.2143\n",
      "sample mean is 2.8691\n",
      "the estimated beta is 3.8433\n",
      "sample mean is 1.4322\n",
      "the estimated beta is 3.5196\n",
      "sample mean is 2.3049\n",
      "the estimated beta is 3.4892\n",
      "sample mean is 2.0974\n",
      "the estimated beta is 1.0772\n",
      "sample mean is 1.1256\n",
      "the estimated beta is 3.4926\n",
      "sample mean is 1.7980\n",
      "the estimated beta is 3.6481\n",
      "sample mean is 1.8073\n",
      "the estimated beta is 3.2930\n",
      "sample mean is 1.7029\n",
      "the estimated beta is 3.1751\n",
      "sample mean is 1.5728\n",
      "the estimated beta is 3.6924\n",
      "sample mean is 2.1332\n",
      "the estimated beta is 3.2347\n",
      "sample mean is 2.1049\n",
      "the estimated beta is 3.9033\n",
      "sample mean is 2.0726\n",
      "the estimated beta is 3.7057\n",
      "sample mean is 2.0769\n",
      "the estimated beta is 4.4484\n",
      "sample mean is 2.5374\n",
      "the estimated beta is 3.6359\n",
      "sample mean is 2.1497\n",
      "the estimated beta is 3.3307\n",
      "sample mean is 1.8841\n",
      "the estimated beta is 3.1386\n",
      "sample mean is 1.7267\n",
      "the estimated beta is 3.5347\n",
      "sample mean is 1.8910\n",
      "the estimated beta is 3.9014\n",
      "sample mean is 1.9765\n",
      "the estimated beta is 4.0448\n",
      "sample mean is 1.9015\n",
      "the estimated beta is 3.7687\n",
      "sample mean is 2.2049\n",
      "the estimated beta is 3.7645\n",
      "sample mean is 2.0189\n",
      "the estimated beta is 3.8885\n",
      "sample mean is 2.0997\n",
      "the estimated beta is 4.1259\n",
      "sample mean is 2.1564\n",
      "the estimated beta is 3.2433\n",
      "sample mean is 1.9433\n",
      "the estimated beta is 2.7774\n",
      "sample mean is 0.6496\n",
      "the estimated beta is 3.3760\n",
      "sample mean is 1.2372\n",
      "the estimated beta is 3.6608\n",
      "sample mean is 1.1304\n",
      "the estimated beta is 3.5454\n",
      "sample mean is 1.1817\n",
      "the estimated beta is 3.3159\n",
      "sample mean is 0.6640\n",
      "the estimated beta is 0.9982\n",
      "sample mean is 0.3846\n",
      "the estimated beta is 3.1059\n",
      "sample mean is 0.6725\n",
      "the estimated beta is 3.5263\n",
      "sample mean is 1.2599\n"
     ]
    }
   ],
   "execution_count": 4
  },
  {
   "metadata": {},
   "cell_type": "markdown",
   "source": "## Linear regression",
   "id": "2fc25d3a45a00c54"
  },
  {
   "metadata": {
    "tags": [
     "linear"
    ],
    "ExecuteTime": {
     "end_time": "2025-06-18T22:51:32.747163Z",
     "start_time": "2025-06-18T22:51:32.704870Z"
    }
   },
   "cell_type": "code",
   "source": [
    "def simulate_profile_likelihoods_linreg(\n",
    "    K: int = 5,\n",
    "    S: int = 8,\n",
    "    O: int = 8,\n",
    "    n_obs: int = 100,\n",
    "    *,\n",
    "    beta_mean: np.ndarray | None = None,\n",
    "    beta_sds:  np.ndarray | None = None,\n",
    "    true_pis:  np.ndarray | None = None,\n",
    "    grid: np.ndarray | None = None,\n",
    "    sigma_noise: float = 1.0,\n",
    "    seed: int = 0,\n",
    "):\n",
    "    \"\"\"\n",
    "    Linear-regression analogue to your Poisson simulator, now ALSO returning:\n",
    "      - beta_df: the latent β_i vector used for every (source, outcome)\n",
    "      - est_df : one OLS slope estimate per source, pooling across outcomes\n",
    "    \"\"\"\n",
    "    rng = np.random.default_rng(seed)\n",
    "\n",
    "    # ── 1) component means / sds ──────────────────────────────────────────\n",
    "    if beta_mean is None:\n",
    "        beta_mean = np.linspace(-1, 1, K)\n",
    "    if beta_sds is None:\n",
    "        beta_sds = np.full(K, 0.15)\n",
    "    beta_mean = np.asarray(beta_mean, dtype=float)\n",
    "    beta_sds  = np.asarray(beta_sds,  dtype=float)\n",
    "    if beta_mean.shape != (K,) or beta_sds.shape != (K,):\n",
    "        raise ValueError(\"`beta_mean` and `beta_sds` must be length-K arrays\")\n",
    "\n",
    "    # ── 2) grid of candidate slopes ──────────────────────────────────────\n",
    "    if grid is None:\n",
    "        raise ValueError(\"Supply a 1-D array of grid points via `grid`.\")\n",
    "    grid = np.asarray(grid, dtype=float)\n",
    "\n",
    "    # ── 3) Dirichlet weights per source ──────────────────────────────────\n",
    "    if true_pis is None:\n",
    "        true_pis = rng.dirichlet(np.full(K, 2.0), size=S)   # (S, K)\n",
    "\n",
    "    # Prepare to collect (x,y) by source for later OLS\n",
    "    data_by_source = {s: {\"x\": [], \"y\": []} for s in range(S)}\n",
    "\n",
    "    # ── 4) simulate & profile-likelihood evaluation ─────────────────────\n",
    "    const_term = -0.5 * n_obs * np.log(2 * np.pi * sigma_noise**2)\n",
    "    recs      = []   # profile-likelihood rows\n",
    "    beta_recs = []   # true β per (s,o), full-length vectors\n",
    "\n",
    "    for s in range(S):\n",
    "        pi_s = true_pis[s]\n",
    "\n",
    "        for o in range(O):\n",
    "            # 4-1) latent component + β_i vector\n",
    "            z      = rng.choice(K, size=n_obs, p=pi_s)\n",
    "            beta_i = rng.normal(loc=beta_mean[z], scale=beta_sds[z])\n",
    "\n",
    "            # record the full vector of true betas\n",
    "            beta_recs.append({\n",
    "                \"source\":    s + 1,\n",
    "                \"outcome\":   o + 1,\n",
    "                \"beta_true\": beta_i.copy()\n",
    "            })\n",
    "\n",
    "            # 4-2) covariate & response\n",
    "            x_i = rng.uniform(-1, 1, size=n_obs)\n",
    "            y_i = beta_i * x_i + rng.normal(0.0, sigma_noise, size=n_obs)\n",
    "\n",
    "            # stash for OLS later\n",
    "            data_by_source[s][\"x\"].append(x_i)\n",
    "            data_by_source[s][\"y\"].append(y_i)\n",
    "\n",
    "            # 4-3) profile log-likelihood over the grid\n",
    "            for b in grid:\n",
    "                resid_sq = (y_i - b * x_i) ** 2\n",
    "                ll       = const_term - 0.5 * resid_sq.sum() / sigma_noise**2\n",
    "                recs.append({\n",
    "                    \"source\":  s + 1,\n",
    "                    \"outcome\": o + 1,\n",
    "                    \"point\":   b,\n",
    "                    \"value\":   ll\n",
    "                })\n",
    "\n",
    "    # assemble simulation outputs\n",
    "    df_sim  = pd.DataFrame.from_records(recs)\n",
    "    beta_df = pd.DataFrame.from_records(beta_recs)\n",
    "\n",
    "    # ── 5) fit one OLS per source (pooling all outcomes) ────────────────\n",
    "    est_recs = []\n",
    "    for s in range(S):\n",
    "        x_all = np.concatenate(data_by_source[s][\"x\"])\n",
    "        y_all = np.concatenate(data_by_source[s][\"y\"])\n",
    "        X     = sm.add_constant(x_all)             # [intercept, x]\n",
    "        ols   = sm.OLS(y_all, X).fit()\n",
    "        est_recs.append({\n",
    "            \"source\":   s + 1,\n",
    "            \"beta_est\": ols.params[1]            # slope on x\n",
    "        })\n",
    "    est_df = pd.DataFrame.from_records(est_recs)\n",
    "\n",
    "    return df_sim, true_pis, beta_df, est_df\n",
    "\n",
    "grid_pts   = np.linspace(-10, 10, 100)\n",
    "beta_mean  = rng.normal(loc=1.5, scale=0.7, size=5)\n",
    "beta_sds = np.abs(rng.normal(loc=0.0, scale=1.0, size=5))\n",
    "\n",
    "df_sim, pis, beta_df, est_df = simulate_profile_likelihoods_linreg(\n",
    "    K=5, S=8, O=8, n_obs=120,\n",
    "    beta_mean=beta_mean,\n",
    "    beta_sds=beta_sds,\n",
    "    sigma_noise=0.8,\n",
    "    grid = grid_pts,\n",
    "    seed=2025\n",
    ")"
   ],
   "id": "7a0d95151c7384ce",
   "outputs": [],
   "execution_count": 4
  },
  {
   "metadata": {},
   "cell_type": "markdown",
   "source": "## Logistic",
   "id": "6aef283d1ae25f7d"
  },
  {
   "metadata": {
    "ExecuteTime": {
     "end_time": "2025-06-18T22:51:36.809705Z",
     "start_time": "2025-06-18T22:51:36.649050Z"
    }
   },
   "cell_type": "code",
   "source": [
    "def simulate_profile_likelihoods_logistic(\n",
    "    K: int = 5,\n",
    "    S: int = 8,\n",
    "    O: int = 8,\n",
    "    n_obs: int = 100,\n",
    "    *,\n",
    "    beta_mean: np.ndarray | None = None,\n",
    "    beta_sds:  np.ndarray | None = None,\n",
    "    true_pis:  np.ndarray | None = None,\n",
    "    grid:      np.ndarray | None = None,\n",
    "    seed: int = 0,\n",
    "):\n",
    "    \"\"\"\n",
    "    Simulate profile-likelihood curves for a K-component logistic-regression mixture,\n",
    "    keep the full ground-truth β_i vector for every (source, outcome), and\n",
    "    return one logistic-slope estimate per source pooling across outcomes.\n",
    "    \"\"\"\n",
    "    rng = np.random.default_rng(seed)\n",
    "\n",
    "    # 1) component means / sds\n",
    "    if beta_mean is None:\n",
    "        beta_mean = np.linspace(-1, 1, K)\n",
    "    if beta_sds is None:\n",
    "        beta_sds = np.full(K, 0.15)\n",
    "    beta_mean = np.asarray(beta_mean, dtype=float)\n",
    "    beta_sds  = np.asarray(beta_sds,  dtype=float)\n",
    "    if beta_mean.shape != (K,) or beta_sds.shape != (K,):\n",
    "        raise ValueError(\"beta_mean and beta_sds must be length-K arrays\")\n",
    "\n",
    "    # 2) grid of candidate β values\n",
    "    if grid is None:\n",
    "        raise ValueError(\"Provide a 1-D array of grid points via `grid`\")\n",
    "    grid = np.asarray(grid, dtype=float)\n",
    "\n",
    "    # 3) Dirichlet weights per source\n",
    "    if true_pis is None:\n",
    "        true_pis = rng.dirichlet(np.ones(K) * 2.0, size=S)    # (S, K)\n",
    "\n",
    "    # Prepare to collect (x,y) by source for later logistic fit\n",
    "    data_by_source = {s: {\"x\": [], \"y\": []} for s in range(S)}\n",
    "\n",
    "    # 4) simulate & evaluate profile log-likelihoods\n",
    "    recs      = []   # profile-likelihood rows\n",
    "    beta_recs = []   # table of full beta_i vectors\n",
    "\n",
    "    for s in range(S):                      # zero-based 0..S-1\n",
    "        pi_s = true_pis[s]\n",
    "\n",
    "        for o in range(O):                  # zero-based 0..O-1\n",
    "            # 4-1) latent component & β draw per observation\n",
    "            z      = rng.choice(K, size=n_obs, p=pi_s)\n",
    "            beta_i = rng.normal(loc=beta_mean[z], scale=beta_sds[z])\n",
    "\n",
    "            # record the ENTIRE beta_i vector\n",
    "            beta_recs.append({\n",
    "                \"source\":  s + 1,\n",
    "                \"outcome\": o + 1,\n",
    "                \"beta_true\": beta_i.copy()\n",
    "            })\n",
    "\n",
    "            # 4-2) covariate & Bernoulli responses\n",
    "            x_i     = rng.uniform(-1, 1, size=n_obs)\n",
    "            logit_p = beta_i * x_i\n",
    "            p_i     = 1.0 / (1.0 + np.exp(-logit_p))\n",
    "            y_i     = rng.binomial(1, p_i)\n",
    "\n",
    "            # stash for logistic regression later\n",
    "            data_by_source[s][\"x\"].append(x_i)\n",
    "            data_by_source[s][\"y\"].append(y_i)\n",
    "\n",
    "            # 4-3) profile log-likelihood over the grid\n",
    "            for b in grid:\n",
    "                bx = b * x_i\n",
    "                ll = (y_i * bx - np.log1p(np.exp(bx))).sum()\n",
    "                recs.append({\n",
    "                    \"source\":  s + 1,\n",
    "                    \"outcome\": o + 1,\n",
    "                    \"point\":   b,\n",
    "                    \"value\":   ll\n",
    "                })\n",
    "\n",
    "    # assemble simulation outputs\n",
    "    df_sim  = pd.DataFrame.from_records(recs)\n",
    "    beta_df = pd.DataFrame.from_records(beta_recs)\n",
    "\n",
    "    # 5) fit one logistic regression per source (pooling all outcomes)\n",
    "    est_recs = []\n",
    "    for s in range(S):\n",
    "        x_all = np.concatenate(data_by_source[s][\"x\"])\n",
    "        y_all = np.concatenate(data_by_source[s][\"y\"])\n",
    "        X     = sm.add_constant(x_all)  # [intercept, x]\n",
    "        logit = sm.GLM(y_all, X, family=sm.families.Binomial()).fit()\n",
    "        est_recs.append({\n",
    "            \"source\":   s + 1,\n",
    "            \"beta_est\": logit.params[1]   # slope on x\n",
    "        })\n",
    "    est_df = pd.DataFrame.from_records(est_recs)\n",
    "\n",
    "    return df_sim, true_pis, beta_df, est_df\n",
    "\n",
    "rng = np.random.default_rng(42)\n",
    "\n",
    "grid_pts  = np.linspace(-10, 10, 100)\n",
    "beta_mean = rng.normal(loc=2.0,  scale=3.0, size=5)\n",
    "beta_sds  = np.abs(rng.normal(loc=0.0, scale=1.0, size=5))\n",
    "\n",
    "df_sim, true_pis, beta_df, est_df = simulate_profile_likelihoods_logistic(\n",
    "    K=5, S=8, O=8, n_obs=1000,\n",
    "    beta_mean=beta_mean,\n",
    "    beta_sds=beta_sds,\n",
    "    grid=grid_pts,\n",
    "    seed=42\n",
    ")"
   ],
   "id": "dcd1d5394533e93e",
   "outputs": [],
   "execution_count": 5
  },
  {
   "metadata": {
    "ExecuteTime": {
     "end_time": "2025-06-18T22:51:49.452643Z",
     "start_time": "2025-06-18T22:51:49.144406Z"
    }
   },
   "cell_type": "code",
   "source": [
    "N_sources = 8\n",
    "source_outcome_data = {}\n",
    "for s in range(1, N_sources+1):\n",
    "    df_s = df_sim[df_sim[\"source\"]==s]\n",
    "    outcome_list = []\n",
    "    for o in sorted(df_s[\"outcome\"].unique()):\n",
    "        arr = df_s[df_s[\"outcome\"]==o][[\"point\",\"value\"]].to_numpy()\n",
    "        outcome_list.append(jnp.array(arr))\n",
    "    source_outcome_data[s] = outcome_list\n",
    "\n",
    "num_outcomes_dict = {s: len(source_outcome_data[s])\n",
    "                     for s in range(2, N_sources+1)}"
   ],
   "id": "ceceae23c0f3312f",
   "outputs": [],
   "execution_count": 6
  },
  {
   "metadata": {
    "ExecuteTime": {
     "end_time": "2025-06-18T22:51:51.679742Z",
     "start_time": "2025-06-18T22:51:51.671764Z"
    }
   },
   "cell_type": "code",
   "source": [
    "# --- keep your helper functions ------------------------------------------------\n",
    "def stick_breaking(beta):\n",
    "    portion_remaining = jnp.concatenate(\n",
    "        [jnp.array([1.]), jnp.cumprod(1. - beta)[:-1]]\n",
    "    )\n",
    "    return beta * portion_remaining\n",
    "\n",
    "\n",
    "def reparameterize(pi):\n",
    "    return pi / pi.sum()\n",
    "\n",
    "def custom_loglike(beta, outcome_data_list):\n",
    "    total_ll = 0.\n",
    "    for outcome_data in outcome_data_list:\n",
    "        x_vals = outcome_data[:,0]\n",
    "        loglike_vals = outcome_data[:,1]\n",
    "        total_ll += jnp.interp(beta, x_vals, loglike_vals)\n",
    "    return total_ll\n",
    "\n",
    "\n",
    "def HDP_model(source_outcome_data,\n",
    "              num_outcomes_dict,\n",
    "              N_sources,\n",
    "              k,\n",
    "              data_point_mean):\n",
    "    # 1) Top‐level concentrations\n",
    "    gamma  = numpyro.sample(\"gamma\",  dist.Gamma(1.0, 5.0))\n",
    "    alpha0 = numpyro.sample(\"alpha0\", dist.Gamma(1.0, 5.0))\n",
    "\n",
    "    # 2) Global stick‐breaking\n",
    "    beta_tilt = numpyro.sample(\"beta_tilt\",\n",
    "                               dist.Beta(1.0, gamma).expand([k]))\n",
    "    beta      = stick_breaking(beta_tilt)\n",
    "    numpyro.deterministic(\"beta\", beta)\n",
    "\n",
    "    # 3) Source‐specific sticks & normalization\n",
    "    pi_tilt = numpyro.sample(\n",
    "        \"pi_tilt\",\n",
    "        dist.Beta(alpha0 * beta, alpha0 * (1.0 - jnp.cumsum(beta)))\n",
    "            .expand([N_sources, k])\n",
    "    )\n",
    "    pi_norm = jax.vmap(lambda row: reparameterize(stick_breaking(row)))(\n",
    "        pi_tilt\n",
    "    )\n",
    "    numpyro.deterministic(\"pi_norm\", pi_norm)\n",
    "\n",
    "    # 4) Shared component parameters\n",
    "    mu    = numpyro.sample(\"mu\",    dist.Normal(0.0, 10.0).expand([k]))\n",
    "    sigma = numpyro.sample(\"sigma\", dist.HalfNormal(10.0).expand([k]))\n",
    "\n",
    "    # 5) For each source, draw its β_j from the mixture directly\n",
    "    for s in range(1, N_sources+1):\n",
    "        beta_s = numpyro.sample(\n",
    "            f\"beta_{s}\",\n",
    "            dist.MixtureSameFamily(\n",
    "                dist.Categorical(probs=pi_norm[s-1]),\n",
    "                dist.Normal(mu, sigma),\n",
    "            )\n",
    "        )\n",
    "        numpyro.factor(\n",
    "            f\"loglike_{s}\",\n",
    "            custom_loglike(beta_s, source_outcome_data[s])\n",
    "        )\n",
    "    # )\n",
    "\n",
    "# end of model\n"
   ],
   "id": "947dcf2321bb7727",
   "outputs": [],
   "execution_count": 7
  },
  {
   "metadata": {
    "ExecuteTime": {
     "end_time": "2025-06-18T22:54:54.003394Z",
     "start_time": "2025-06-18T22:51:53.918375Z"
    }
   },
   "cell_type": "code",
   "source": [
    "# 5) Run MCMC just as before\n",
    "rng_key = random.PRNGKey(0)\n",
    "data_point_mean = df_sim[\"point\"].mean()\n",
    "k = 5\n",
    "\n",
    "nuts = NUTS(HDP_model)\n",
    "mcmc = MCMC(nuts, num_warmup=5000, num_samples=20000)\n",
    "mcmc.run(\n",
    "    rng_key,\n",
    "    source_outcome_data=source_outcome_data,\n",
    "    num_outcomes_dict=num_outcomes_dict,\n",
    "    N_sources=N_sources,\n",
    "    k=k,\n",
    "    data_point_mean=data_point_mean\n",
    ")\n",
    "\n",
    "mcmc.print_summary()\n",
    "idata = az.from_numpyro(mcmc)"
   ],
   "id": "13d6ce31fbf689e8",
   "outputs": [
    {
     "name": "stderr",
     "output_type": "stream",
     "text": [
      "sample: 100%|██████████| 25000/25000 [02:52<00:00, 145.29it/s, 154 steps of size 1.24e-02. acc. prob=0.93]\n"
     ]
    },
    {
     "name": "stdout",
     "output_type": "stream",
     "text": [
      "\n",
      "                  mean       std    median      5.0%     95.0%     n_eff     r_hat\n",
      "      alpha0      0.98      0.35      0.92      0.44      1.51   1541.56      1.00\n",
      "      beta_1      0.30      0.02      0.30      0.26      0.33   2729.01      1.00\n",
      "      beta_2      1.18      0.06      1.16      1.09      1.27   3583.96      1.00\n",
      "      beta_3      1.58      0.06      1.57      1.50      1.68   3791.88      1.00\n",
      "      beta_4      1.51      0.03      1.51      1.47      1.56   4103.87      1.00\n",
      "      beta_5      0.91      0.02      0.91      0.87      0.94   4607.89      1.00\n",
      "      beta_6      1.13      0.03      1.12      1.08      1.18   3933.25      1.00\n",
      "      beta_7      1.19      0.06      1.19      1.10      1.30   4237.42      1.00\n",
      "      beta_8      0.49      0.03      0.50      0.45      0.53   3805.35      1.00\n",
      "beta_tilt[0]      0.32      0.24      0.28      0.02      0.66    100.32      1.02\n",
      "beta_tilt[1]      0.29      0.21      0.22      0.03      0.63    204.60      1.02\n",
      "beta_tilt[2]      0.27      0.18      0.22      0.03      0.56    278.32      1.00\n",
      "beta_tilt[3]      0.30      0.16      0.27      0.06      0.54    572.02      1.00\n",
      "beta_tilt[4]      0.34      0.15      0.32      0.09      0.57   1412.57      1.00\n",
      "       gamma      0.86      0.35      0.81      0.31      1.40   5667.57      1.00\n",
      "       mu[0]      0.56      6.57      1.03    -12.51     11.30   4348.50      1.00\n",
      "       mu[1]      0.37      7.88      1.00    -13.00     14.60   2218.87      1.00\n",
      "       mu[2]      0.22      8.81      0.93    -14.70     15.44   4926.06      1.00\n",
      "       mu[3]      0.07      9.29      0.77    -16.12     15.59   5552.89      1.00\n",
      "       mu[4]     -0.10      9.34      0.34    -15.41     15.94   4199.73      1.00\n",
      "pi_tilt[0,0]      0.36      0.39      0.14      0.00      0.98    166.73      1.01\n",
      "pi_tilt[0,1]      0.29      0.39      0.02      0.00      0.98    441.77      1.01\n",
      "pi_tilt[0,2]      0.26      0.38      0.00      0.00      0.98    927.18      1.00\n",
      "pi_tilt[0,3]      0.27      0.40      0.00      0.00      1.00   2158.04      1.00\n",
      "pi_tilt[0,4]      0.29      0.41      0.00      0.00      1.00   4214.23      1.00\n",
      "pi_tilt[1,0]      0.38      0.40      0.17      0.00      0.98    131.16      1.02\n",
      "pi_tilt[1,1]      0.30      0.39      0.03      0.00      0.98    352.78      1.01\n",
      "pi_tilt[1,2]      0.26      0.38      0.00      0.00      0.98    659.87      1.00\n",
      "pi_tilt[1,3]      0.27      0.40      0.00      0.00      1.00   1891.77      1.00\n",
      "pi_tilt[1,4]      0.28      0.41      0.00      0.00      1.00   4322.81      1.00\n",
      "pi_tilt[2,0]      0.37      0.40      0.16      0.00      0.98    137.75      1.01\n",
      "pi_tilt[2,1]      0.30      0.39      0.03      0.00      0.98    371.70      1.01\n",
      "pi_tilt[2,2]      0.26      0.38      0.00      0.00      0.98    775.69      1.00\n",
      "pi_tilt[2,3]      0.27      0.39      0.00      0.00      0.99   1762.96      1.00\n",
      "pi_tilt[2,4]      0.28      0.41      0.00      0.00      1.00   4372.93      1.00\n",
      "pi_tilt[3,0]      0.37      0.40      0.18      0.00      0.98    134.53      1.01\n",
      "pi_tilt[3,1]      0.30      0.39      0.03      0.00      0.98    344.12      1.01\n",
      "pi_tilt[3,2]      0.26      0.38      0.00      0.00      0.98    742.26      1.00\n",
      "pi_tilt[3,3]      0.27      0.40      0.00      0.00      1.00   1926.75      1.00\n",
      "pi_tilt[3,4]      0.27      0.41      0.00      0.00      1.00   3666.57      1.00\n",
      "pi_tilt[4,0]      0.38      0.40      0.17      0.00      0.98    134.84      1.01\n",
      "pi_tilt[4,1]      0.30      0.39      0.03      0.00      0.98    366.00      1.02\n",
      "pi_tilt[4,2]      0.26      0.39      0.00      0.00      0.99    755.93      1.00\n",
      "pi_tilt[4,3]      0.27      0.39      0.00      0.00      0.99   1598.43      1.00\n",
      "pi_tilt[4,4]      0.27      0.41      0.00      0.00      1.00   4089.49      1.00\n",
      "pi_tilt[5,0]      0.37      0.40      0.17      0.00      0.98    135.97      1.02\n",
      "pi_tilt[5,1]      0.30      0.39      0.02      0.00      0.98    341.77      1.01\n",
      "pi_tilt[5,2]      0.26      0.38      0.00      0.00      0.98    651.10      1.00\n",
      "pi_tilt[5,3]      0.27      0.39      0.00      0.00      0.99   1675.70      1.00\n",
      "pi_tilt[5,4]      0.28      0.41      0.00      0.00      1.00   4865.75      1.00\n",
      "pi_tilt[6,0]      0.37      0.40      0.17      0.00      0.98    135.64      1.01\n",
      "pi_tilt[6,1]      0.30      0.39      0.03      0.00      0.98    357.82      1.01\n",
      "pi_tilt[6,2]      0.26      0.38      0.00      0.00      0.98    569.33      1.00\n",
      "pi_tilt[6,3]      0.28      0.40      0.00      0.00      1.00   1705.32      1.00\n",
      "pi_tilt[6,4]      0.28      0.41      0.00      0.00      1.00   4499.47      1.00\n",
      "pi_tilt[7,0]      0.37      0.40      0.15      0.00      0.98    144.87      1.01\n",
      "pi_tilt[7,1]      0.30      0.39      0.03      0.00      0.98    402.79      1.01\n",
      "pi_tilt[7,2]      0.26      0.38      0.00      0.00      0.98    805.38      1.00\n",
      "pi_tilt[7,3]      0.27      0.40      0.00      0.00      1.00   2158.59      1.00\n",
      "pi_tilt[7,4]      0.28      0.41      0.00      0.00      1.00   3887.35      1.00\n",
      "    sigma[0]      4.01      5.43      0.87      0.02     12.16    195.29      1.01\n",
      "    sigma[1]      5.67      6.00      3.60      0.00     14.52    434.84      1.01\n",
      "    sigma[2]      6.71      6.02      5.23      0.00     15.33    929.79      1.00\n",
      "    sigma[3]      7.19      6.12      5.78      0.00     15.84   1901.49      1.00\n",
      "    sigma[4]      7.54      5.95      6.22      0.01     15.85   3830.87      1.00\n",
      "\n",
      "Number of divergences: 9373\n"
     ]
    }
   ],
   "execution_count": 8
  },
  {
   "metadata": {
    "ExecuteTime": {
     "end_time": "2025-06-18T22:56:27.752761Z",
     "start_time": "2025-06-18T22:56:27.742403Z"
    }
   },
   "cell_type": "code",
   "source": [
    "# def compute_g0_components(idata, output_path, xgrid_len=200):\n",
    "#     \"\"\"\n",
    "#     Compute and save posterior components for G₀:\n",
    "#       - xgrid: evaluation points\n",
    "#       - g0: posterior mean density values\n",
    "#       - mu, sigma: component parameters per sample\n",
    "#       - pi_norm, alpha0, zeta: mixture weights per sample\n",
    "#\n",
    "#     Saves a .npz file at output_path with these arrays.\n",
    "#     \"\"\"\n",
    "#     if output_path is None:\n",
    "#         os.makedirs(output_path, exist_ok=True)\n",
    "#     # 1) Extract posterior arrays\n",
    "#     post = idata.posterior\n",
    "#     pi_norm_vals = post[\"pi_norm\"].values    # (chains, draws, sources, components)\n",
    "#     alpha0_vals  = post[\"alpha0\"].values     # (chains, draws)\n",
    "#     mu_vals      = post[\"mu\"].values         # (chains, draws, components)\n",
    "#     sigma_vals   = post[\"sigma\"].values      # (chains, draws, components)\n",
    "#\n",
    "#     # 2) Reshape into (n_samples, sources, components) and (n_samples, components)\n",
    "#     n_chains, n_draws, N_sources, k = pi_norm_vals.shape\n",
    "#     n_samples = n_chains * n_draws\n",
    "#     pi_norm = pi_norm_vals.reshape(n_samples, N_sources, k)\n",
    "#     alpha0  = alpha0_vals.reshape(n_samples)\n",
    "#     mu      = mu_vals.reshape(n_samples, k)\n",
    "#     sigma   = sigma_vals.reshape(n_samples, k)\n",
    "#\n",
    "#     # 3) Sample discrete assignments z_j per sample (vectorized)\n",
    "#     unif   = np.random.rand(n_samples, N_sources)\n",
    "#     cum_pi = np.cumsum(pi_norm, axis=2)\n",
    "#     z_samp = (unif[..., None] < cum_pi).argmax(axis=2)\n",
    "#\n",
    "#     # 4) Component counts per sample\n",
    "#     m_samps = np.array([np.bincount(z_samp[i], minlength=k)\n",
    "#                         for i in range(n_samples)])  # (n_samples, k)\n",
    "#\n",
    "#     # 5) Expected global weights ζ_h per sample\n",
    "#     zeta = (m_samps + alpha0[:, None] / k) \\\n",
    "#          / (m_samps.sum(axis=1)[:, None] + alpha0[:, None])  # (n_samples, k)\n",
    "#\n",
    "#     # 6) Build evaluation grid\n",
    "#     x_min = mu.min() - 3 * sigma.max()\n",
    "#     x_max = mu.max() + 3 * sigma.max()\n",
    "#     xgrid = np.linspace(x_min, x_max, xgrid_len)\n",
    "#\n",
    "#     # 7) Compute posterior mean G₀ density\n",
    "#     g0 = np.zeros_like(xgrid)\n",
    "#     for i in range(n_samples):\n",
    "#         for h in range(k):\n",
    "#             coef = zeta[i, h]\n",
    "#             pdf = (1.0 / (np.sqrt(2 * np.pi) * sigma[i, h])) * \\\n",
    "#                   np.exp(-0.5 * ((xgrid - mu[i, h]) / sigma[i, h])**2)\n",
    "#             g0 += coef * pdf\n",
    "#     g0 /= n_samples\n",
    "#\n",
    "#     # 8) Save all arrays to .npz\n",
    "#     np.savez(output_path,\n",
    "#              xgrid=xgrid,\n",
    "#              g0=g0,\n",
    "#              mu=mu,\n",
    "#              sigma=sigma,\n",
    "#              pi_norm=pi_norm,\n",
    "#              alpha0=alpha0,\n",
    "#              zeta=zeta)\n",
    "\n",
    "def compute_g0_components(idata, output_path=None, xgrid_len=200, weight_thres=0.0):\n",
    "    \"\"\"\n",
    "    Compute and save posterior components for G₀ using a threshold on pi_norm:\n",
    "      - xgrid: evaluation points\n",
    "      - g0: posterior mean density values\n",
    "      - mu, sigma: component parameters per sample\n",
    "      - pi_norm, alpha0, zeta: mixture weights per sample\n",
    "\n",
    "    m_h^(s) is computed as:\n",
    "        m_h^(s) = sum_j I(pi_norm[s, j, h] > weight_thres)\n",
    "\n",
    "    Saves a .npz file at output_path if provided, otherwise returns a dict.\n",
    "    \"\"\"\n",
    "    # 1) Extract posterior arrays\n",
    "    post = idata.posterior\n",
    "    pi_norm_vals = post[\"pi_norm\"].values    # (chains, draws, sources, components)\n",
    "    alpha0_vals  = post[\"alpha0\"].values     # (chains, draws)\n",
    "    mu_vals      = post[\"mu\"].values         # (chains, draws, components)\n",
    "    sigma_vals   = post[\"sigma\"].values      # (chains, draws, components)\n",
    "\n",
    "    # 2) Reshape into (n_samples, sources, components) and (n_samples, components)\n",
    "    n_chains, n_draws, N_sources, k = pi_norm_vals.shape\n",
    "    n_samples = n_chains * n_draws\n",
    "    pi_norm = pi_norm_vals.reshape(n_samples, N_sources, k)\n",
    "    alpha0  = alpha0_vals.reshape(n_samples)\n",
    "    mu      = mu_vals.reshape(n_samples, k)\n",
    "    sigma   = sigma_vals.reshape(n_samples, k)\n",
    "\n",
    "    # 3) Compute component counts per sample via threshold\n",
    "    #    m_samps[s, h] = sum_j I(pi_norm[s, j, h] > weight_thres)\n",
    "    activated = (pi_norm > weight_thres)     # boolean mask\n",
    "    m_samps  = activated.sum(axis=1)         # shape (n_samples, k)\n",
    "\n",
    "    # 4) Expected global weights ζ_h per sample\n",
    "    zeta = (m_samps + alpha0[:, None] / k) \\\n",
    "         / (m_samps.sum(axis=1)[:, None] + alpha0[:, None])  # (n_samples, k)\n",
    "\n",
    "    # 5) Build evaluation grid for G0 density\n",
    "    x_min = mu.min() - 3 * sigma.max()\n",
    "    x_max = mu.max() + 3 * sigma.max()\n",
    "    xgrid = np.linspace(x_min, x_max, xgrid_len)\n",
    "\n",
    "    # 6) Compute posterior mean G₀ density\n",
    "    g0 = np.zeros_like(xgrid)\n",
    "    for i in range(n_samples):\n",
    "        for h in range(k):\n",
    "            coef = zeta[i, h]\n",
    "            pdf = (1.0 / (np.sqrt(2 * np.pi) * sigma[i, h])) * \\\n",
    "                  np.exp(-0.5 * ((xgrid - mu[i, h]) / sigma[i, h])**2)\n",
    "            g0 += coef * pdf\n",
    "    g0 /= n_samples\n",
    "\n",
    "    # 7) Save or return\n",
    "    if output_path is not None:\n",
    "        os.makedirs(os.path.dirname(output_path), exist_ok=True)\n",
    "        np.savez(output_path,\n",
    "                 xgrid=xgrid,\n",
    "                 g0=g0,\n",
    "                 mu=mu,\n",
    "                 sigma=sigma,\n",
    "                 pi_norm=pi_norm,\n",
    "                 alpha0=alpha0,\n",
    "                 zeta=zeta,\n",
    "                 m_samps=m_samps)\n",
    "    else:\n",
    "        return {\n",
    "            \"xgrid\": xgrid,\n",
    "            \"g0\": g0,\n",
    "            \"mu\": mu,\n",
    "            \"sigma\": sigma,\n",
    "            \"pi_norm\": pi_norm,\n",
    "            \"alpha0\": alpha0,\n",
    "            \"zeta\": zeta,\n",
    "            \"m_samps\": m_samps\n",
    "        }\n",
    "\n",
    "def plot_g0_density_from_file(npz_path, density_cut, save_to=None):\n",
    "    \"\"\"\n",
    "    Load G₀ components from a .npz file and plot the posterior mean density,\n",
    "    masking out regions where the density ≤ density_cut.\n",
    "    \"\"\"\n",
    "    data = np.load(npz_path)\n",
    "    xgrid = data[\"xgrid\"]\n",
    "    g0     = data[\"g0\"]\n",
    "\n",
    "    mask = g0 > density_cut\n",
    "    if not mask.any():\n",
    "        raise ValueError(f\"No points exceed density_cut={density_cut}\")\n",
    "\n",
    "    plt.figure(figsize=(8, 4))\n",
    "    plt.plot(xgrid[mask], g0[mask])\n",
    "    plt.title(r\"Posterior Mean of $G_0$ Density\")\n",
    "    plt.xlabel(r\"$x$\")\n",
    "    plt.ylabel(r\"Density of $G_0$\")\n",
    "    if save_to:\n",
    "        plt.savefig(save_to, dpi=300, bbox_inches=\"tight\")\n",
    "        plt.close()\n",
    "    else:\n",
    "        plt.show()\n"
   ],
   "id": "8c648ba6d0b4d157",
   "outputs": [],
   "execution_count": 13
  },
  {
   "metadata": {
    "ExecuteTime": {
     "end_time": "2025-06-18T22:55:43.483511Z",
     "start_time": "2025-06-18T22:55:40.457371Z"
    }
   },
   "cell_type": "code",
   "source": [
    "compute_g0_components(idata, \"results/g0_archives/g0_components.npz\", xgrid_len=2000)\n",
    "plot_g0_density_from_file(\"results/g0_archives/g0_components.npz\", density_cut=1e-3)"
   ],
   "id": "cae8f345c9df4ace",
   "outputs": [
    {
     "data": {
      "text/plain": [
       "<Figure size 800x400 with 1 Axes>"
      ],
      "image/png": "[encoded data removed]"
     },
     "metadata": {},
     "output_type": "display_data"
    }
   ],
   "execution_count": 12
  },
  {
   "metadata": {
    "ExecuteTime": {
     "end_time": "2025-06-18T22:56:57.376430Z",
     "start_time": "2025-06-18T22:56:57.294783Z"
    }
   },
   "cell_type": "code",
   "source": [
    "beta_store = store_beta_posteriors(\n",
    "    idata=idata,\n",
    "    df_sim=df_sim,\n",
    "    output_folder=\"results/beta_archives\",\n",
    "    file_ext=\"npz\",      # or \"npy\"\n",
    "    compress=True,\n",
    ")\n",
    "\n",
    "beta_data = load_beta_posteriors(\n",
    "    folder=\"results/beta_archives\",\n",
    "    file_ext=\"npz\",     # or \"npy\" if you saved .npy files\n",
    ")\n",
    "\n",
    "# Access arrays for source 3\n",
    "b3 = beta_data[\"beta_3\"]\n",
    "samples_b3 = b3[\"samples\"]\n",
    "grid_b3    = b3[\"grid\"]\n",
    "loglik_b3  = b3[\"loglik\"]\n",
    "prior_samples_b3 = b3[\"prior_samples\"] if \"prior_samples\" in b3 else np.array([])\n",
    "\n",
    "best_per_source = largest_mean_pi_norm(idata, pis=pis)  # if you have one\n",
    "\n",
    "for rec in best_per_source:\n",
    "    print(\n",
    "        f\"Source {rec['source']:>2}: \"\n",
    "        f\"best component={rec['component']:>2}, \"\n",
    "        f\"mean π={rec['mean_value']:.3f}, \"\n",
    "        f\"true max π={rec['true_proportion']:.3f}\"\n",
    "    )"
   ],
   "id": "589d8a5bd2914082",
   "outputs": [
    {
     "name": "stdout",
     "output_type": "stream",
     "text": [
      "Stored 8 β posteriors in results\\beta_archives\n",
      "Loaded 8 β posterior archives from results\\beta_archives\n",
      "Source  0: best component= 0, mean π=0.416, true max π=0.562\n",
      "Source  1: best component= 0, mean π=0.439, true max π=0.402\n",
      "Source  2: best component= 0, mean π=0.429, true max π=0.457\n",
      "Source  3: best component= 0, mean π=0.432, true max π=0.308\n",
      "Source  4: best component= 0, mean π=0.437, true max π=0.286\n",
      "Source  5: best component= 0, mean π=0.435, true max π=0.399\n",
      "Source  6: best component= 0, mean π=0.434, true max π=0.307\n",
      "Source  7: best component= 0, mean π=0.426, true max π=0.358\n"
     ]
    }
   ],
   "execution_count": 14
  },
  {
   "metadata": {
    "ExecuteTime": {
     "end_time": "2025-06-18T07:28:47.199551Z",
     "start_time": "2025-06-18T07:28:46.011770Z"
    }
   },
   "cell_type": "code",
   "source": [
    "save_beta_density_hist(\n",
    "    idata,\n",
    "    output_folder=\"figures/beta_plots\",\n",
    "    experiment=\"sim1\",          # will create sim1_beta_0.jpg, …\n",
    ")"
   ],
   "id": "c92f96b3d233d92f",
   "outputs": [
    {
     "name": "stdout",
     "output_type": "stream",
     "text": [
      "Saved experiment sim1 beta densities to figures\\beta_plots\n"
     ]
    }
   ],
   "execution_count": 14
  },
  {
   "metadata": {
    "ExecuteTime": {
     "end_time": "2025-06-18T22:57:02.420500Z",
     "start_time": "2025-06-18T22:57:02.407988Z"
    }
   },
   "cell_type": "code",
   "source": [
    "def plot_df_prior_vs_posterior(\n",
    "    idata,\n",
    "    beta_df,\n",
    "    *,\n",
    "    kde_bw: str | float | None = None,   # gaussian_kde bandwidth\n",
    "    density_cut: float = 1e-2,           # trim x-axis where both dens < cut\n",
    "    xgrid_len: int = 2_000,\n",
    "    save_to: str | Path | None = None,\n",
    "):\n",
    "    \"\"\"\n",
    "    Overlay prior and posterior densities for every β_s found in *idata*,\n",
    "    using the new beta_df where 'beta_true' is a vector per (source, outcome).\n",
    "\n",
    "    Parameters\n",
    "    ----------\n",
    "    idata : arviz.InferenceData\n",
    "        Must contain variables beta_<s>.\n",
    "    beta_df : pandas.DataFrame\n",
    "        Must contain columns ['source','outcome','beta_true'], where 'beta_true'\n",
    "        is an array of latent β draws for each row.\n",
    "    kde_bw : str | float | None\n",
    "        Bandwidth for gaussian_kde.\n",
    "    density_cut : float\n",
    "        Trim x-axis where both prior & posterior density <= density_cut.\n",
    "    xgrid_len : int\n",
    "        Number of points in the evaluation grid.\n",
    "    save_to : str | Path | None\n",
    "        Path (including filename) where the figure will be saved.\n",
    "    \"\"\"\n",
    "\n",
    "    # 1) Build prior_samples: concatenate all beta_true vectors per source\n",
    "    prior_samples = {\n",
    "        s: np.concatenate(group['beta_true'].to_list())\n",
    "        for s, group in beta_df.groupby(\"source\")\n",
    "    }\n",
    "\n",
    "    # 2) Locate posterior β variables and available sources\n",
    "    beta_vars = [\n",
    "        v for v in idata.posterior.data_vars\n",
    "        if re.fullmatch(r\"beta_\\d+\", v)\n",
    "    ]\n",
    "    sources_avl = sorted(int(v.split(\"_\")[1]) for v in beta_vars)\n",
    "    if not sources_avl:\n",
    "        raise ValueError(\"No beta_* variables found in idata.posterior\")\n",
    "\n",
    "    # 3) Compute KDEs and sample ranges\n",
    "    prior_kde = {}\n",
    "    post_kde = {}\n",
    "    sample_rng = {}\n",
    "    for s in sources_avl:\n",
    "        if s not in prior_samples:\n",
    "            raise KeyError(f\"Missing prior samples for source {s}\")\n",
    "        prior_draws = np.asarray(prior_samples[s]).ravel()\n",
    "        prior_kde[s] = gaussian_kde(prior_draws, bw_method=kde_bw)\n",
    "\n",
    "        post_draws = idata.posterior[f\"beta_{s}\"].values.ravel()\n",
    "        post_kde[s] = gaussian_kde(post_draws, bw_method=kde_bw)\n",
    "\n",
    "        sample_rng[s] = (\n",
    "            min(prior_draws.min(), post_draws.min()),\n",
    "            max(prior_draws.max(), post_draws.max())\n",
    "        )\n",
    "\n",
    "    # 4) Plotting setup\n",
    "    n = len(sources_avl)\n",
    "    ncols = 2\n",
    "    nrows = int(np.ceil(n / ncols))\n",
    "    fig, axes = plt.subplots(nrows, ncols, figsize=(10, 4 * nrows))\n",
    "    axes = axes.flatten()\n",
    "\n",
    "    # 5) Plot each source\n",
    "    for idx, s in enumerate(sources_avl):\n",
    "        xmin, xmax = sample_rng[s]\n",
    "        xgrid = np.linspace(xmin, xmax, xgrid_len)\n",
    "\n",
    "        p_prior = prior_kde[s](xgrid)\n",
    "        p_post = post_kde[s](xgrid)\n",
    "\n",
    "        # Trim x-axis\n",
    "        mask = np.maximum(p_prior, p_post) > density_cut\n",
    "        if mask.any():\n",
    "            axes[idx].set_xlim(xgrid[mask].min(), xgrid[mask].max())\n",
    "\n",
    "        axes[idx].plot(xgrid, p_prior, label=\"Prior (KDE)\")\n",
    "        axes[idx].plot(xgrid, p_post, label=\"Posterior (KDE)\")\n",
    "        axes[idx].set_title(f\"Source {s}\")\n",
    "        axes[idx].set_xlabel(rf\"$\\beta_{{{s}}}$\")\n",
    "        axes[idx].set_ylabel(\"Density\")\n",
    "        axes[idx].grid(True)\n",
    "        axes[idx].legend()\n",
    "\n",
    "    # Turn off unused axes\n",
    "    for ax in axes[n:]:\n",
    "        ax.axis(\"off\")\n",
    "\n",
    "    fig.tight_layout()\n",
    "    if save_to:\n",
    "        fig.savefig(save_to, dpi=300, bbox_inches=\"tight\")\n",
    "        plt.close(fig)\n",
    "    else:\n",
    "        plt.show()"
   ],
   "id": "512baefada4ca19e",
   "outputs": [],
   "execution_count": 15
  },
  {
   "metadata": {
    "ExecuteTime": {
     "end_time": "2025-06-18T07:28:58.920325Z",
     "start_time": "2025-06-18T07:28:54.238423Z"
    }
   },
   "cell_type": "code",
   "source": "plot_df_prior_vs_posterior(idata, beta_df, kde_bw=0.2, density_cut=1e-1, save_to = \"results\")",
   "id": "8ba7827bd02eb2a5",
   "outputs": [],
   "execution_count": 16
  },
  {
   "metadata": {
    "ExecuteTime": {
     "end_time": "2025-06-18T22:57:05.488819Z",
     "start_time": "2025-06-18T22:57:05.475953Z"
    }
   },
   "cell_type": "code",
   "source": [
    "def kl_prior_posterior_beta(\n",
    "    idata,\n",
    "    beta_df: pd.DataFrame,\n",
    "    *,\n",
    "    posterior_bins: int = 200,\n",
    "    eps: float = 1e-12,\n",
    "):\n",
    "    \"\"\"\n",
    "    KL(posterior || prior) for each beta_s using Monte Carlo draws.\n",
    "\n",
    "    Now handles beta_df where 'beta_true' is a vector per row.\n",
    "    \"\"\"\n",
    "    # 1) Build prior_samples by concatenating beta_true vectors per source\n",
    "    prior_samples = {\n",
    "        source: np.concatenate(group[\"beta_true\"].to_list())\n",
    "        for source, group in beta_df.groupby(\"source\")\n",
    "    }\n",
    "\n",
    "    # 2) Identify posterior beta variables\n",
    "    beta_vars = [\n",
    "        v for v in idata.posterior.data_vars\n",
    "        if re.fullmatch(r\"beta_\\d+\", v)\n",
    "    ]\n",
    "    sources_avl = sorted(int(v.split(\"_\")[1]) for v in beta_vars)\n",
    "    if not sources_avl:\n",
    "        raise ValueError(\"No beta_* variables found in idata.posterior\")\n",
    "\n",
    "    kl_dict = {}\n",
    "    for s in sources_avl:\n",
    "        if s not in prior_samples:\n",
    "            raise KeyError(f\"Missing prior samples for source {s}\")\n",
    "\n",
    "        # Monte Carlo draws\n",
    "        prior_draws = prior_samples[s]\n",
    "        post_draws  = idata.posterior[f\"beta_{s}\"].values.ravel()\n",
    "\n",
    "        # Shared histogram grid\n",
    "        xmin = min(prior_draws.min(), post_draws.min())\n",
    "        xmax = max(prior_draws.max(), post_draws.max())\n",
    "        edges = np.linspace(xmin, xmax, posterior_bins + 1)\n",
    "        widths = np.diff(edges)\n",
    "\n",
    "        # Density estimation via histogram (normalized)\n",
    "        prior_hist, _ = np.histogram(prior_draws, bins=edges, density=True)\n",
    "        post_hist, _  = np.histogram(post_draws,  bins=edges, density=True)\n",
    "\n",
    "        # KL divergence ∑ p_post * log(p_post/p_prior) * Δx\n",
    "        p_post  = post_hist  + eps\n",
    "        p_prior = prior_hist + eps\n",
    "        kl_val = np.sum(widths * p_post * np.log(p_post / p_prior))\n",
    "        kl_dict[s] = kl_val\n",
    "\n",
    "    return kl_dict"
   ],
   "id": "668100248ca2aa49",
   "outputs": [],
   "execution_count": 16
  },
  {
   "metadata": {
    "ExecuteTime": {
     "end_time": "2025-06-18T07:29:04.040330Z",
     "start_time": "2025-06-18T07:29:04.020841Z"
    }
   },
   "cell_type": "code",
   "source": [
    "kl_vals = kl_prior_posterior_beta(idata, beta_df)\n",
    "for s, kl in kl_vals.items():\n",
    "    print(f\"Source {s}: KL(posterior‖prior) = {kl:0.4f}\")"
   ],
   "id": "5ce6367b15978731",
   "outputs": [
    {
     "name": "stdout",
     "output_type": "stream",
     "text": [
      "Source 1: KL(posterior‖prior) = 6.9208\n",
      "Source 2: KL(posterior‖prior) = 5.4139\n",
      "Source 3: KL(posterior‖prior) = 4.2342\n",
      "Source 4: KL(posterior‖prior) = 5.2733\n",
      "Source 5: KL(posterior‖prior) = 7.1273\n",
      "Source 6: KL(posterior‖prior) = 5.9993\n",
      "Source 7: KL(posterior‖prior) = 5.0772\n",
      "Source 8: KL(posterior‖prior) = 8.9493\n"
     ]
    }
   ],
   "execution_count": 18
  },
  {
   "metadata": {
    "ExecuteTime": {
     "end_time": "2025-06-18T22:57:09.789510Z",
     "start_time": "2025-06-18T22:57:09.783101Z"
    }
   },
   "cell_type": "code",
   "source": [
    "def summarise_beta_prior_posterior(\n",
    "    idata,\n",
    "    beta_df: pd.DataFrame,\n",
    "    *,\n",
    "    kl_dict: dict[int, float] | None = None,\n",
    "    glm_est_df: pd.DataFrame | None = None,\n",
    "    experiment_label: int | str = 1,\n",
    "    mode_bins: int = 30\n",
    "):\n",
    "    \"\"\"\n",
    "    Summarise PRIOR vs POSTERIOR for each β_s.\n",
    "\n",
    "    Parameters\n",
    "    ----------\n",
    "    idata : arviz.InferenceData\n",
    "        Must contain posterior variables named beta_<s>.\n",
    "    beta_df : pd.DataFrame\n",
    "        Must contain columns ['source','outcome','beta_true'],\n",
    "        where 'beta_true' is an array of latent β draws for each row.\n",
    "    kl_dict : dict {source → KL divergence}, optional\n",
    "        Precomputed KL divergences.\n",
    "    glm_est_df : pd.DataFrame, optional\n",
    "        Must contain columns ['source','beta_est'] from your simulate* functions.\n",
    "    experiment_label : hashable\n",
    "        Label for the experiment (goes in the \"experiment\" column).\n",
    "    mode_bins : int\n",
    "        Number of bins to use when estimating the empirical prior mode.\n",
    "\n",
    "    Returns\n",
    "    -------\n",
    "    stats_df : pandas.DataFrame\n",
    "        Columns:\n",
    "          experiment, source,\n",
    "          prior_mean, prior_median, prior_mode,\n",
    "          post_mean, post_median,\n",
    "          mean_error, median_error,\n",
    "          kl_divergence,\n",
    "          post_ci_lower, post_ci_upper,\n",
    "          ci_covers_prior_mean,\n",
    "          ci_covers_prior_median,\n",
    "          ci_covers_prior_mode,\n",
    "          glm_beta_est (if glm_est_df provided)\n",
    "    \"\"\"\n",
    "    # 1) Pool every source’s β_i draws to get empirical prior samples\n",
    "    prior_samples = {\n",
    "        s: np.concatenate(group[\"beta_true\"].to_list())\n",
    "        for s, group in beta_df.groupby(\"source\")\n",
    "    }\n",
    "\n",
    "    # 2) Locate β_s in the posterior\n",
    "    beta_vars = [v for v in idata.posterior.data_vars if re.fullmatch(r\"beta_\\d+\", v)]\n",
    "    sources_avl = sorted(int(v.split(\"_\")[1]) for v in beta_vars)\n",
    "    if not sources_avl:\n",
    "        raise ValueError(\"No beta_* variables found in idata.posterior\")\n",
    "\n",
    "    kl_dict = kl_dict or {}\n",
    "    records = []\n",
    "\n",
    "    # 3) Summarize each source\n",
    "    for s in sources_avl:\n",
    "        if s not in prior_samples:\n",
    "            raise KeyError(f\"Missing prior samples for source {s}\")\n",
    "\n",
    "        # --- Prior statistics ---\n",
    "        prior = prior_samples[s]\n",
    "        prior_mean   = float(prior.mean())\n",
    "        prior_median = float(np.median(prior))\n",
    "\n",
    "        # empirical mode via histogram\n",
    "        counts, bins = np.histogram(prior, bins=mode_bins)\n",
    "        bin_centers  = 0.5 * (bins[:-1] + bins[1:])\n",
    "        prior_mode   = float(bin_centers[np.argmax(counts)])\n",
    "\n",
    "        # --- Posterior statistics ---\n",
    "        post_draws   = idata.posterior[f\"beta_{s}\"].values.ravel()\n",
    "        post_mean    = float(post_draws.mean())\n",
    "        post_median  = float(np.median(post_draws))\n",
    "        ci_lower, ci_upper = np.percentile(post_draws, [2.5, 97.5])\n",
    "\n",
    "        rec = {\n",
    "            \"experiment\":            experiment_label,\n",
    "            \"source\":                s,\n",
    "            \"prior_mean\":            prior_mean,\n",
    "            \"prior_median\":          prior_median,\n",
    "            \"prior_mode\":            prior_mode,\n",
    "            \"post_mean\":             post_mean,\n",
    "            \"post_median\":           post_median,\n",
    "            \"mean_error\":            prior_mean - post_mean,\n",
    "            \"median_error\":          prior_median - post_median,\n",
    "            \"kl_divergence\":         kl_dict.get(s, np.nan),\n",
    "            \"post_ci_lower\":         ci_lower,\n",
    "            \"post_ci_upper\":         ci_upper,\n",
    "            \"ci_covers_prior_mean\":   (ci_lower <= prior_mean   <= ci_upper),\n",
    "            \"ci_covers_prior_median\": (ci_lower <= prior_median <= ci_upper),\n",
    "            \"ci_covers_prior_mode\":   (ci_lower <= prior_mode   <= ci_upper),\n",
    "        }\n",
    "\n",
    "        # --- Optional: pull in your GLM estimate for this source ---\n",
    "        if glm_est_df is not None:\n",
    "            est_row = glm_est_df.loc[glm_est_df[\"source\"] == s, \"beta_est\"]\n",
    "            rec[\"glm_beta_est\"] = float(est_row.values[0]) if not est_row.empty else np.nan\n",
    "\n",
    "        records.append(rec)\n",
    "\n",
    "    return pd.DataFrame.from_records(records)\n"
   ],
   "id": "e49508ae228fe207",
   "outputs": [],
   "execution_count": 17
  },
  {
   "metadata": {
    "ExecuteTime": {
     "end_time": "2025-06-18T07:30:05.441203Z",
     "start_time": "2025-06-18T07:30:05.417088Z"
    }
   },
   "cell_type": "code",
   "source": [
    "stats = summarise_beta_prior_posterior(\n",
    "    idata, beta_df,\n",
    "    kl_dict=kl_vals,\n",
    "    experiment_label=f\"rep1\",\n",
    "    glm_est_df = est_df\n",
    "\n",
    ")\n",
    "largest_info = largest_mean_pi_norm(idata, pis=pis)\n",
    "largest_df   = (\n",
    "    pd.DataFrame(largest_info)\n",
    "      .rename(columns={\n",
    "          \"component\":      \"largest_component\",\n",
    "          \"mean_value\":     \"mean_pi_norm\",\n",
    "          \"true_proportion\":\"true_max_pi\",\n",
    "          \"source\":         \"src_zero\",  # note: here source is zero-based\n",
    "      })\n",
    ")\n",
    "\n",
    "# create zero-based key directly\n",
    "stats[\"src_zero\"] = stats[\"source\"] - 1\n",
    "\n",
    "# merge on src_zero\n",
    "stats = (\n",
    "    stats\n",
    "      .merge(largest_df, on=\"src_zero\", how=\"left\")\n",
    "      .drop(columns=\"src_zero\")\n",
    ")\n",
    "\n",
    "\n"
   ],
   "id": "2218440b6695ee56",
   "outputs": [
    {
     "data": {
      "text/plain": [
       "  experiment  source  prior_mean  prior_median  prior_mode  post_mean  \\\n",
       "0       rep1       1    0.649148     -0.866873   -1.111361   0.296412   \n",
       "1       rep1       2    1.992259      3.919577    4.706374   1.175293   \n",
       "2       rep1       3    2.507483      3.854896    4.988695   1.580585   \n",
       "3       rep1       4    2.467438      3.823510    4.861754   1.514276   \n",
       "4       rep1       5    1.690037      3.973621    5.032365   0.905094   \n",
       "5       rep1       6    2.041087      3.946237   -1.081894   1.126850   \n",
       "6       rep1       7    2.177699      3.763070    4.683606   1.194731   \n",
       "7       rep1       8    0.966663      1.852094    4.990130   0.492027   \n",
       "\n",
       "   post_median  mean_error  median_error  kl_divergence  post_ci_lower  \\\n",
       "0     0.299132    0.352736     -1.166005       6.920845       0.239514   \n",
       "1     1.162330    0.816966      2.757247       5.413884       1.097294   \n",
       "2     1.568094    0.926899      2.286802       4.234182       1.499464   \n",
       "3     1.514611    0.953163      2.308898       5.273299       1.454133   \n",
       "4     0.906991    0.784943      3.066630       7.127307       0.849592   \n",
       "5     1.119954    0.914237      2.826284       5.999273       1.079110   \n",
       "6     1.186389    0.982969      2.576681       5.077229       1.102590   \n",
       "7     0.497195    0.474636      1.354898       8.949330       0.425848   \n",
       "\n",
       "   post_ci_upper  ci_covers_prior_mean  ci_covers_prior_median  \\\n",
       "0       0.341328                 False                   False   \n",
       "1       1.303893                 False                   False   \n",
       "2       1.709096                 False                   False   \n",
       "3       1.572541                 False                   False   \n",
       "4       0.950947                 False                   False   \n",
       "5       1.207525                 False                   False   \n",
       "6       1.313928                 False                   False   \n",
       "7       0.532436                 False                   False   \n",
       "\n",
       "   ci_covers_prior_mode  glm_beta_est  largest_component  mean_pi_norm  \\\n",
       "0                 False      0.278990                  0      0.416467   \n",
       "1                 False      1.194756                  0      0.438555   \n",
       "2                 False      1.600955                  0      0.429054   \n",
       "3                 False      1.514886                  0      0.432283   \n",
       "4                 False      0.895353                  0      0.436897   \n",
       "5                 False      1.151130                  0      0.435275   \n",
       "6                 False      1.204629                  0      0.434357   \n",
       "7                 False      0.463833                  0      0.426165   \n",
       "\n",
       "   true_max_pi  \n",
       "0     0.561821  \n",
       "1     0.401727  \n",
       "2     0.457125  \n",
       "3     0.307735  \n",
       "4     0.286113  \n",
       "5     0.398790  \n",
       "6     0.306765  \n",
       "7     0.357738  "
      ],
      "text/html": [
       "<div>\n",
       "<style scoped>\n",
       "    .dataframe tbody tr th:only-of-type {\n",
       "        vertical-align: middle;\n",
       "    }\n",
       "\n",
       "    .dataframe tbody tr th {\n",
       "        vertical-align: top;\n",
       "    }\n",
       "\n",
       "    .dataframe thead th {\n",
       "        text-align: right;\n",
       "    }\n",
       "</style>\n",
       "<table border=\"1\" class=\"dataframe\">\n",
       "  <thead>\n",
       "    <tr style=\"text-align: right;\">\n",
       "      <th></th>\n",
       "      <th>experiment</th>\n",
       "      <th>source</th>\n",
       "      <th>prior_mean</th>\n",
       "      <th>prior_median</th>\n",
       "      <th>prior_mode</th>\n",
       "      <th>post_mean</th>\n",
       "      <th>post_median</th>\n",
       "      <th>mean_error</th>\n",
       "      <th>median_error</th>\n",
       "      <th>kl_divergence</th>\n",
       "      <th>post_ci_lower</th>\n",
       "      <th>post_ci_upper</th>\n",
       "      <th>ci_covers_prior_mean</th>\n",
       "      <th>ci_covers_prior_median</th>\n",
       "      <th>ci_covers_prior_mode</th>\n",
       "      <th>glm_beta_est</th>\n",
       "      <th>largest_component</th>\n",
       "      <th>mean_pi_norm</th>\n",
       "      <th>true_max_pi</th>\n",
       "    </tr>\n",
       "  </thead>\n",
       "  <tbody>\n",
       "    <tr>\n",
       "      <th>0</th>\n",
       "      <td>rep1</td>\n",
       "      <td>1</td>\n",
       "      <td>0.649148</td>\n",
       "      <td>-0.866873</td>\n",
       "      <td>-1.111361</td>\n",
       "      <td>0.296412</td>\n",
       "      <td>0.299132</td>\n",
       "      <td>0.352736</td>\n",
       "      <td>-1.166005</td>\n",
       "      <td>6.920845</td>\n",
       "      <td>0.239514</td>\n",
       "      <td>0.341328</td>\n",
       "      <td>False</td>\n",
       "      <td>False</td>\n",
       "      <td>False</td>\n",
       "      <td>0.278990</td>\n",
       "      <td>0</td>\n",
       "      <td>0.416467</td>\n",
       "      <td>0.561821</td>\n",
       "    </tr>\n",
       "    <tr>\n",
       "      <th>1</th>\n",
       "      <td>rep1</td>\n",
       "      <td>2</td>\n",
       "      <td>1.992259</td>\n",
       "      <td>3.919577</td>\n",
       "      <td>4.706374</td>\n",
       "      <td>1.175293</td>\n",
       "      <td>1.162330</td>\n",
       "      <td>0.816966</td>\n",
       "      <td>2.757247</td>\n",
       "      <td>5.413884</td>\n",
       "      <td>1.097294</td>\n",
       "      <td>1.303893</td>\n",
       "      <td>False</td>\n",
       "      <td>False</td>\n",
       "      <td>False</td>\n",
       "      <td>1.194756</td>\n",
       "      <td>0</td>\n",
       "      <td>0.438555</td>\n",
       "      <td>0.401727</td>\n",
       "    </tr>\n",
       "    <tr>\n",
       "      <th>2</th>\n",
       "      <td>rep1</td>\n",
       "      <td>3</td>\n",
       "      <td>2.507483</td>\n",
       "      <td>3.854896</td>\n",
       "      <td>4.988695</td>\n",
       "      <td>1.580585</td>\n",
       "      <td>1.568094</td>\n",
       "      <td>0.926899</td>\n",
       "      <td>2.286802</td>\n",
       "      <td>4.234182</td>\n",
       "      <td>1.499464</td>\n",
       "      <td>1.709096</td>\n",
       "      <td>False</td>\n",
       "      <td>False</td>\n",
       "      <td>False</td>\n",
       "      <td>1.600955</td>\n",
       "      <td>0</td>\n",
       "      <td>0.429054</td>\n",
       "      <td>0.457125</td>\n",
       "    </tr>\n",
       "    <tr>\n",
       "      <th>3</th>\n",
       "      <td>rep1</td>\n",
       "      <td>4</td>\n",
       "      <td>2.467438</td>\n",
       "      <td>3.823510</td>\n",
       "      <td>4.861754</td>\n",
       "      <td>1.514276</td>\n",
       "      <td>1.514611</td>\n",
       "      <td>0.953163</td>\n",
       "      <td>2.308898</td>\n",
       "      <td>5.273299</td>\n",
       "      <td>1.454133</td>\n",
       "      <td>1.572541</td>\n",
       "      <td>False</td>\n",
       "      <td>False</td>\n",
       "      <td>False</td>\n",
       "      <td>1.514886</td>\n",
       "      <td>0</td>\n",
       "      <td>0.432283</td>\n",
       "      <td>0.307735</td>\n",
       "    </tr>\n",
       "    <tr>\n",
       "      <th>4</th>\n",
       "      <td>rep1</td>\n",
       "      <td>5</td>\n",
       "      <td>1.690037</td>\n",
       "      <td>3.973621</td>\n",
       "      <td>5.032365</td>\n",
       "      <td>0.905094</td>\n",
       "      <td>0.906991</td>\n",
       "      <td>0.784943</td>\n",
       "      <td>3.066630</td>\n",
       "      <td>7.127307</td>\n",
       "      <td>0.849592</td>\n",
       "      <td>0.950947</td>\n",
       "      <td>False</td>\n",
       "      <td>False</td>\n",
       "      <td>False</td>\n",
       "      <td>0.895353</td>\n",
       "      <td>0</td>\n",
       "      <td>0.436897</td>\n",
       "      <td>0.286113</td>\n",
       "    </tr>\n",
       "    <tr>\n",
       "      <th>5</th>\n",
       "      <td>rep1</td>\n",
       "      <td>6</td>\n",
       "      <td>2.041087</td>\n",
       "      <td>3.946237</td>\n",
       "      <td>-1.081894</td>\n",
       "      <td>1.126850</td>\n",
       "      <td>1.119954</td>\n",
       "      <td>0.914237</td>\n",
       "      <td>2.826284</td>\n",
       "      <td>5.999273</td>\n",
       "      <td>1.079110</td>\n",
       "      <td>1.207525</td>\n",
       "      <td>False</td>\n",
       "      <td>False</td>\n",
       "      <td>False</td>\n",
       "      <td>1.151130</td>\n",
       "      <td>0</td>\n",
       "      <td>0.435275</td>\n",
       "      <td>0.398790</td>\n",
       "    </tr>\n",
       "    <tr>\n",
       "      <th>6</th>\n",
       "      <td>rep1</td>\n",
       "      <td>7</td>\n",
       "      <td>2.177699</td>\n",
       "      <td>3.763070</td>\n",
       "      <td>4.683606</td>\n",
       "      <td>1.194731</td>\n",
       "      <td>1.186389</td>\n",
       "      <td>0.982969</td>\n",
       "      <td>2.576681</td>\n",
       "      <td>5.077229</td>\n",
       "      <td>1.102590</td>\n",
       "      <td>1.313928</td>\n",
       "      <td>False</td>\n",
       "      <td>False</td>\n",
       "      <td>False</td>\n",
       "      <td>1.204629</td>\n",
       "      <td>0</td>\n",
       "      <td>0.434357</td>\n",
       "      <td>0.306765</td>\n",
       "    </tr>\n",
       "    <tr>\n",
       "      <th>7</th>\n",
       "      <td>rep1</td>\n",
       "      <td>8</td>\n",
       "      <td>0.966663</td>\n",
       "      <td>1.852094</td>\n",
       "      <td>4.990130</td>\n",
       "      <td>0.492027</td>\n",
       "      <td>0.497195</td>\n",
       "      <td>0.474636</td>\n",
       "      <td>1.354898</td>\n",
       "      <td>8.949330</td>\n",
       "      <td>0.425848</td>\n",
       "      <td>0.532436</td>\n",
       "      <td>False</td>\n",
       "      <td>False</td>\n",
       "      <td>False</td>\n",
       "      <td>0.463833</td>\n",
       "      <td>0</td>\n",
       "      <td>0.426165</td>\n",
       "      <td>0.357738</td>\n",
       "    </tr>\n",
       "  </tbody>\n",
       "</table>\n",
       "</div>"
      ]
     },
     "execution_count": 22,
     "metadata": {},
     "output_type": "execute_result"
    }
   ],
   "execution_count": 22
  },
  {
   "metadata": {
    "jupyter": {
     "is_executing": true
    },
    "ExecuteTime": {
     "start_time": "2025-06-18T23:02:58.978544Z"
    }
   },
   "cell_type": "code",
   "source": [
    "def run_hdp_experiments(\n",
    "    K: int,\n",
    "    O: int,\n",
    "    S: int,\n",
    "    n_obs: int,\n",
    "    N_sources: int,\n",
    "    seed: int,\n",
    "    output_base: str,\n",
    "    *,\n",
    "    num_warmup: int = 5000,\n",
    "    num_samples: int = 20000,\n",
    "    n_reps: int = 10,                 # ← how many repetitions (k times)\n",
    "):\n",
    "    \"\"\"\n",
    "    Run the complete HDP simulation / fitting experiment `n_reps` times for\n",
    "    *each* of the three data-generating families: linear, Poisson, logistic.\n",
    "\n",
    "    All artefacts are written beneath\n",
    "\n",
    "        {output_base}/{model_type}/\n",
    "\n",
    "    where `model_type` ∈ {\"linear\",\"poisson\",\"logistic\"}.\n",
    "    A single CSV containing the concatenated summary statistics is produced\n",
    "    for every model family.\n",
    "\n",
    "    Parameters\n",
    "    ----------\n",
    "    K, O, S, n_obs\n",
    "        Mixture, outcome & observation sizes to pass through to your\n",
    "        simulate_profile_likelihoods_* helpers.\n",
    "    N_sources\n",
    "        Preset number of sources in the HDP.\n",
    "    seed\n",
    "        Global seed.  Repetition-specific seeds are derived from it so that no\n",
    "        two repetitions ever share the same random stream.\n",
    "    output_base\n",
    "        Root directory in which all results will be stored.\n",
    "    num_warmup, num_samples\n",
    "        Sampler settings for the NUTS-based MCMC.\n",
    "    n_reps\n",
    "        Number of repetitions **per model family**.\n",
    "    \"\"\"\n",
    "\n",
    "    today_str = date.today().isoformat()\n",
    "    rng_master = np.random.default_rng(seed)\n",
    "\n",
    "    # Map each model family to its simulator helper ---------------------------\n",
    "    sim_fns = dict(\n",
    "        linear   = simulate_profile_likelihoods_linreg,\n",
    "        poisson  = simulate_profile_likelihoods_poisson,\n",
    "        logistic = simulate_profile_likelihoods_logistic,\n",
    "    )\n",
    "\n",
    "    for model_type, sim_fn in sim_fns.items():\n",
    "        model_dir = Path(output_base) / model_type\n",
    "        fig_dir   = model_dir / \"figures\" / \"beta_plots\"\n",
    "        data_dir  = model_dir / \"data\"\n",
    "        fig_dir.mkdir(parents=True, exist_ok=True)\n",
    "\n",
    "        stats_all   = []   # collects one DF per repetition\n",
    "        kl_all      = []\n",
    "        proportion_largest = []\n",
    "\n",
    "        for rep in range(1, n_reps + 1):\n",
    "            # ----------------------------------------------------------------\n",
    "            # 1)  Data generation\n",
    "            # ----------------------------------------------------------------\n",
    "            rep_seed = rng_master.integers(seed+rep)\n",
    "            rng_rep  = np.random.default_rng(rep_seed)\n",
    "\n",
    "            grid_pts  = np.linspace(-10, 10, 100)\n",
    "            beta_mean = rng_rep.normal(loc=1.5, scale=0.7, size=K)\n",
    "            beta_sds  = np.abs(rng_rep.normal(loc=0.0, scale=1.0, size=K))\n",
    "\n",
    "            # Simulator may have family-specific keyword parameters.\n",
    "            sim_kwargs = dict(\n",
    "                K=K, S=S, O=O, n_obs=n_obs,\n",
    "                beta_mean=beta_mean,\n",
    "                beta_sds=beta_sds,\n",
    "                grid=grid_pts,\n",
    "                seed=rep_seed,\n",
    "            )\n",
    "            if model_type == \"linear\":\n",
    "                sim_kwargs[\"sigma_noise\"] = 0.8\n",
    "            if model_type == \"logistic\" or model_type == \"poisson\":\n",
    "                sim_kwargs[\"n_obs\"] = 1000\n",
    "\n",
    "            df_sim, pis_true, df_betas, est_df = sim_fn(**sim_kwargs)\n",
    "\n",
    "            # ----------------------------------------------------------------\n",
    "            # 2)  Reshape into source-outcome dict expected by HDP_model\n",
    "            # ----------------------------------------------------------------\n",
    "            source_outcome_data = {}\n",
    "            for s in range(1, N_sources + 1):\n",
    "                df_s = df_sim[df_sim[\"source\"] == s]\n",
    "                outcome_list = []\n",
    "                for o in sorted(df_s[\"outcome\"].unique()):\n",
    "                    arr = df_s[df_s[\"outcome\"] == o][[\"point\", \"value\"]].to_numpy()\n",
    "                    outcome_list.append(jnp.array(arr))\n",
    "                source_outcome_data[s] = outcome_list\n",
    "\n",
    "            num_outcomes_dict = {s: len(source_outcome_data[s])\n",
    "                                 for s in range(1, N_sources + 1)}\n",
    "\n",
    "            # ----------------------------------------------------------------\n",
    "            # 3)  Run HDP\n",
    "            # ----------------------------------------------------------------\n",
    "            rng_key = random.PRNGKey(rep_seed)\n",
    "            data_point_mean = df_sim[\"point\"].mean()\n",
    "\n",
    "            nuts_kernel = NUTS(HDP_model)\n",
    "            mcmc = MCMC(nuts_kernel, num_warmup=num_warmup, num_samples=num_samples)\n",
    "            mcmc.run(\n",
    "                rng_key,\n",
    "                source_outcome_data=source_outcome_data,\n",
    "                num_outcomes_dict=num_outcomes_dict,\n",
    "                N_sources=N_sources,\n",
    "                k=K,\n",
    "                data_point_mean=data_point_mean,\n",
    "            )\n",
    "            idata = az.from_numpyro(mcmc)\n",
    "\n",
    "            store_beta_posteriors(\n",
    "                idata=idata,\n",
    "                df_sim=df_sim,\n",
    "                beta_df=df_betas,\n",
    "                output_folder=data_dir/f\"rep{rep}\",\n",
    "                file_ext=\"npz\",      # or \"npy\"\n",
    "                compress=True,\n",
    "            )\n",
    "\n",
    "            # ----------------------------------------------------------------\n",
    "            # 4)  Save betas density histograms\n",
    "            # ----------------------------------------------------------------\n",
    "            save_beta_density_hist(\n",
    "                idata,\n",
    "                output_folder=str(fig_dir),\n",
    "                experiment=f\"rep{rep}\",\n",
    "            )\n",
    "\n",
    "            # ----------------------------------------------------------------\n",
    "            # 5)  Save PPC (prior vs posterior) comparison\n",
    "            # ----------------------------------------------------------------\n",
    "            ppc_path = model_dir / f\"rep{rep}_ppc.png\"\n",
    "            ppc_obj  = plot_df_prior_vs_posterior(idata, df_betas, save_to=ppc_path)\n",
    "\n",
    "\n",
    "            if isinstance(ppc_obj, plt.Figure):           # helper returns a Figure\n",
    "                ppc_obj.savefig(ppc_path, dpi=300, bbox_inches=\"tight\")\n",
    "                plt.close(ppc_obj)\n",
    "\n",
    "            elif hasattr(ppc_obj, \"figure\"):              # helper returns an Axes\n",
    "                ppc_obj.figure.savefig(ppc_path, dpi=300, bbox_inches=\"tight\")\n",
    "                plt.close(ppc_obj.figure)\n",
    "\n",
    "            else:\n",
    "                # Helper already saved the plot (or user doesn’t need a file).\n",
    "                # If you still want confirmation:\n",
    "                print(f\"  [info] plot_df_prior_vs_posterior returned {type(ppc_obj)}; \"\n",
    "                      \"skipping explicit save.\")\n",
    "\n",
    "            # ----------------------------------------------------------------\n",
    "            # 6)  KL divergence\n",
    "            # ----------------------------------------------------------------\n",
    "            kl_vals = kl_prior_posterior_beta(idata, beta_df=df_betas)\n",
    "            kl_vals[\"rep\"] = rep          # keep track of repetition\n",
    "            kl_all.append(kl_vals)\n",
    "\n",
    "            # ----------------------------------------------------------------\n",
    "            # 7)  Summary statistics\n",
    "            # ----------------------------------------------------------------\n",
    "            stats = summarise_beta_prior_posterior(idata,\n",
    "                                                   df_betas,\n",
    "                                                   kl_dict=kl_vals, experiment_label=f\"rep{rep}\",\n",
    "                                                   glm_est_df = est_df\n",
    "                                                   )\n",
    "            largest_info = largest_mean_pi_norm(idata, pis=pis)\n",
    "            largest_df   = pd.DataFrame(largest_info).rename(columns={\n",
    "                \"component\":      \"largest_component\",\n",
    "                \"mean_value\":     \"mean_pi_norm\",\n",
    "                \"true_proportion\":\"true_max_pi\",\n",
    "                \"source\":         \"src_zero\",\n",
    "            })\n",
    "\n",
    "            # 3 ── create the join key in *stats*  (convert “beta1” → 0, “beta2” → 1, …)\n",
    "            stats[\"src_zero\"] = stats[\"source\"] - 1\n",
    "\n",
    "            # 4 ── merge and drop helper key\n",
    "            stats = (\n",
    "                stats\n",
    "                  .merge(largest_df, on=\"src_zero\", how=\"left\")\n",
    "                  .drop(columns=\"src_zero\")\n",
    "            )\n",
    "            stats_all.append(stats)\n",
    "            # compute and store G0 components\n",
    "\n",
    "            g0_path = data_dir/f\"rep{rep}\"/ \"g0_components.npz\"\n",
    "            compute_g0_components(idata, output_path=str(g0_path), xgrid_len=2000)\n",
    "\n",
    "            # plot and save mean G0 density\n",
    "            g0_fig = fig_dir / f\"rep{rep}_g0.png\"\n",
    "            plot_g0_density_from_file(npz_path=str(g0_path), density_cut=1e-2, save_to=str(g0_fig))\n",
    "\n",
    "            print(f\"[{model_type}] repetition {rep} finished.\")\n",
    "\n",
    "        # --------------------------------------------------------------------\n",
    "        #  Persist concatenated results for this model family\n",
    "        # --------------------------------------------------------------------\n",
    "        stats_df = pd.concat(stats_all, ignore_index=True)\n",
    "        fname = model_dir / f\"beta_summary_stats.csv\"\n",
    "        stats_df.to_csv(fname, index=False)\n",
    "\n",
    "\n",
    "        print(f\"\\nCompleted all {n_reps} repetitions for '{model_type}'. \"\n",
    "              f\"Results stored in: {model_dir}\\n\")\n",
    "\n",
    "# Example run:\n",
    "today_str = date.today().isoformat()\n",
    "run_hdp_experiments(\n",
    "    K=5, O=8, S=8, n_obs=120,\n",
    "    N_sources=8,\n",
    "    seed=42,\n",
    "    output_base=f\"results_sample_{today_str}\",\n",
    "    num_warmup=5000,\n",
    "    num_samples=20000,\n",
    "    n_reps=100\n",
    ")\n",
    "\n"
   ],
   "id": "bd065eb80159477",
   "outputs": [
    {
     "name": "stderr",
     "output_type": "stream",
     "text": [
      "sample: 100%|██████████| 25000/25000 [02:46<00:00, 150.58it/s, 255 steps of size 1.11e-02. acc. prob=0.91] \n"
     ]
    },
    {
     "name": "stdout",
     "output_type": "stream",
     "text": [
      "Stored 8 β posteriors in results_sample_2025-06-18\\linear\\data\\rep1\n",
      "Saved experiment rep1 beta densities to results_sample_2025-06-18\\linear\\figures\\beta_plots\n",
      "  [info] plot_df_prior_vs_posterior returned <class 'NoneType'>; skipping explicit save.\n",
      "[linear] repetition 1 finished.\n"
     ]
    },
    {
     "name": "stderr",
     "output_type": "stream",
     "text": [
      "sample: 100%|██████████| 25000/25000 [01:30<00:00, 275.27it/s, 40 steps of size 2.21e-02. acc. prob=0.60] \n"
     ]
    },
    {
     "name": "stdout",
     "output_type": "stream",
     "text": [
      "Stored 8 β posteriors in results_sample_2025-06-18\\linear\\data\\rep2\n",
      "Saved experiment rep2 beta densities to results_sample_2025-06-18\\linear\\figures\\beta_plots\n",
      "  [info] plot_df_prior_vs_posterior returned <class 'NoneType'>; skipping explicit save.\n",
      "[linear] repetition 2 finished.\n"
     ]
    },
    {
     "name": "stderr",
     "output_type": "stream",
     "text": [
      "sample: 100%|██████████| 25000/25000 [00:49<00:00, 505.83it/s, 63 steps of size 5.02e-02. acc. prob=0.84] \n"
     ]
    },
    {
     "name": "stdout",
     "output_type": "stream",
     "text": [
      "Stored 8 β posteriors in results_sample_2025-06-18\\linear\\data\\rep3\n",
      "Saved experiment rep3 beta densities to results_sample_2025-06-18\\linear\\figures\\beta_plots\n",
      "  [info] plot_df_prior_vs_posterior returned <class 'NoneType'>; skipping explicit save.\n",
      "[linear] repetition 3 finished.\n"
     ]
    },
    {
     "name": "stderr",
     "output_type": "stream",
     "text": [
      "sample: 100%|██████████| 25000/25000 [04:07<00:00, 100.91it/s, 511 steps of size 6.77e-03. acc. prob=0.93] \n"
     ]
    },
    {
     "name": "stdout",
     "output_type": "stream",
     "text": [
      "Stored 8 β posteriors in results_sample_2025-06-18\\linear\\data\\rep4\n",
      "Saved experiment rep4 beta densities to results_sample_2025-06-18\\linear\\figures\\beta_plots\n",
      "  [info] plot_df_prior_vs_posterior returned <class 'NoneType'>; skipping explicit save.\n",
      "[linear] repetition 4 finished.\n"
     ]
    },
    {
     "name": "stderr",
     "output_type": "stream",
     "text": [
      "sample: 100%|██████████| 25000/25000 [04:09<00:00, 100.39it/s, 511 steps of size 6.77e-03. acc. prob=0.93] \n"
     ]
    },
    {
     "name": "stdout",
     "output_type": "stream",
     "text": [
      "Stored 8 β posteriors in results_sample_2025-06-18\\linear\\data\\rep5\n",
      "Saved experiment rep5 beta densities to results_sample_2025-06-18\\linear\\figures\\beta_plots\n",
      "  [info] plot_df_prior_vs_posterior returned <class 'NoneType'>; skipping explicit save.\n",
      "[linear] repetition 5 finished.\n"
     ]
    },
    {
     "name": "stderr",
     "output_type": "stream",
     "text": [
      "sample: 100%|██████████| 25000/25000 [00:45<00:00, 554.10it/s, 63 steps of size 5.84e-02. acc. prob=0.76] \n"
     ]
    },
    {
     "name": "stdout",
     "output_type": "stream",
     "text": [
      "Stored 8 β posteriors in results_sample_2025-06-18\\linear\\data\\rep6\n",
      "Saved experiment rep6 beta densities to results_sample_2025-06-18\\linear\\figures\\beta_plots\n",
      "  [info] plot_df_prior_vs_posterior returned <class 'NoneType'>; skipping explicit save.\n",
      "[linear] repetition 6 finished.\n"
     ]
    },
    {
     "name": "stderr",
     "output_type": "stream",
     "text": [
      "sample: 100%|██████████| 25000/25000 [00:51<00:00, 484.96it/s, 63 steps of size 5.08e-02. acc. prob=0.55] \n"
     ]
    },
    {
     "name": "stdout",
     "output_type": "stream",
     "text": [
      "Stored 8 β posteriors in results_sample_2025-06-18\\linear\\data\\rep7\n",
      "Saved experiment rep7 beta densities to results_sample_2025-06-18\\linear\\figures\\beta_plots\n",
      "  [info] plot_df_prior_vs_posterior returned <class 'NoneType'>; skipping explicit save.\n",
      "[linear] repetition 7 finished.\n"
     ]
    },
    {
     "name": "stderr",
     "output_type": "stream",
     "text": [
      "sample: 100%|██████████| 25000/25000 [01:31<00:00, 273.87it/s, 40 steps of size 2.21e-02. acc. prob=0.60] \n"
     ]
    },
    {
     "name": "stdout",
     "output_type": "stream",
     "text": [
      "Stored 8 β posteriors in results_sample_2025-06-18\\linear\\data\\rep8\n",
      "Saved experiment rep8 beta densities to results_sample_2025-06-18\\linear\\figures\\beta_plots\n",
      "  [info] plot_df_prior_vs_posterior returned <class 'NoneType'>; skipping explicit save.\n",
      "[linear] repetition 8 finished.\n"
     ]
    },
    {
     "name": "stderr",
     "output_type": "stream",
     "text": [
      "sample: 100%|██████████| 25000/25000 [00:51<00:00, 489.07it/s, 15 steps of size 5.52e-02. acc. prob=0.84] \n"
     ]
    },
    {
     "name": "stdout",
     "output_type": "stream",
     "text": [
      "Stored 8 β posteriors in results_sample_2025-06-18\\linear\\data\\rep9\n",
      "Saved experiment rep9 beta densities to results_sample_2025-06-18\\linear\\figures\\beta_plots\n",
      "  [info] plot_df_prior_vs_posterior returned <class 'NoneType'>; skipping explicit save.\n",
      "[linear] repetition 9 finished.\n"
     ]
    },
    {
     "name": "stderr",
     "output_type": "stream",
     "text": [
      "sample: 100%|██████████| 25000/25000 [00:52<00:00, 472.63it/s, 63 steps of size 5.08e-02. acc. prob=0.55] \n"
     ]
    },
    {
     "name": "stdout",
     "output_type": "stream",
     "text": [
      "Stored 8 β posteriors in results_sample_2025-06-18\\linear\\data\\rep10\n",
      "Saved experiment rep10 beta densities to results_sample_2025-06-18\\linear\\figures\\beta_plots\n",
      "  [info] plot_df_prior_vs_posterior returned <class 'NoneType'>; skipping explicit save.\n",
      "[linear] repetition 10 finished.\n"
     ]
    },
    {
     "name": "stderr",
     "output_type": "stream",
     "text": [
      "sample: 100%|██████████| 25000/25000 [05:04<00:00, 82.16it/s, 1023 steps of size 5.31e-03. acc. prob=0.91] \n"
     ]
    },
    {
     "name": "stdout",
     "output_type": "stream",
     "text": [
      "Stored 8 β posteriors in results_sample_2025-06-18\\linear\\data\\rep11\n",
      "Saved experiment rep11 beta densities to results_sample_2025-06-18\\linear\\figures\\beta_plots\n",
      "  [info] plot_df_prior_vs_posterior returned <class 'NoneType'>; skipping explicit save.\n",
      "[linear] repetition 11 finished.\n"
     ]
    },
    {
     "name": "stderr",
     "output_type": "stream",
     "text": [
      "sample: 100%|██████████| 25000/25000 [00:53<00:00, 465.49it/s, 61 steps of size 5.32e-02. acc. prob=0.76] \n"
     ]
    },
    {
     "name": "stdout",
     "output_type": "stream",
     "text": [
      "Stored 8 β posteriors in results_sample_2025-06-18\\linear\\data\\rep12\n",
      "Saved experiment rep12 beta densities to results_sample_2025-06-18\\linear\\figures\\beta_plots\n",
      "  [info] plot_df_prior_vs_posterior returned <class 'NoneType'>; skipping explicit save.\n",
      "[linear] repetition 12 finished.\n"
     ]
    },
    {
     "name": "stderr",
     "output_type": "stream",
     "text": [
      "sample: 100%|██████████| 25000/25000 [01:11<00:00, 349.10it/s, 29 steps of size 2.80e-02. acc. prob=0.89] \n"
     ]
    },
    {
     "name": "stdout",
     "output_type": "stream",
     "text": [
      "Stored 8 β posteriors in results_sample_2025-06-18\\linear\\data\\rep13\n",
      "Saved experiment rep13 beta densities to results_sample_2025-06-18\\linear\\figures\\beta_plots\n",
      "  [info] plot_df_prior_vs_posterior returned <class 'NoneType'>; skipping explicit save.\n",
      "[linear] repetition 13 finished.\n"
     ]
    },
    {
     "name": "stderr",
     "output_type": "stream",
     "text": [
      "sample: 100%|██████████| 25000/25000 [00:47<00:00, 526.46it/s, 57 steps of size 5.21e-02. acc. prob=0.84] \n"
     ]
    },
    {
     "name": "stdout",
     "output_type": "stream",
     "text": [
      "Stored 8 β posteriors in results_sample_2025-06-18\\linear\\data\\rep14\n",
      "Saved experiment rep14 beta densities to results_sample_2025-06-18\\linear\\figures\\beta_plots\n",
      "  [info] plot_df_prior_vs_posterior returned <class 'NoneType'>; skipping explicit save.\n",
      "[linear] repetition 14 finished.\n"
     ]
    },
    {
     "name": "stderr",
     "output_type": "stream",
     "text": [
      "sample: 100%|██████████| 25000/25000 [01:10<00:00, 354.20it/s, 29 steps of size 2.80e-02. acc. prob=0.89] \n"
     ]
    },
    {
     "name": "stdout",
     "output_type": "stream",
     "text": [
      "Stored 8 β posteriors in results_sample_2025-06-18\\linear\\data\\rep15\n",
      "Saved experiment rep15 beta densities to results_sample_2025-06-18\\linear\\figures\\beta_plots\n",
      "  [info] plot_df_prior_vs_posterior returned <class 'NoneType'>; skipping explicit save.\n",
      "[linear] repetition 15 finished.\n"
     ]
    },
    {
     "name": "stderr",
     "output_type": "stream",
     "text": [
      "sample: 100%|██████████| 25000/25000 [00:58<00:00, 426.73it/s, 5 steps of size 4.49e-02. acc. prob=0.85]  \n"
     ]
    },
    {
     "name": "stdout",
     "output_type": "stream",
     "text": [
      "Stored 8 β posteriors in results_sample_2025-06-18\\linear\\data\\rep16\n",
      "Saved experiment rep16 beta densities to results_sample_2025-06-18\\linear\\figures\\beta_plots\n",
      "  [info] plot_df_prior_vs_posterior returned <class 'NoneType'>; skipping explicit save.\n",
      "[linear] repetition 16 finished.\n"
     ]
    },
    {
     "name": "stderr",
     "output_type": "stream",
     "text": [
      "sample: 100%|██████████| 25000/25000 [01:34<00:00, 264.22it/s, 82 steps of size 1.96e-02. acc. prob=0.17]  \n"
     ]
    },
    {
     "name": "stdout",
     "output_type": "stream",
     "text": [
      "Stored 8 β posteriors in results_sample_2025-06-18\\linear\\data\\rep17\n",
      "Saved experiment rep17 beta densities to results_sample_2025-06-18\\linear\\figures\\beta_plots\n",
      "  [info] plot_df_prior_vs_posterior returned <class 'NoneType'>; skipping explicit save.\n",
      "[linear] repetition 17 finished.\n"
     ]
    },
    {
     "name": "stderr",
     "output_type": "stream",
     "text": [
      "sample: 100%|██████████| 25000/25000 [00:56<00:00, 445.27it/s, 63 steps of size 4.55e-02. acc. prob=0.84] \n"
     ]
    },
    {
     "name": "stdout",
     "output_type": "stream",
     "text": [
      "Stored 8 β posteriors in results_sample_2025-06-18\\linear\\data\\rep18\n",
      "Saved experiment rep18 beta densities to results_sample_2025-06-18\\linear\\figures\\beta_plots\n",
      "  [info] plot_df_prior_vs_posterior returned <class 'NoneType'>; skipping explicit save.\n",
      "[linear] repetition 18 finished.\n"
     ]
    },
    {
     "name": "stderr",
     "output_type": "stream",
     "text": [
      "sample: 100%|██████████| 25000/25000 [00:53<00:00, 463.25it/s, 59 steps of size 4.35e-02. acc. prob=0.83] \n"
     ]
    },
    {
     "name": "stdout",
     "output_type": "stream",
     "text": [
      "Stored 8 β posteriors in results_sample_2025-06-18\\linear\\data\\rep19\n",
      "Saved experiment rep19 beta densities to results_sample_2025-06-18\\linear\\figures\\beta_plots\n",
      "  [info] plot_df_prior_vs_posterior returned <class 'NoneType'>; skipping explicit save.\n",
      "[linear] repetition 19 finished.\n"
     ]
    },
    {
     "name": "stderr",
     "output_type": "stream",
     "text": [
      "sample: 100%|██████████| 25000/25000 [05:03<00:00, 82.31it/s, 1023 steps of size 5.31e-03. acc. prob=0.91] \n"
     ]
    },
    {
     "name": "stdout",
     "output_type": "stream",
     "text": [
      "Stored 8 β posteriors in results_sample_2025-06-18\\linear\\data\\rep20\n",
      "Saved experiment rep20 beta densities to results_sample_2025-06-18\\linear\\figures\\beta_plots\n",
      "  [info] plot_df_prior_vs_posterior returned <class 'NoneType'>; skipping explicit save.\n",
      "[linear] repetition 20 finished.\n"
     ]
    },
    {
     "name": "stderr",
     "output_type": "stream",
     "text": [
      "sample: 100%|██████████| 25000/25000 [00:41<00:00, 600.38it/s, 63 steps of size 7.37e-02. acc. prob=0.77]\n"
     ]
    },
    {
     "name": "stdout",
     "output_type": "stream",
     "text": [
      "Stored 8 β posteriors in results_sample_2025-06-18\\linear\\data\\rep21\n",
      "Saved experiment rep21 beta densities to results_sample_2025-06-18\\linear\\figures\\beta_plots\n",
      "  [info] plot_df_prior_vs_posterior returned <class 'NoneType'>; skipping explicit save.\n",
      "[linear] repetition 21 finished.\n"
     ]
    },
    {
     "name": "stderr",
     "output_type": "stream",
     "text": [
      "sample: 100%|██████████| 25000/25000 [01:04<00:00, 388.75it/s, 98 steps of size 3.49e-02. acc. prob=0.86] \n"
     ]
    },
    {
     "name": "stdout",
     "output_type": "stream",
     "text": [
      "Stored 8 β posteriors in results_sample_2025-06-18\\linear\\data\\rep22\n",
      "Saved experiment rep22 beta densities to results_sample_2025-06-18\\linear\\figures\\beta_plots\n",
      "  [info] plot_df_prior_vs_posterior returned <class 'NoneType'>; skipping explicit save.\n",
      "[linear] repetition 22 finished.\n"
     ]
    },
    {
     "name": "stderr",
     "output_type": "stream",
     "text": [
      "sample: 100%|██████████| 25000/25000 [01:01<00:00, 407.03it/s, 90 steps of size 4.27e-02. acc. prob=0.75] \n"
     ]
    },
    {
     "name": "stdout",
     "output_type": "stream",
     "text": [
      "Stored 8 β posteriors in results_sample_2025-06-18\\linear\\data\\rep23\n",
      "Saved experiment rep23 beta densities to results_sample_2025-06-18\\linear\\figures\\beta_plots\n",
      "  [info] plot_df_prior_vs_posterior returned <class 'NoneType'>; skipping explicit save.\n",
      "[linear] repetition 23 finished.\n"
     ]
    },
    {
     "name": "stderr",
     "output_type": "stream",
     "text": [
      "sample: 100%|██████████| 25000/25000 [01:01<00:00, 405.70it/s, 3 steps of size 5.34e-02. acc. prob=0.63]  \n"
     ]
    },
    {
     "name": "stdout",
     "output_type": "stream",
     "text": [
      "Stored 8 β posteriors in results_sample_2025-06-18\\linear\\data\\rep24\n",
      "Saved experiment rep24 beta densities to results_sample_2025-06-18\\linear\\figures\\beta_plots\n",
      "  [info] plot_df_prior_vs_posterior returned <class 'NoneType'>; skipping explicit save.\n",
      "[linear] repetition 24 finished.\n"
     ]
    },
    {
     "name": "stderr",
     "output_type": "stream",
     "text": [
      "sample: 100%|██████████| 25000/25000 [00:53<00:00, 470.44it/s, 61 steps of size 5.32e-02. acc. prob=0.76] \n"
     ]
    },
    {
     "name": "stdout",
     "output_type": "stream",
     "text": [
      "Stored 8 β posteriors in results_sample_2025-06-18\\linear\\data\\rep25\n",
      "Saved experiment rep25 beta densities to results_sample_2025-06-18\\linear\\figures\\beta_plots\n",
      "  [info] plot_df_prior_vs_posterior returned <class 'NoneType'>; skipping explicit save.\n",
      "[linear] repetition 25 finished.\n"
     ]
    },
    {
     "name": "stderr",
     "output_type": "stream",
     "text": [
      "sample: 100%|██████████| 25000/25000 [00:56<00:00, 443.90it/s, 12 steps of size 5.68e-02. acc. prob=0.73]  \n"
     ]
    },
    {
     "name": "stdout",
     "output_type": "stream",
     "text": [
      "Stored 8 β posteriors in results_sample_2025-06-18\\linear\\data\\rep26\n",
      "Saved experiment rep26 beta densities to results_sample_2025-06-18\\linear\\figures\\beta_plots\n",
      "  [info] plot_df_prior_vs_posterior returned <class 'NoneType'>; skipping explicit save.\n",
      "[linear] repetition 26 finished.\n"
     ]
    },
    {
     "name": "stderr",
     "output_type": "stream",
     "text": [
      "sample: 100%|██████████| 25000/25000 [05:06<00:00, 81.48it/s, 1023 steps of size 5.31e-03. acc. prob=0.91] \n"
     ]
    },
    {
     "name": "stdout",
     "output_type": "stream",
     "text": [
      "Stored 8 β posteriors in results_sample_2025-06-18\\linear\\data\\rep27\n",
      "Saved experiment rep27 beta densities to results_sample_2025-06-18\\linear\\figures\\beta_plots\n",
      "  [info] plot_df_prior_vs_posterior returned <class 'NoneType'>; skipping explicit save.\n",
      "[linear] repetition 27 finished.\n"
     ]
    },
    {
     "name": "stderr",
     "output_type": "stream",
     "text": [
      "sample: 100%|██████████| 25000/25000 [00:46<00:00, 537.55it/s, 16 steps of size 5.86e-02. acc. prob=0.81] \n"
     ]
    },
    {
     "name": "stdout",
     "output_type": "stream",
     "text": [
      "Stored 8 β posteriors in results_sample_2025-06-18\\linear\\data\\rep28\n",
      "Saved experiment rep28 beta densities to results_sample_2025-06-18\\linear\\figures\\beta_plots\n",
      "  [info] plot_df_prior_vs_posterior returned <class 'NoneType'>; skipping explicit save.\n",
      "[linear] repetition 28 finished.\n"
     ]
    },
    {
     "name": "stderr",
     "output_type": "stream",
     "text": [
      "sample: 100%|██████████| 25000/25000 [00:49<00:00, 506.83it/s, 63 steps of size 6.20e-02. acc. prob=0.81] \n"
     ]
    },
    {
     "name": "stdout",
     "output_type": "stream",
     "text": [
      "Stored 8 β posteriors in results_sample_2025-06-18\\linear\\data\\rep29\n",
      "Saved experiment rep29 beta densities to results_sample_2025-06-18\\linear\\figures\\beta_plots\n",
      "  [info] plot_df_prior_vs_posterior returned <class 'NoneType'>; skipping explicit save.\n",
      "[linear] repetition 29 finished.\n"
     ]
    },
    {
     "name": "stderr",
     "output_type": "stream",
     "text": [
      "sample: 100%|██████████| 25000/25000 [00:42<00:00, 591.08it/s, 63 steps of size 7.37e-02. acc. prob=0.77]\n"
     ]
    },
    {
     "name": "stdout",
     "output_type": "stream",
     "text": [
      "Stored 8 β posteriors in results_sample_2025-06-18\\linear\\data\\rep30\n",
      "Saved experiment rep30 beta densities to results_sample_2025-06-18\\linear\\figures\\beta_plots\n",
      "  [info] plot_df_prior_vs_posterior returned <class 'NoneType'>; skipping explicit save.\n",
      "[linear] repetition 30 finished.\n"
     ]
    },
    {
     "name": "stderr",
     "output_type": "stream",
     "text": [
      "sample: 100%|██████████| 25000/25000 [00:51<00:00, 482.70it/s, 63 steps of size 7.27e-02. acc. prob=0.74] \n"
     ]
    },
    {
     "name": "stdout",
     "output_type": "stream",
     "text": [
      "Stored 8 β posteriors in results_sample_2025-06-18\\linear\\data\\rep31\n",
      "Saved experiment rep31 beta densities to results_sample_2025-06-18\\linear\\figures\\beta_plots\n",
      "  [info] plot_df_prior_vs_posterior returned <class 'NoneType'>; skipping explicit save.\n",
      "[linear] repetition 31 finished.\n"
     ]
    },
    {
     "name": "stderr",
     "output_type": "stream",
     "text": [
      "sample: 100%|██████████| 25000/25000 [00:46<00:00, 533.94it/s, 95 steps of size 6.88e-02. acc. prob=0.79] \n"
     ]
    },
    {
     "name": "stdout",
     "output_type": "stream",
     "text": [
      "Stored 8 β posteriors in results_sample_2025-06-18\\linear\\data\\rep32\n",
      "Saved experiment rep32 beta densities to results_sample_2025-06-18\\linear\\figures\\beta_plots\n",
      "  [info] plot_df_prior_vs_posterior returned <class 'NoneType'>; skipping explicit save.\n",
      "[linear] repetition 32 finished.\n"
     ]
    },
    {
     "name": "stderr",
     "output_type": "stream",
     "text": [
      "sample: 100%|██████████| 25000/25000 [00:45<00:00, 553.08it/s, 58 steps of size 6.90e-02. acc. prob=0.73]\n"
     ]
    },
    {
     "name": "stdout",
     "output_type": "stream",
     "text": [
      "Stored 8 β posteriors in results_sample_2025-06-18\\linear\\data\\rep33\n",
      "Saved experiment rep33 beta densities to results_sample_2025-06-18\\linear\\figures\\beta_plots\n",
      "  [info] plot_df_prior_vs_posterior returned <class 'NoneType'>; skipping explicit save.\n",
      "[linear] repetition 33 finished.\n"
     ]
    },
    {
     "name": "stderr",
     "output_type": "stream",
     "text": [
      "sample: 100%|██████████| 25000/25000 [00:48<00:00, 519.53it/s, 57 steps of size 5.21e-02. acc. prob=0.84] \n"
     ]
    },
    {
     "name": "stdout",
     "output_type": "stream",
     "text": [
      "Stored 8 β posteriors in results_sample_2025-06-18\\linear\\data\\rep34\n",
      "Saved experiment rep34 beta densities to results_sample_2025-06-18\\linear\\figures\\beta_plots\n",
      "  [info] plot_df_prior_vs_posterior returned <class 'NoneType'>; skipping explicit save.\n",
      "[linear] repetition 34 finished.\n"
     ]
    },
    {
     "name": "stderr",
     "output_type": "stream",
     "text": [
      "sample: 100%|██████████| 25000/25000 [01:14<00:00, 334.25it/s, 47 steps of size 2.79e-02. acc. prob=0.85] \n"
     ]
    },
    {
     "name": "stdout",
     "output_type": "stream",
     "text": [
      "Stored 8 β posteriors in results_sample_2025-06-18\\linear\\data\\rep35\n",
      "Saved experiment rep35 beta densities to results_sample_2025-06-18\\linear\\figures\\beta_plots\n",
      "  [info] plot_df_prior_vs_posterior returned <class 'NoneType'>; skipping explicit save.\n",
      "[linear] repetition 35 finished.\n"
     ]
    },
    {
     "name": "stderr",
     "output_type": "stream",
     "text": [
      "sample: 100%|██████████| 25000/25000 [00:52<00:00, 472.89it/s, 63 steps of size 5.08e-02. acc. prob=0.55] \n"
     ]
    },
    {
     "name": "stdout",
     "output_type": "stream",
     "text": [
      "Stored 8 β posteriors in results_sample_2025-06-18\\linear\\data\\rep36\n",
      "Saved experiment rep36 beta densities to results_sample_2025-06-18\\linear\\figures\\beta_plots\n",
      "  [info] plot_df_prior_vs_posterior returned <class 'NoneType'>; skipping explicit save.\n",
      "[linear] repetition 36 finished.\n"
     ]
    },
    {
     "name": "stderr",
     "output_type": "stream",
     "text": [
      "sample: 100%|██████████| 25000/25000 [00:56<00:00, 441.05it/s, 63 steps of size 4.40e-02. acc. prob=0.86] \n"
     ]
    },
    {
     "name": "stdout",
     "output_type": "stream",
     "text": [
      "Stored 8 β posteriors in results_sample_2025-06-18\\linear\\data\\rep37\n",
      "Saved experiment rep37 beta densities to results_sample_2025-06-18\\linear\\figures\\beta_plots\n",
      "  [info] plot_df_prior_vs_posterior returned <class 'NoneType'>; skipping explicit save.\n",
      "[linear] repetition 37 finished.\n"
     ]
    },
    {
     "name": "stderr",
     "output_type": "stream",
     "text": [
      "sample: 100%|██████████| 25000/25000 [08:46<00:00, 47.50it/s, 1023 steps of size 7.86e-04. acc. prob=0.91] \n"
     ]
    },
    {
     "name": "stdout",
     "output_type": "stream",
     "text": [
      "Stored 8 β posteriors in results_sample_2025-06-18\\linear\\data\\rep38\n",
      "Saved experiment rep38 beta densities to results_sample_2025-06-18\\linear\\figures\\beta_plots\n",
      "  [info] plot_df_prior_vs_posterior returned <class 'NoneType'>; skipping explicit save.\n",
      "[linear] repetition 38 finished.\n"
     ]
    },
    {
     "name": "stderr",
     "output_type": "stream",
     "text": [
      "sample: 100%|██████████| 25000/25000 [00:44<00:00, 564.29it/s, 14 steps of size 7.16e-02. acc. prob=0.78]\n"
     ]
    },
    {
     "name": "stdout",
     "output_type": "stream",
     "text": [
      "Stored 8 β posteriors in results_sample_2025-06-18\\linear\\data\\rep39\n",
      "Saved experiment rep39 beta densities to results_sample_2025-06-18\\linear\\figures\\beta_plots\n",
      "  [info] plot_df_prior_vs_posterior returned <class 'NoneType'>; skipping explicit save.\n",
      "[linear] repetition 39 finished.\n"
     ]
    },
    {
     "name": "stderr",
     "output_type": "stream",
     "text": [
      "sample: 100%|██████████| 25000/25000 [00:54<00:00, 456.65it/s, 59 steps of size 4.35e-02. acc. prob=0.83] \n"
     ]
    },
    {
     "name": "stdout",
     "output_type": "stream",
     "text": [
      "Stored 8 β posteriors in results_sample_2025-06-18\\linear\\data\\rep40\n",
      "Saved experiment rep40 beta densities to results_sample_2025-06-18\\linear\\figures\\beta_plots\n",
      "  [info] plot_df_prior_vs_posterior returned <class 'NoneType'>; skipping explicit save.\n",
      "[linear] repetition 40 finished.\n"
     ]
    },
    {
     "name": "stderr",
     "output_type": "stream",
     "text": [
      "sample: 100%|██████████| 25000/25000 [00:42<00:00, 582.62it/s, 31 steps of size 7.34e-02. acc. prob=0.77] \n"
     ]
    },
    {
     "name": "stdout",
     "output_type": "stream",
     "text": [
      "Stored 8 β posteriors in results_sample_2025-06-18\\linear\\data\\rep41\n",
      "Saved experiment rep41 beta densities to results_sample_2025-06-18\\linear\\figures\\beta_plots\n",
      "  [info] plot_df_prior_vs_posterior returned <class 'NoneType'>; skipping explicit save.\n",
      "[linear] repetition 41 finished.\n"
     ]
    },
    {
     "name": "stderr",
     "output_type": "stream",
     "text": [
      "sample: 100%|██████████| 25000/25000 [00:46<00:00, 535.90it/s, 63 steps of size 6.67e-02. acc. prob=0.77] \n"
     ]
    },
    {
     "name": "stdout",
     "output_type": "stream",
     "text": [
      "Stored 8 β posteriors in results_sample_2025-06-18\\linear\\data\\rep42\n",
      "Saved experiment rep42 beta densities to results_sample_2025-06-18\\linear\\figures\\beta_plots\n",
      "  [info] plot_df_prior_vs_posterior returned <class 'NoneType'>; skipping explicit save.\n",
      "[linear] repetition 42 finished.\n"
     ]
    },
    {
     "name": "stderr",
     "output_type": "stream",
     "text": [
      "sample: 100%|██████████| 25000/25000 [00:47<00:00, 529.99it/s, 6 steps of size 5.63e-02. acc. prob=0.78]  \n"
     ]
    },
    {
     "name": "stdout",
     "output_type": "stream",
     "text": [
      "Stored 8 β posteriors in results_sample_2025-06-18\\linear\\data\\rep43\n",
      "Saved experiment rep43 beta densities to results_sample_2025-06-18\\linear\\figures\\beta_plots\n",
      "  [info] plot_df_prior_vs_posterior returned <class 'NoneType'>; skipping explicit save.\n",
      "[linear] repetition 43 finished.\n"
     ]
    },
    {
     "name": "stderr",
     "output_type": "stream",
     "text": [
      "sample: 100%|██████████| 25000/25000 [01:34<00:00, 263.88it/s, 82 steps of size 1.96e-02. acc. prob=0.17]  \n"
     ]
    },
    {
     "name": "stdout",
     "output_type": "stream",
     "text": [
      "Stored 8 β posteriors in results_sample_2025-06-18\\linear\\data\\rep44\n",
      "Saved experiment rep44 beta densities to results_sample_2025-06-18\\linear\\figures\\beta_plots\n",
      "  [info] plot_df_prior_vs_posterior returned <class 'NoneType'>; skipping explicit save.\n",
      "[linear] repetition 44 finished.\n"
     ]
    },
    {
     "name": "stderr",
     "output_type": "stream",
     "text": [
      "sample: 100%|██████████| 25000/25000 [00:53<00:00, 469.20it/s, 63 steps of size 6.46e-02. acc. prob=0.74] \n"
     ]
    },
    {
     "name": "stdout",
     "output_type": "stream",
     "text": [
      "Stored 8 β posteriors in results_sample_2025-06-18\\linear\\data\\rep45\n",
      "Saved experiment rep45 beta densities to results_sample_2025-06-18\\linear\\figures\\beta_plots\n",
      "  [info] plot_df_prior_vs_posterior returned <class 'NoneType'>; skipping explicit save.\n",
      "[linear] repetition 45 finished.\n"
     ]
    },
    {
     "name": "stderr",
     "output_type": "stream",
     "text": [
      "sample: 100%|██████████| 25000/25000 [01:40<00:00, 249.83it/s, 255 steps of size 1.80e-02. acc. prob=0.90]\n"
     ]
    },
    {
     "name": "stdout",
     "output_type": "stream",
     "text": [
      "Stored 8 β posteriors in results_sample_2025-06-18\\linear\\data\\rep46\n",
      "Saved experiment rep46 beta densities to results_sample_2025-06-18\\linear\\figures\\beta_plots\n",
      "  [info] plot_df_prior_vs_posterior returned <class 'NoneType'>; skipping explicit save.\n",
      "[linear] repetition 46 finished.\n"
     ]
    },
    {
     "name": "stderr",
     "output_type": "stream",
     "text": [
      "sample: 100%|██████████| 25000/25000 [01:42<00:00, 242.91it/s, 255 steps of size 2.22e-02. acc. prob=0.88]\n"
     ]
    },
    {
     "name": "stdout",
     "output_type": "stream",
     "text": [
      "Stored 8 β posteriors in results_sample_2025-06-18\\linear\\data\\rep47\n",
      "Saved experiment rep47 beta densities to results_sample_2025-06-18\\linear\\figures\\beta_plots\n",
      "  [info] plot_df_prior_vs_posterior returned <class 'NoneType'>; skipping explicit save.\n",
      "[linear] repetition 47 finished.\n"
     ]
    },
    {
     "name": "stderr",
     "output_type": "stream",
     "text": [
      "sample: 100%|██████████| 25000/25000 [00:53<00:00, 469.67it/s, 63 steps of size 4.31e-02. acc. prob=0.41] \n"
     ]
    },
    {
     "name": "stdout",
     "output_type": "stream",
     "text": [
      "Stored 8 β posteriors in results_sample_2025-06-18\\linear\\data\\rep48\n",
      "Saved experiment rep48 beta densities to results_sample_2025-06-18\\linear\\figures\\beta_plots\n",
      "  [info] plot_df_prior_vs_posterior returned <class 'NoneType'>; skipping explicit save.\n",
      "[linear] repetition 48 finished.\n"
     ]
    },
    {
     "name": "stderr",
     "output_type": "stream",
     "text": [
      "sample: 100%|██████████| 25000/25000 [01:00<00:00, 412.25it/s, 3 steps of size 5.34e-02. acc. prob=0.63]  \n"
     ]
    },
    {
     "name": "stdout",
     "output_type": "stream",
     "text": [
      "Stored 8 β posteriors in results_sample_2025-06-18\\linear\\data\\rep49\n",
      "Saved experiment rep49 beta densities to results_sample_2025-06-18\\linear\\figures\\beta_plots\n",
      "  [info] plot_df_prior_vs_posterior returned <class 'NoneType'>; skipping explicit save.\n",
      "[linear] repetition 49 finished.\n"
     ]
    },
    {
     "name": "stderr",
     "output_type": "stream",
     "text": [
      "sample: 100%|██████████| 25000/25000 [00:43<00:00, 578.21it/s, 31 steps of size 6.99e-02. acc. prob=0.79] \n"
     ]
    },
    {
     "name": "stdout",
     "output_type": "stream",
     "text": [
      "Stored 8 β posteriors in results_sample_2025-06-18\\linear\\data\\rep50\n",
      "Saved experiment rep50 beta densities to results_sample_2025-06-18\\linear\\figures\\beta_plots\n",
      "  [info] plot_df_prior_vs_posterior returned <class 'NoneType'>; skipping explicit save.\n",
      "[linear] repetition 50 finished.\n"
     ]
    },
    {
     "name": "stderr",
     "output_type": "stream",
     "text": [
      "sample: 100%|██████████| 25000/25000 [00:46<00:00, 535.03it/s, 63 steps of size 5.61e-02. acc. prob=0.83] \n"
     ]
    },
    {
     "name": "stdout",
     "output_type": "stream",
     "text": [
      "Stored 8 β posteriors in results_sample_2025-06-18\\linear\\data\\rep51\n",
      "Saved experiment rep51 beta densities to results_sample_2025-06-18\\linear\\figures\\beta_plots\n",
      "  [info] plot_df_prior_vs_posterior returned <class 'NoneType'>; skipping explicit save.\n",
      "[linear] repetition 51 finished.\n"
     ]
    },
    {
     "name": "stderr",
     "output_type": "stream",
     "text": [
      "sample: 100%|██████████| 25000/25000 [00:41<00:00, 595.31it/s, 27 steps of size 6.83e-02. acc. prob=0.76] \n"
     ]
    },
    {
     "name": "stdout",
     "output_type": "stream",
     "text": [
      "Stored 8 β posteriors in results_sample_2025-06-18\\linear\\data\\rep52\n",
      "Saved experiment rep52 beta densities to results_sample_2025-06-18\\linear\\figures\\beta_plots\n",
      "  [info] plot_df_prior_vs_posterior returned <class 'NoneType'>; skipping explicit save.\n",
      "[linear] repetition 52 finished.\n"
     ]
    },
    {
     "name": "stderr",
     "output_type": "stream",
     "text": [
      "sample: 100%|██████████| 25000/25000 [01:37<00:00, 255.45it/s, 40 steps of size 2.21e-02. acc. prob=0.60]  \n"
     ]
    },
    {
     "name": "stdout",
     "output_type": "stream",
     "text": [
      "Stored 8 β posteriors in results_sample_2025-06-18\\linear\\data\\rep53\n",
      "Saved experiment rep53 beta densities to results_sample_2025-06-18\\linear\\figures\\beta_plots\n",
      "  [info] plot_df_prior_vs_posterior returned <class 'NoneType'>; skipping explicit save.\n",
      "[linear] repetition 53 finished.\n"
     ]
    },
    {
     "name": "stderr",
     "output_type": "stream",
     "text": [
      "sample: 100%|██████████| 25000/25000 [00:56<00:00, 445.94it/s, 21 steps of size 8.15e-02. acc. prob=0.77]\n"
     ]
    },
    {
     "name": "stdout",
     "output_type": "stream",
     "text": [
      "Stored 8 β posteriors in results_sample_2025-06-18\\linear\\data\\rep54\n",
      "Saved experiment rep54 beta densities to results_sample_2025-06-18\\linear\\figures\\beta_plots\n",
      "  [info] plot_df_prior_vs_posterior returned <class 'NoneType'>; skipping explicit save.\n",
      "[linear] repetition 54 finished.\n"
     ]
    },
    {
     "name": "stderr",
     "output_type": "stream",
     "text": [
      "sample: 100%|██████████| 25000/25000 [01:00<00:00, 414.12it/s, 85 steps of size 4.19e-02. acc. prob=0.83] \n"
     ]
    },
    {
     "name": "stdout",
     "output_type": "stream",
     "text": [
      "Stored 8 β posteriors in results_sample_2025-06-18\\linear\\data\\rep55\n",
      "Saved experiment rep55 beta densities to results_sample_2025-06-18\\linear\\figures\\beta_plots\n",
      "  [info] plot_df_prior_vs_posterior returned <class 'NoneType'>; skipping explicit save.\n",
      "[linear] repetition 55 finished.\n"
     ]
    },
    {
     "name": "stderr",
     "output_type": "stream",
     "text": [
      "sample: 100%|██████████| 25000/25000 [00:54<00:00, 455.70it/s, 63 steps of size 5.08e-02. acc. prob=0.55] \n"
     ]
    },
    {
     "name": "stdout",
     "output_type": "stream",
     "text": [
      "Stored 8 β posteriors in results_sample_2025-06-18\\linear\\data\\rep56\n",
      "Saved experiment rep56 beta densities to results_sample_2025-06-18\\linear\\figures\\beta_plots\n",
      "  [info] plot_df_prior_vs_posterior returned <class 'NoneType'>; skipping explicit save.\n",
      "[linear] repetition 56 finished.\n"
     ]
    },
    {
     "name": "stderr",
     "output_type": "stream",
     "text": [
      "sample: 100%|██████████| 25000/25000 [00:45<00:00, 554.54it/s, 39 steps of size 6.34e-02. acc. prob=0.78] \n"
     ]
    },
    {
     "name": "stdout",
     "output_type": "stream",
     "text": [
      "Stored 8 β posteriors in results_sample_2025-06-18\\linear\\data\\rep57\n",
      "Saved experiment rep57 beta densities to results_sample_2025-06-18\\linear\\figures\\beta_plots\n",
      "  [info] plot_df_prior_vs_posterior returned <class 'NoneType'>; skipping explicit save.\n",
      "[linear] repetition 57 finished.\n"
     ]
    },
    {
     "name": "stderr",
     "output_type": "stream",
     "text": [
      "sample: 100%|██████████| 25000/25000 [00:45<00:00, 548.15it/s, 63 steps of size 6.27e-02. acc. prob=0.80]\n"
     ]
    },
    {
     "name": "stdout",
     "output_type": "stream",
     "text": [
      "Stored 8 β posteriors in results_sample_2025-06-18\\linear\\data\\rep58\n",
      "Saved experiment rep58 beta densities to results_sample_2025-06-18\\linear\\figures\\beta_plots\n",
      "  [info] plot_df_prior_vs_posterior returned <class 'NoneType'>; skipping explicit save.\n",
      "[linear] repetition 58 finished.\n"
     ]
    },
    {
     "name": "stderr",
     "output_type": "stream",
     "text": [
      "sample: 100%|██████████| 25000/25000 [00:45<00:00, 548.15it/s, 25 steps of size 6.87e-02. acc. prob=0.78] \n"
     ]
    },
    {
     "name": "stdout",
     "output_type": "stream",
     "text": [
      "Stored 8 β posteriors in results_sample_2025-06-18\\linear\\data\\rep59\n",
      "Saved experiment rep59 beta densities to results_sample_2025-06-18\\linear\\figures\\beta_plots\n",
      "  [info] plot_df_prior_vs_posterior returned <class 'NoneType'>; skipping explicit save.\n",
      "[linear] repetition 59 finished.\n"
     ]
    },
    {
     "name": "stderr",
     "output_type": "stream",
     "text": [
      "sample: 100%|██████████| 25000/25000 [02:35<00:00, 161.11it/s, 132 steps of size 1.14e-02. acc. prob=0.89] \n"
     ]
    },
    {
     "name": "stdout",
     "output_type": "stream",
     "text": [
      "Stored 8 β posteriors in results_sample_2025-06-18\\linear\\data\\rep60\n",
      "Saved experiment rep60 beta densities to results_sample_2025-06-18\\linear\\figures\\beta_plots\n",
      "  [info] plot_df_prior_vs_posterior returned <class 'NoneType'>; skipping explicit save.\n",
      "[linear] repetition 60 finished.\n"
     ]
    },
    {
     "name": "stderr",
     "output_type": "stream",
     "text": [
      "sample: 100%|██████████| 25000/25000 [00:40<00:00, 611.04it/s, 24 steps of size 7.62e-02. acc. prob=0.76]\n"
     ]
    },
    {
     "name": "stdout",
     "output_type": "stream",
     "text": [
      "Stored 8 β posteriors in results_sample_2025-06-18\\linear\\data\\rep61\n",
      "Saved experiment rep61 beta densities to results_sample_2025-06-18\\linear\\figures\\beta_plots\n",
      "  [info] plot_df_prior_vs_posterior returned <class 'NoneType'>; skipping explicit save.\n",
      "[linear] repetition 61 finished.\n"
     ]
    },
    {
     "name": "stderr",
     "output_type": "stream",
     "text": [
      "sample: 100%|██████████| 25000/25000 [00:40<00:00, 612.41it/s, 63 steps of size 8.20e-02. acc. prob=0.74]\n"
     ]
    },
    {
     "name": "stdout",
     "output_type": "stream",
     "text": [
      "Stored 8 β posteriors in results_sample_2025-06-18\\linear\\data\\rep62\n",
      "Saved experiment rep62 beta densities to results_sample_2025-06-18\\linear\\figures\\beta_plots\n",
      "  [info] plot_df_prior_vs_posterior returned <class 'NoneType'>; skipping explicit save.\n",
      "[linear] repetition 62 finished.\n"
     ]
    },
    {
     "name": "stderr",
     "output_type": "stream",
     "text": [
      "sample: 100%|██████████| 25000/25000 [00:49<00:00, 504.27it/s, 63 steps of size 6.20e-02. acc. prob=0.81] \n"
     ]
    },
    {
     "name": "stdout",
     "output_type": "stream",
     "text": [
      "Stored 8 β posteriors in results_sample_2025-06-18\\linear\\data\\rep63\n",
      "Saved experiment rep63 beta densities to results_sample_2025-06-18\\linear\\figures\\beta_plots\n",
      "  [info] plot_df_prior_vs_posterior returned <class 'NoneType'>; skipping explicit save.\n",
      "[linear] repetition 63 finished.\n"
     ]
    },
    {
     "name": "stderr",
     "output_type": "stream",
     "text": [
      "sample: 100%|██████████| 25000/25000 [02:13<00:00, 186.84it/s, 255 steps of size 1.67e-02. acc. prob=0.55] \n"
     ]
    },
    {
     "name": "stdout",
     "output_type": "stream",
     "text": [
      "Stored 8 β posteriors in results_sample_2025-06-18\\linear\\data\\rep64\n",
      "Saved experiment rep64 beta densities to results_sample_2025-06-18\\linear\\figures\\beta_plots\n",
      "  [info] plot_df_prior_vs_posterior returned <class 'NoneType'>; skipping explicit save.\n",
      "[linear] repetition 64 finished.\n"
     ]
    },
    {
     "name": "stderr",
     "output_type": "stream",
     "text": [
      "sample: 100%|██████████| 25000/25000 [00:56<00:00, 444.69it/s, 12 steps of size 5.68e-02. acc. prob=0.73] \n"
     ]
    },
    {
     "name": "stdout",
     "output_type": "stream",
     "text": [
      "Stored 8 β posteriors in results_sample_2025-06-18\\linear\\data\\rep65\n",
      "Saved experiment rep65 beta densities to results_sample_2025-06-18\\linear\\figures\\beta_plots\n",
      "  [info] plot_df_prior_vs_posterior returned <class 'NoneType'>; skipping explicit save.\n",
      "[linear] repetition 65 finished.\n"
     ]
    },
    {
     "name": "stderr",
     "output_type": "stream",
     "text": [
      "sample: 100%|██████████| 25000/25000 [00:45<00:00, 544.85it/s, 1 steps of size 5.93e-02. acc. prob=0.82] \n"
     ]
    },
    {
     "name": "stdout",
     "output_type": "stream",
     "text": [
      "Stored 8 β posteriors in results_sample_2025-06-18\\linear\\data\\rep66\n",
      "Saved experiment rep66 beta densities to results_sample_2025-06-18\\linear\\figures\\beta_plots\n",
      "  [info] plot_df_prior_vs_posterior returned <class 'NoneType'>; skipping explicit save.\n",
      "[linear] repetition 66 finished.\n"
     ]
    },
    {
     "name": "stderr",
     "output_type": "stream",
     "text": [
      "sample: 100%|██████████| 25000/25000 [01:40<00:00, 248.54it/s, 23 steps of size 2.26e-02. acc. prob=0.80] \n"
     ]
    },
    {
     "name": "stdout",
     "output_type": "stream",
     "text": [
      "Stored 8 β posteriors in results_sample_2025-06-18\\linear\\data\\rep67\n",
      "Saved experiment rep67 beta densities to results_sample_2025-06-18\\linear\\figures\\beta_plots\n",
      "  [info] plot_df_prior_vs_posterior returned <class 'NoneType'>; skipping explicit save.\n",
      "[linear] repetition 67 finished.\n"
     ]
    },
    {
     "name": "stderr",
     "output_type": "stream",
     "text": [
      "sample: 100%|██████████| 25000/25000 [01:12<00:00, 342.93it/s, 29 steps of size 2.80e-02. acc. prob=0.89] \n"
     ]
    },
    {
     "name": "stdout",
     "output_type": "stream",
     "text": [
      "Stored 8 β posteriors in results_sample_2025-06-18\\linear\\data\\rep68\n",
      "Saved experiment rep68 beta densities to results_sample_2025-06-18\\linear\\figures\\beta_plots\n",
      "  [info] plot_df_prior_vs_posterior returned <class 'NoneType'>; skipping explicit save.\n",
      "[linear] repetition 68 finished.\n"
     ]
    },
    {
     "name": "stderr",
     "output_type": "stream",
     "text": [
      "sample: 100%|██████████| 25000/25000 [01:03<00:00, 395.92it/s, 57 steps of size 4.15e-02. acc. prob=0.87] \n"
     ]
    },
    {
     "name": "stdout",
     "output_type": "stream",
     "text": [
      "Stored 8 β posteriors in results_sample_2025-06-18\\linear\\data\\rep69\n",
      "Saved experiment rep69 beta densities to results_sample_2025-06-18\\linear\\figures\\beta_plots\n",
      "  [info] plot_df_prior_vs_posterior returned <class 'NoneType'>; skipping explicit save.\n",
      "[linear] repetition 69 finished.\n"
     ]
    },
    {
     "name": "stderr",
     "output_type": "stream",
     "text": [
      "sample: 100%|██████████| 25000/25000 [00:53<00:00, 465.81it/s, 61 steps of size 5.32e-02. acc. prob=0.76] \n"
     ]
    },
    {
     "name": "stdout",
     "output_type": "stream",
     "text": [
      "Stored 8 β posteriors in results_sample_2025-06-18\\linear\\data\\rep70\n",
      "Saved experiment rep70 beta densities to results_sample_2025-06-18\\linear\\figures\\beta_plots\n",
      "  [info] plot_df_prior_vs_posterior returned <class 'NoneType'>; skipping explicit save.\n",
      "[linear] repetition 70 finished.\n"
     ]
    },
    {
     "name": "stderr",
     "output_type": "stream",
     "text": [
      "sample: 100%|██████████| 25000/25000 [00:44<00:00, 566.07it/s, 10 steps of size 7.08e-02. acc. prob=0.80]\n"
     ]
    },
    {
     "name": "stdout",
     "output_type": "stream",
     "text": [
      "Stored 8 β posteriors in results_sample_2025-06-18\\linear\\data\\rep71\n",
      "Saved experiment rep71 beta densities to results_sample_2025-06-18\\linear\\figures\\beta_plots\n",
      "  [info] plot_df_prior_vs_posterior returned <class 'NoneType'>; skipping explicit save.\n",
      "[linear] repetition 71 finished.\n"
     ]
    },
    {
     "name": "stderr",
     "output_type": "stream",
     "text": [
      "sample: 100%|██████████| 25000/25000 [01:04<00:00, 390.29it/s, 127 steps of size 3.87e-02. acc. prob=0.86]\n"
     ]
    },
    {
     "name": "stdout",
     "output_type": "stream",
     "text": [
      "Stored 8 β posteriors in results_sample_2025-06-18\\linear\\data\\rep72\n",
      "Saved experiment rep72 beta densities to results_sample_2025-06-18\\linear\\figures\\beta_plots\n",
      "  [info] plot_df_prior_vs_posterior returned <class 'NoneType'>; skipping explicit save.\n",
      "[linear] repetition 72 finished.\n"
     ]
    },
    {
     "name": "stderr",
     "output_type": "stream",
     "text": [
      "sample: 100%|██████████| 25000/25000 [00:45<00:00, 549.15it/s, 19 steps of size 6.99e-02. acc. prob=0.78]\n"
     ]
    },
    {
     "name": "stdout",
     "output_type": "stream",
     "text": [
      "Stored 8 β posteriors in results_sample_2025-06-18\\linear\\data\\rep73\n",
      "Saved experiment rep73 beta densities to results_sample_2025-06-18\\linear\\figures\\beta_plots\n",
      "  [info] plot_df_prior_vs_posterior returned <class 'NoneType'>; skipping explicit save.\n",
      "[linear] repetition 73 finished.\n"
     ]
    },
    {
     "name": "stderr",
     "output_type": "stream",
     "text": [
      "sample: 100%|██████████| 25000/25000 [00:45<00:00, 552.72it/s, 63 steps of size 6.27e-02. acc. prob=0.80]\n"
     ]
    },
    {
     "name": "stdout",
     "output_type": "stream",
     "text": [
      "Stored 8 β posteriors in results_sample_2025-06-18\\linear\\data\\rep74\n",
      "Saved experiment rep74 beta densities to results_sample_2025-06-18\\linear\\figures\\beta_plots\n",
      "  [info] plot_df_prior_vs_posterior returned <class 'NoneType'>; skipping explicit save.\n",
      "[linear] repetition 74 finished.\n"
     ]
    },
    {
     "name": "stderr",
     "output_type": "stream",
     "text": [
      "sample: 100%|██████████| 25000/25000 [00:52<00:00, 473.53it/s, 63 steps of size 4.31e-02. acc. prob=0.41] \n"
     ]
    },
    {
     "name": "stdout",
     "output_type": "stream",
     "text": [
      "Stored 8 β posteriors in results_sample_2025-06-18\\linear\\data\\rep75\n",
      "Saved experiment rep75 beta densities to results_sample_2025-06-18\\linear\\figures\\beta_plots\n",
      "  [info] plot_df_prior_vs_posterior returned <class 'NoneType'>; skipping explicit save.\n",
      "[linear] repetition 75 finished.\n"
     ]
    },
    {
     "name": "stderr",
     "output_type": "stream",
     "text": [
      "sample: 100%|██████████| 25000/25000 [00:42<00:00, 586.79it/s, 31 steps of size 8.31e-02. acc. prob=0.72]\n"
     ]
    },
    {
     "name": "stdout",
     "output_type": "stream",
     "text": [
      "Stored 8 β posteriors in results_sample_2025-06-18\\linear\\data\\rep76\n",
      "Saved experiment rep76 beta densities to results_sample_2025-06-18\\linear\\figures\\beta_plots\n",
      "  [info] plot_df_prior_vs_posterior returned <class 'NoneType'>; skipping explicit save.\n",
      "[linear] repetition 76 finished.\n"
     ]
    },
    {
     "name": "stderr",
     "output_type": "stream",
     "text": [
      "sample: 100%|██████████| 25000/25000 [01:42<00:00, 244.26it/s, 255 steps of size 2.22e-02. acc. prob=0.88]\n"
     ]
    },
    {
     "name": "stdout",
     "output_type": "stream",
     "text": [
      "Stored 8 β posteriors in results_sample_2025-06-18\\linear\\data\\rep77\n",
      "Saved experiment rep77 beta densities to results_sample_2025-06-18\\linear\\figures\\beta_plots\n",
      "  [info] plot_df_prior_vs_posterior returned <class 'NoneType'>; skipping explicit save.\n",
      "[linear] repetition 77 finished.\n"
     ]
    },
    {
     "name": "stderr",
     "output_type": "stream",
     "text": [
      "sample: 100%|██████████| 25000/25000 [05:03<00:00, 82.34it/s, 1023 steps of size 5.31e-03. acc. prob=0.91] \n"
     ]
    },
    {
     "name": "stdout",
     "output_type": "stream",
     "text": [
      "Stored 8 β posteriors in results_sample_2025-06-18\\linear\\data\\rep78\n",
      "Saved experiment rep78 beta densities to results_sample_2025-06-18\\linear\\figures\\beta_plots\n",
      "  [info] plot_df_prior_vs_posterior returned <class 'NoneType'>; skipping explicit save.\n",
      "[linear] repetition 78 finished.\n"
     ]
    },
    {
     "name": "stderr",
     "output_type": "stream",
     "text": [
      "sample: 100%|██████████| 25000/25000 [01:15<00:00, 331.95it/s, 47 steps of size 2.79e-02. acc. prob=0.85] \n"
     ]
    },
    {
     "name": "stdout",
     "output_type": "stream",
     "text": [
      "Stored 8 β posteriors in results_sample_2025-06-18\\linear\\data\\rep79\n",
      "Saved experiment rep79 beta densities to results_sample_2025-06-18\\linear\\figures\\beta_plots\n",
      "  [info] plot_df_prior_vs_posterior returned <class 'NoneType'>; skipping explicit save.\n",
      "[linear] repetition 79 finished.\n"
     ]
    },
    {
     "name": "stderr",
     "output_type": "stream",
     "text": [
      "sample: 100%|██████████| 25000/25000 [01:18<00:00, 318.51it/s, 127 steps of size 3.90e-02. acc. prob=0.71]\n"
     ]
    },
    {
     "name": "stdout",
     "output_type": "stream",
     "text": [
      "Stored 8 β posteriors in results_sample_2025-06-18\\linear\\data\\rep80\n",
      "Saved experiment rep80 beta densities to results_sample_2025-06-18\\linear\\figures\\beta_plots\n",
      "  [info] plot_df_prior_vs_posterior returned <class 'NoneType'>; skipping explicit save.\n",
      "[linear] repetition 80 finished.\n"
     ]
    },
    {
     "name": "stderr",
     "output_type": "stream",
     "text": [
      "sample: 100%|██████████| 25000/25000 [00:50<00:00, 496.15it/s, 90 steps of size 4.72e-02. acc. prob=0.83] \n"
     ]
    },
    {
     "name": "stdout",
     "output_type": "stream",
     "text": [
      "Stored 8 β posteriors in results_sample_2025-06-18\\linear\\data\\rep81\n",
      "Saved experiment rep81 beta densities to results_sample_2025-06-18\\linear\\figures\\beta_plots\n",
      "  [info] plot_df_prior_vs_posterior returned <class 'NoneType'>; skipping explicit save.\n",
      "[linear] repetition 81 finished.\n"
     ]
    },
    {
     "name": "stderr",
     "output_type": "stream",
     "text": [
      "sample: 100%|██████████| 25000/25000 [00:45<00:00, 551.31it/s, 39 steps of size 6.34e-02. acc. prob=0.78] \n"
     ]
    },
    {
     "name": "stdout",
     "output_type": "stream",
     "text": [
      "Stored 8 β posteriors in results_sample_2025-06-18\\linear\\data\\rep82\n",
      "Saved experiment rep82 beta densities to results_sample_2025-06-18\\linear\\figures\\beta_plots\n",
      "  [info] plot_df_prior_vs_posterior returned <class 'NoneType'>; skipping explicit save.\n",
      "[linear] repetition 82 finished.\n"
     ]
    },
    {
     "name": "stderr",
     "output_type": "stream",
     "text": [
      "sample: 100%|██████████| 25000/25000 [04:14<00:00, 98.06it/s, 511 steps of size 6.77e-03. acc. prob=0.93]  \n"
     ]
    },
    {
     "name": "stdout",
     "output_type": "stream",
     "text": [
      "Stored 8 β posteriors in results_sample_2025-06-18\\linear\\data\\rep83\n",
      "Saved experiment rep83 beta densities to results_sample_2025-06-18\\linear\\figures\\beta_plots\n",
      "  [info] plot_df_prior_vs_posterior returned <class 'NoneType'>; skipping explicit save.\n",
      "[linear] repetition 83 finished.\n"
     ]
    },
    {
     "name": "stderr",
     "output_type": "stream",
     "text": [
      "sample: 100%|██████████| 25000/25000 [01:50<00:00, 226.38it/s, 3 steps of size 1.58e-02. acc. prob=0.93]  \n"
     ]
    },
    {
     "name": "stdout",
     "output_type": "stream",
     "text": [
      "Stored 8 β posteriors in results_sample_2025-06-18\\linear\\data\\rep84\n",
      "Saved experiment rep84 beta densities to results_sample_2025-06-18\\linear\\figures\\beta_plots\n",
      "  [info] plot_df_prior_vs_posterior returned <class 'NoneType'>; skipping explicit save.\n",
      "[linear] repetition 84 finished.\n"
     ]
    },
    {
     "name": "stderr",
     "output_type": "stream",
     "text": [
      "sample: 100%|██████████| 25000/25000 [00:48<00:00, 510.83it/s, 63 steps of size 6.43e-02. acc. prob=0.82] \n"
     ]
    },
    {
     "name": "stdout",
     "output_type": "stream",
     "text": [
      "Stored 8 β posteriors in results_sample_2025-06-18\\linear\\data\\rep85\n",
      "Saved experiment rep85 beta densities to results_sample_2025-06-18\\linear\\figures\\beta_plots\n",
      "  [info] plot_df_prior_vs_posterior returned <class 'NoneType'>; skipping explicit save.\n",
      "[linear] repetition 85 finished.\n"
     ]
    },
    {
     "name": "stderr",
     "output_type": "stream",
     "text": [
      "sample: 100%|██████████| 25000/25000 [00:43<00:00, 576.00it/s, 10 steps of size 7.08e-02. acc. prob=0.80]\n"
     ]
    },
    {
     "name": "stdout",
     "output_type": "stream",
     "text": [
      "Stored 8 β posteriors in results_sample_2025-06-18\\linear\\data\\rep86\n",
      "Saved experiment rep86 beta densities to results_sample_2025-06-18\\linear\\figures\\beta_plots\n",
      "  [info] plot_df_prior_vs_posterior returned <class 'NoneType'>; skipping explicit save.\n",
      "[linear] repetition 86 finished.\n"
     ]
    },
    {
     "name": "stderr",
     "output_type": "stream",
     "text": [
      "sample: 100%|██████████| 25000/25000 [00:52<00:00, 473.28it/s, 31 steps of size 5.33e-02. acc. prob=0.81] \n"
     ]
    },
    {
     "name": "stdout",
     "output_type": "stream",
     "text": [
      "Stored 8 β posteriors in results_sample_2025-06-18\\linear\\data\\rep87\n",
      "Saved experiment rep87 beta densities to results_sample_2025-06-18\\linear\\figures\\beta_plots\n",
      "  [info] plot_df_prior_vs_posterior returned <class 'NoneType'>; skipping explicit save.\n",
      "[linear] repetition 87 finished.\n"
     ]
    },
    {
     "name": "stderr",
     "output_type": "stream",
     "text": [
      "sample: 100%|██████████| 25000/25000 [01:13<00:00, 342.12it/s, 29 steps of size 2.80e-02. acc. prob=0.89] \n"
     ]
    },
    {
     "name": "stdout",
     "output_type": "stream",
     "text": [
      "Stored 8 β posteriors in results_sample_2025-06-18\\linear\\data\\rep88\n",
      "Saved experiment rep88 beta densities to results_sample_2025-06-18\\linear\\figures\\beta_plots\n",
      "  [info] plot_df_prior_vs_posterior returned <class 'NoneType'>; skipping explicit save.\n",
      "[linear] repetition 88 finished.\n"
     ]
    },
    {
     "name": "stderr",
     "output_type": "stream",
     "text": [
      "sample: 100%|██████████| 25000/25000 [00:51<00:00, 486.65it/s, 40 steps of size 5.73e-02. acc. prob=0.82] \n"
     ]
    },
    {
     "name": "stdout",
     "output_type": "stream",
     "text": [
      "Stored 8 β posteriors in results_sample_2025-06-18\\linear\\data\\rep89\n",
      "Saved experiment rep89 beta densities to results_sample_2025-06-18\\linear\\figures\\beta_plots\n",
      "  [info] plot_df_prior_vs_posterior returned <class 'NoneType'>; skipping explicit save.\n",
      "[linear] repetition 89 finished.\n"
     ]
    },
    {
     "name": "stderr",
     "output_type": "stream",
     "text": [
      "sample: 100%|██████████| 25000/25000 [00:45<00:00, 553.41it/s, 22 steps of size 6.52e-02. acc. prob=0.76] \n"
     ]
    },
    {
     "name": "stdout",
     "output_type": "stream",
     "text": [
      "Stored 8 β posteriors in results_sample_2025-06-18\\linear\\data\\rep90\n",
      "Saved experiment rep90 beta densities to results_sample_2025-06-18\\linear\\figures\\beta_plots\n",
      "  [info] plot_df_prior_vs_posterior returned <class 'NoneType'>; skipping explicit save.\n",
      "[linear] repetition 90 finished.\n"
     ]
    },
    {
     "name": "stderr",
     "output_type": "stream",
     "text": [
      "sample: 100%|██████████| 25000/25000 [00:46<00:00, 541.29it/s, 16 steps of size 5.86e-02. acc. prob=0.81]\n"
     ]
    },
    {
     "name": "stdout",
     "output_type": "stream",
     "text": [
      "Stored 8 β posteriors in results_sample_2025-06-18\\linear\\data\\rep91\n",
      "Saved experiment rep91 beta densities to results_sample_2025-06-18\\linear\\figures\\beta_plots\n",
      "  [info] plot_df_prior_vs_posterior returned <class 'NoneType'>; skipping explicit save.\n",
      "[linear] repetition 91 finished.\n"
     ]
    },
    {
     "name": "stderr",
     "output_type": "stream",
     "text": [
      "sample: 100%|██████████| 25000/25000 [00:52<00:00, 473.47it/s, 63 steps of size 5.62e-02. acc. prob=0.81] \n"
     ]
    },
    {
     "name": "stdout",
     "output_type": "stream",
     "text": [
      "Stored 8 β posteriors in results_sample_2025-06-18\\linear\\data\\rep92\n",
      "Saved experiment rep92 beta densities to results_sample_2025-06-18\\linear\\figures\\beta_plots\n",
      "  [info] plot_df_prior_vs_posterior returned <class 'NoneType'>; skipping explicit save.\n",
      "[linear] repetition 92 finished.\n"
     ]
    },
    {
     "name": "stderr",
     "output_type": "stream",
     "text": [
      "sample: 100%|██████████| 25000/25000 [01:05<00:00, 380.97it/s, 107 steps of size 3.46e-02. acc. prob=0.87]\n"
     ]
    },
    {
     "name": "stdout",
     "output_type": "stream",
     "text": [
      "Stored 8 β posteriors in results_sample_2025-06-18\\linear\\data\\rep93\n",
      "Saved experiment rep93 beta densities to results_sample_2025-06-18\\linear\\figures\\beta_plots\n",
      "  [info] plot_df_prior_vs_posterior returned <class 'NoneType'>; skipping explicit save.\n",
      "[linear] repetition 93 finished.\n"
     ]
    },
    {
     "name": "stderr",
     "output_type": "stream",
     "text": [
      "sample: 100%|██████████| 25000/25000 [00:54<00:00, 458.08it/s, 61 steps of size 5.32e-02. acc. prob=0.76] \n"
     ]
    },
    {
     "name": "stdout",
     "output_type": "stream",
     "text": [
      "Stored 8 β posteriors in results_sample_2025-06-18\\linear\\data\\rep94\n",
      "Saved experiment rep94 beta densities to results_sample_2025-06-18\\linear\\figures\\beta_plots\n",
      "  [info] plot_df_prior_vs_posterior returned <class 'NoneType'>; skipping explicit save.\n",
      "[linear] repetition 94 finished.\n"
     ]
    },
    {
     "name": "stderr",
     "output_type": "stream",
     "text": [
      "sample: 100%|██████████| 25000/25000 [00:54<00:00, 456.52it/s, 127 steps of size 4.42e-02. acc. prob=0.84]\n"
     ]
    },
    {
     "name": "stdout",
     "output_type": "stream",
     "text": [
      "Stored 8 β posteriors in results_sample_2025-06-18\\linear\\data\\rep95\n",
      "Saved experiment rep95 beta densities to results_sample_2025-06-18\\linear\\figures\\beta_plots\n",
      "  [info] plot_df_prior_vs_posterior returned <class 'NoneType'>; skipping explicit save.\n",
      "[linear] repetition 95 finished.\n"
     ]
    },
    {
     "name": "stderr",
     "output_type": "stream",
     "text": [
      "sample: 100%|██████████| 25000/25000 [01:46<00:00, 235.20it/s, 255 steps of size 2.22e-02. acc. prob=0.88]\n"
     ]
    },
    {
     "name": "stdout",
     "output_type": "stream",
     "text": [
      "Stored 8 β posteriors in results_sample_2025-06-18\\linear\\data\\rep96\n",
      "Saved experiment rep96 beta densities to results_sample_2025-06-18\\linear\\figures\\beta_plots\n",
      "  [info] plot_df_prior_vs_posterior returned <class 'NoneType'>; skipping explicit save.\n",
      "[linear] repetition 96 finished.\n"
     ]
    },
    {
     "name": "stderr",
     "output_type": "stream",
     "text": [
      "sample: 100%|██████████| 25000/25000 [00:54<00:00, 462.04it/s, 63 steps of size 4.86e-02. acc. prob=0.84] \n"
     ]
    },
    {
     "name": "stdout",
     "output_type": "stream",
     "text": [
      "Stored 8 β posteriors in results_sample_2025-06-18\\linear\\data\\rep97\n",
      "Saved experiment rep97 beta densities to results_sample_2025-06-18\\linear\\figures\\beta_plots\n",
      "  [info] plot_df_prior_vs_posterior returned <class 'NoneType'>; skipping explicit save.\n",
      "[linear] repetition 97 finished.\n"
     ]
    },
    {
     "name": "stderr",
     "output_type": "stream",
     "text": [
      "sample: 100%|██████████| 25000/25000 [00:42<00:00, 586.90it/s, 24 steps of size 7.62e-02. acc. prob=0.76]\n"
     ]
    },
    {
     "name": "stdout",
     "output_type": "stream",
     "text": [
      "Stored 8 β posteriors in results_sample_2025-06-18\\linear\\data\\rep98\n",
      "Saved experiment rep98 beta densities to results_sample_2025-06-18\\linear\\figures\\beta_plots\n",
      "  [info] plot_df_prior_vs_posterior returned <class 'NoneType'>; skipping explicit save.\n",
      "[linear] repetition 98 finished.\n"
     ]
    },
    {
     "name": "stderr",
     "output_type": "stream",
     "text": [
      "sample: 100%|██████████| 25000/25000 [00:43<00:00, 570.87it/s, 10 steps of size 7.08e-02. acc. prob=0.80]\n"
     ]
    },
    {
     "name": "stdout",
     "output_type": "stream",
     "text": [
      "Stored 8 β posteriors in results_sample_2025-06-18\\linear\\data\\rep99\n",
      "Saved experiment rep99 beta densities to results_sample_2025-06-18\\linear\\figures\\beta_plots\n",
      "  [info] plot_df_prior_vs_posterior returned <class 'NoneType'>; skipping explicit save.\n",
      "[linear] repetition 99 finished.\n"
     ]
    },
    {
     "name": "stderr",
     "output_type": "stream",
     "text": [
      "sample: 100%|██████████| 25000/25000 [00:49<00:00, 500.22it/s, 63 steps of size 5.06e-02. acc. prob=0.83] \n"
     ]
    },
    {
     "name": "stdout",
     "output_type": "stream",
     "text": [
      "Stored 8 β posteriors in results_sample_2025-06-18\\linear\\data\\rep100\n",
      "Saved experiment rep100 beta densities to results_sample_2025-06-18\\linear\\figures\\beta_plots\n",
      "  [info] plot_df_prior_vs_posterior returned <class 'NoneType'>; skipping explicit save.\n",
      "[linear] repetition 100 finished.\n",
      "\n",
      "Completed all 100 repetitions for 'linear'. Results stored in: results_sample_2025-06-18\\linear\n",
      "\n"
     ]
    },
    {
     "name": "stderr",
     "output_type": "stream",
     "text": [
      "sample: 100%|██████████| 25000/25000 [01:00<00:00, 411.76it/s, 6 steps of size 5.40e-02. acc. prob=0.81]  \n"
     ]
    },
    {
     "name": "stdout",
     "output_type": "stream",
     "text": [
      "Stored 8 β posteriors in results_sample_2025-06-18\\poisson\\data\\rep1\n",
      "Saved experiment rep1 beta densities to results_sample_2025-06-18\\poisson\\figures\\beta_plots\n",
      "  [info] plot_df_prior_vs_posterior returned <class 'NoneType'>; skipping explicit save.\n",
      "[poisson] repetition 1 finished.\n"
     ]
    },
    {
     "name": "stderr",
     "output_type": "stream",
     "text": [
      "sample: 100%|██████████| 25000/25000 [02:57<00:00, 141.20it/s, 109 steps of size 1.08e-02. acc. prob=0.86] \n"
     ]
    },
    {
     "name": "stdout",
     "output_type": "stream",
     "text": [
      "Stored 8 β posteriors in results_sample_2025-06-18\\poisson\\data\\rep2\n",
      "Saved experiment rep2 beta densities to results_sample_2025-06-18\\poisson\\figures\\beta_plots\n",
      "  [info] plot_df_prior_vs_posterior returned <class 'NoneType'>; skipping explicit save.\n",
      "[poisson] repetition 2 finished.\n"
     ]
    },
    {
     "name": "stderr",
     "output_type": "stream",
     "text": [
      "sample: 100%|██████████| 25000/25000 [01:03<00:00, 394.02it/s, 63 steps of size 4.05e-02. acc. prob=0.82] \n"
     ]
    },
    {
     "name": "stdout",
     "output_type": "stream",
     "text": [
      "Stored 8 β posteriors in results_sample_2025-06-18\\poisson\\data\\rep3\n",
      "Saved experiment rep3 beta densities to results_sample_2025-06-18\\poisson\\figures\\beta_plots\n",
      "  [info] plot_df_prior_vs_posterior returned <class 'NoneType'>; skipping explicit save.\n",
      "[poisson] repetition 3 finished.\n"
     ]
    },
    {
     "name": "stderr",
     "output_type": "stream",
     "text": [
      "sample: 100%|██████████| 25000/25000 [01:12<00:00, 345.36it/s, 10 steps of size 3.83e-02. acc. prob=0.39] \n"
     ]
    },
    {
     "name": "stdout",
     "output_type": "stream",
     "text": [
      "Stored 8 β posteriors in results_sample_2025-06-18\\poisson\\data\\rep4\n",
      "Saved experiment rep4 beta densities to results_sample_2025-06-18\\poisson\\figures\\beta_plots\n",
      "  [info] plot_df_prior_vs_posterior returned <class 'NoneType'>; skipping explicit save.\n",
      "[poisson] repetition 4 finished.\n"
     ]
    },
    {
     "name": "stderr",
     "output_type": "stream",
     "text": [
      "sample: 100%|██████████| 25000/25000 [02:36<00:00, 159.96it/s, 142 steps of size 1.21e-02. acc. prob=0.90] \n"
     ]
    },
    {
     "name": "stdout",
     "output_type": "stream",
     "text": [
      "Stored 8 β posteriors in results_sample_2025-06-18\\poisson\\data\\rep5\n",
      "Saved experiment rep5 beta densities to results_sample_2025-06-18\\poisson\\figures\\beta_plots\n",
      "  [info] plot_df_prior_vs_posterior returned <class 'NoneType'>; skipping explicit save.\n",
      "[poisson] repetition 5 finished.\n"
     ]
    },
    {
     "name": "stderr",
     "output_type": "stream",
     "text": [
      "sample: 100%|██████████| 25000/25000 [02:36<00:00, 160.01it/s, 142 steps of size 1.21e-02. acc. prob=0.90]\n"
     ]
    },
    {
     "name": "stdout",
     "output_type": "stream",
     "text": [
      "Stored 8 β posteriors in results_sample_2025-06-18\\poisson\\data\\rep6\n",
      "Saved experiment rep6 beta densities to results_sample_2025-06-18\\poisson\\figures\\beta_plots\n",
      "  [info] plot_df_prior_vs_posterior returned <class 'NoneType'>; skipping explicit save.\n",
      "[poisson] repetition 6 finished.\n"
     ]
    },
    {
     "name": "stderr",
     "output_type": "stream",
     "text": [
      "sample: 100%|██████████| 25000/25000 [01:33<00:00, 268.19it/s, 90 steps of size 2.66e-02. acc. prob=0.40] \n"
     ]
    },
    {
     "name": "stdout",
     "output_type": "stream",
     "text": [
      "Stored 8 β posteriors in results_sample_2025-06-18\\poisson\\data\\rep7\n",
      "Saved experiment rep7 beta densities to results_sample_2025-06-18\\poisson\\figures\\beta_plots\n",
      "  [info] plot_df_prior_vs_posterior returned <class 'NoneType'>; skipping explicit save.\n",
      "[poisson] repetition 7 finished.\n"
     ]
    },
    {
     "name": "stderr",
     "output_type": "stream",
     "text": [
      "sample: 100%|██████████| 25000/25000 [01:02<00:00, 402.44it/s, 63 steps of size 4.60e-02. acc. prob=0.54] \n"
     ]
    },
    {
     "name": "stdout",
     "output_type": "stream",
     "text": [
      "Stored 8 β posteriors in results_sample_2025-06-18\\poisson\\data\\rep8\n",
      "Saved experiment rep8 beta densities to results_sample_2025-06-18\\poisson\\figures\\beta_plots\n",
      "  [info] plot_df_prior_vs_posterior returned <class 'NoneType'>; skipping explicit save.\n",
      "[poisson] repetition 8 finished.\n"
     ]
    },
    {
     "name": "stderr",
     "output_type": "stream",
     "text": [
      "sample: 100%|██████████| 25000/25000 [02:08<00:00, 194.46it/s, 4 steps of size 2.09e-02. acc. prob=0.51]   \n"
     ]
    },
    {
     "name": "stdout",
     "output_type": "stream",
     "text": [
      "Stored 8 β posteriors in results_sample_2025-06-18\\poisson\\data\\rep9\n",
      "Saved experiment rep9 beta densities to results_sample_2025-06-18\\poisson\\figures\\beta_plots\n",
      "  [info] plot_df_prior_vs_posterior returned <class 'NoneType'>; skipping explicit save.\n",
      "[poisson] repetition 9 finished.\n"
     ]
    },
    {
     "name": "stderr",
     "output_type": "stream",
     "text": [
      "sample: 100%|██████████| 25000/25000 [01:02<00:00, 397.40it/s, 63 steps of size 4.05e-02. acc. prob=0.82] \n"
     ]
    },
    {
     "name": "stdout",
     "output_type": "stream",
     "text": [
      "Stored 8 β posteriors in results_sample_2025-06-18\\poisson\\data\\rep10\n",
      "Saved experiment rep10 beta densities to results_sample_2025-06-18\\poisson\\figures\\beta_plots\n",
      "  [info] plot_df_prior_vs_posterior returned <class 'NoneType'>; skipping explicit save.\n",
      "[poisson] repetition 10 finished.\n"
     ]
    },
    {
     "name": "stderr",
     "output_type": "stream",
     "text": [
      "sample: 100%|██████████| 25000/25000 [02:04<00:00, 200.50it/s, 9 steps of size 1.62e-02. acc. prob=0.88]  \n"
     ]
    },
    {
     "name": "stdout",
     "output_type": "stream",
     "text": [
      "Stored 8 β posteriors in results_sample_2025-06-18\\poisson\\data\\rep11\n",
      "Saved experiment rep11 beta densities to results_sample_2025-06-18\\poisson\\figures\\beta_plots\n",
      "  [info] plot_df_prior_vs_posterior returned <class 'NoneType'>; skipping explicit save.\n",
      "[poisson] repetition 11 finished.\n"
     ]
    },
    {
     "name": "stderr",
     "output_type": "stream",
     "text": [
      "sample: 100%|██████████| 25000/25000 [01:28<00:00, 281.45it/s, 127 steps of size 2.78e-02. acc. prob=0.84]\n"
     ]
    },
    {
     "name": "stdout",
     "output_type": "stream",
     "text": [
      "Stored 8 β posteriors in results_sample_2025-06-18\\poisson\\data\\rep12\n",
      "Saved experiment rep12 beta densities to results_sample_2025-06-18\\poisson\\figures\\beta_plots\n",
      "  [info] plot_df_prior_vs_posterior returned <class 'NoneType'>; skipping explicit save.\n",
      "[poisson] repetition 12 finished.\n"
     ]
    },
    {
     "name": "stderr",
     "output_type": "stream",
     "text": [
      "sample: 100%|██████████| 25000/25000 [02:22<00:00, 175.31it/s, 127 steps of size 1.91e-02. acc. prob=0.86]\n"
     ]
    },
    {
     "name": "stdout",
     "output_type": "stream",
     "text": [
      "Stored 8 β posteriors in results_sample_2025-06-18\\poisson\\data\\rep13\n",
      "Saved experiment rep13 beta densities to results_sample_2025-06-18\\poisson\\figures\\beta_plots\n",
      "  [info] plot_df_prior_vs_posterior returned <class 'NoneType'>; skipping explicit save.\n",
      "[poisson] repetition 13 finished.\n"
     ]
    },
    {
     "name": "stderr",
     "output_type": "stream",
     "text": [
      "sample: 100%|██████████| 25000/25000 [02:25<00:00, 171.49it/s, 255 steps of size 1.91e-02. acc. prob=0.77] \n"
     ]
    },
    {
     "name": "stdout",
     "output_type": "stream",
     "text": [
      "Stored 8 β posteriors in results_sample_2025-06-18\\poisson\\data\\rep14\n",
      "Saved experiment rep14 beta densities to results_sample_2025-06-18\\poisson\\figures\\beta_plots\n",
      "  [info] plot_df_prior_vs_posterior returned <class 'NoneType'>; skipping explicit save.\n",
      "[poisson] repetition 14 finished.\n"
     ]
    },
    {
     "name": "stderr",
     "output_type": "stream",
     "text": [
      "sample: 100%|██████████| 25000/25000 [01:00<00:00, 415.35it/s, 1 steps of size 5.54e-02. acc. prob=0.74]  \n"
     ]
    },
    {
     "name": "stdout",
     "output_type": "stream",
     "text": [
      "Stored 8 β posteriors in results_sample_2025-06-18\\poisson\\data\\rep15\n",
      "Saved experiment rep15 beta densities to results_sample_2025-06-18\\poisson\\figures\\beta_plots\n",
      "  [info] plot_df_prior_vs_posterior returned <class 'NoneType'>; skipping explicit save.\n",
      "[poisson] repetition 15 finished.\n"
     ]
    },
    {
     "name": "stderr",
     "output_type": "stream",
     "text": [
      "sample: 100%|██████████| 25000/25000 [04:12<00:00, 99.05it/s, 511 steps of size 8.33e-03. acc. prob=0.87]  \n"
     ]
    },
    {
     "name": "stdout",
     "output_type": "stream",
     "text": [
      "Stored 8 β posteriors in results_sample_2025-06-18\\poisson\\data\\rep16\n",
      "Saved experiment rep16 beta densities to results_sample_2025-06-18\\poisson\\figures\\beta_plots\n",
      "  [info] plot_df_prior_vs_posterior returned <class 'NoneType'>; skipping explicit save.\n",
      "[poisson] repetition 16 finished.\n"
     ]
    },
    {
     "name": "stderr",
     "output_type": "stream",
     "text": [
      "sample: 100%|██████████| 25000/25000 [02:53<00:00, 144.24it/s, 113 steps of size 1.10e-02. acc. prob=0.91]\n"
     ]
    },
    {
     "name": "stdout",
     "output_type": "stream",
     "text": [
      "Stored 8 β posteriors in results_sample_2025-06-18\\poisson\\data\\rep17\n",
      "Saved experiment rep17 beta densities to results_sample_2025-06-18\\poisson\\figures\\beta_plots\n",
      "  [info] plot_df_prior_vs_posterior returned <class 'NoneType'>; skipping explicit save.\n",
      "[poisson] repetition 17 finished.\n"
     ]
    },
    {
     "name": "stderr",
     "output_type": "stream",
     "text": [
      "sample: 100%|██████████| 25000/25000 [03:02<00:00, 136.92it/s, 109 steps of size 1.08e-02. acc. prob=0.86] \n"
     ]
    },
    {
     "name": "stdout",
     "output_type": "stream",
     "text": [
      "Stored 8 β posteriors in results_sample_2025-06-18\\poisson\\data\\rep18\n",
      "Saved experiment rep18 beta densities to results_sample_2025-06-18\\poisson\\figures\\beta_plots\n",
      "  [info] plot_df_prior_vs_posterior returned <class 'NoneType'>; skipping explicit save.\n",
      "[poisson] repetition 18 finished.\n"
     ]
    },
    {
     "name": "stderr",
     "output_type": "stream",
     "text": [
      "sample:  28%|██▊       | 7099/25000 [00:38<01:17, 232.13it/s, 127 steps of size 1.62e-02. acc. prob=0.86]"
     ]
    }
   ],
   "execution_count": null
  },
  {
   "metadata": {
    "ExecuteTime": {
     "end_time": "2025-06-18T07:12:50.379606Z",
     "start_time": "2025-06-18T07:12:35.231840Z"
    }
   },
   "cell_type": "code",
   "source": [
    "import numpy as np\n",
    "import pandas as pd\n",
    "import statsmodels.api as sm\n",
    "from statsmodels.genmod import families\n",
    "from pathlib import Path\n",
    "\n",
    "def load_and_augment_results(\n",
    "    results_base: str,\n",
    "    seed: int,\n",
    "    K: int,\n",
    "    O: int,\n",
    "    S: int,\n",
    "    n_obs: int,\n",
    "    model_types=None,\n",
    "    prior_bins: int = 200\n",
    ") -> pd.DataFrame:\n",
    "    \"\"\"\n",
    "    Load results, compute prior mode and CI coverage, and reconstruct raw data\n",
    "    per source to fit a GLM and estimate beta via statsmodels.\n",
    "    \"\"\"\n",
    "    results_base = Path(results_base)\n",
    "    if model_types is None:\n",
    "        model_types = [p.name for p in results_base.iterdir() if p.is_dir()]\n",
    "\n",
    "    all_stats = []\n",
    "    for model in model_types:\n",
    "        model_dir = results_base / model\n",
    "        stats_path = model_dir / \"beta_summary_stats.csv\"\n",
    "        if not stats_path.exists():\n",
    "            continue\n",
    "        stats = pd.read_csv(stats_path)\n",
    "\n",
    "        # Determine rep seeds\n",
    "        reps = sorted(int(str(e).lstrip(\"rep\")) for e in stats[\"experiment\"].unique())\n",
    "        rng_master = np.random.default_rng(seed)\n",
    "        rep_seeds = {rep: rng_master.integers(seed + rep) for rep in reps}\n",
    "\n",
    "        # Prepare new columns\n",
    "        stats[\"prior_mode\"] = np.nan\n",
    "        stats[\"covers_prior_median\"] = False\n",
    "        stats[\"covers_prior_mode\"] = False\n",
    "        stats[\"glm_beta_est\"] = np.nan\n",
    "\n",
    "        for idx, row in stats.iterrows():\n",
    "            rep = int(str(row[\"experiment\"]).lstrip(\"rep\"))\n",
    "            rep_seed = rep_seeds[rep]\n",
    "\n",
    "            # Reconstruct hyperparameters\n",
    "            rng_rep = np.random.default_rng(rep_seed)\n",
    "            beta_mean = rng_rep.normal(loc=1.5, scale=0.7, size=K)\n",
    "            beta_sds  = np.abs(rng_rep.normal(loc=0.0, scale=1.0, size=K))\n",
    "\n",
    "            # Simulate raw data\n",
    "            rng = np.random.default_rng(rep_seed)\n",
    "            true_pis = rng.dirichlet(np.ones(K)*2.0, size=S)\n",
    "\n",
    "            xs, ys, srcs = [], [], []\n",
    "            for s in range(1, S+1):\n",
    "                pi_s = true_pis[s-1]\n",
    "                for _ in range(O):\n",
    "                    z     = rng.choice(K, size=n_obs, p=pi_s)\n",
    "                    beta_i = rng.normal(loc=beta_mean[z], scale=beta_sds[z])\n",
    "                    x_i   = rng.uniform(-1, 1, size=n_obs)\n",
    "                    if model == \"poisson\":\n",
    "                        lam = np.exp(beta_i * x_i)\n",
    "                        y_i = rng.poisson(lam)\n",
    "                    elif model == \"logistic\":\n",
    "                        logits = beta_i * x_i\n",
    "                        p_i    = 1.0 / (1.0 + np.exp(-logits))\n",
    "                        y_i = rng.binomial(1, p_i)\n",
    "                    else:  # linear\n",
    "                        y_i = beta_i * x_i + rng.normal(0, 0.8, size=n_obs)\n",
    "\n",
    "                    xs.append(x_i)\n",
    "                    ys.append(y_i)\n",
    "                    srcs.append(np.full(n_obs, s))\n",
    "\n",
    "            xs = np.concatenate(xs)\n",
    "            ys = np.concatenate(ys)\n",
    "            srcs = np.concatenate(srcs)\n",
    "            df_raw = pd.DataFrame({\"source\": srcs, \"x\": xs, \"y\": ys})\n",
    "\n",
    "            # Fit GLM for this source\n",
    "            df_s = df_raw[df_raw[\"source\"] == row[\"source\"]]\n",
    "            X = sm.add_constant(df_s[\"x\"])\n",
    "            if model == \"poisson\":\n",
    "                fam = families.Poisson()\n",
    "            elif model == \"logistic\":\n",
    "                fam = families.Binomial()\n",
    "            else:\n",
    "                fam = families.Gaussian()\n",
    "            glm_res = sm.GLM(df_s[\"y\"], X, family=fam).fit(disp=False)\n",
    "            stats.at[idx, \"glm_beta_est\"] = glm_res.params.get(\"x\", np.nan)\n",
    "\n",
    "            # Load posterior/prior bundle with pickle allowed\n",
    "            npz_path = model_dir / \"data\" / f\"rep{rep}\" / f\"beta_{row['source']}.npz\"\n",
    "            if npz_path.exists():\n",
    "                bundle = np.load(npz_path, allow_pickle=True)\n",
    "                raw_prior = bundle[\"prior_samples\"]\n",
    "                # flatten object array of arrays\n",
    "                if raw_prior.dtype == object:\n",
    "                    prior_samps = np.concatenate(raw_prior)\n",
    "                else:\n",
    "                    prior_samps = raw_prior\n",
    "\n",
    "                # Compute prior mode via histogram\n",
    "                counts, edges = np.histogram(prior_samps, bins=prior_bins)\n",
    "                mids = 0.5 * (edges[:-1] + edges[1:])\n",
    "                mode = mids[np.argmax(counts)]\n",
    "                stats.at[idx, \"prior_mode\"] = mode\n",
    "\n",
    "            # Coverage checks\n",
    "            lo, hi = row[\"post_ci_lower\"], row[\"post_ci_upper\"]\n",
    "            stats.at[idx, \"covers_prior_median\"] = (lo <= row[\"prior_median\"] <= hi)\n",
    "            stats.at[idx, \"covers_prior_mode\"]   = (lo <= stats.at[idx, \"prior_mode\"] <= hi)\n",
    "\n",
    "        all_stats.append(stats)\n",
    "\n",
    "    return pd.concat(all_stats, ignore_index=True)\n",
    "\n",
    "# Adjust these to match your experiment\n",
    "RESULTS_BASE = \"results_sample_2025-06-17\"\n",
    "SEED         = 42\n",
    "K, O, S, N_OBS = 5, 8, 8, 120\n",
    "\n",
    "# discover model subfolders automatically\n",
    "base = Path(RESULTS_BASE)\n",
    "model_types = [p.name for p in base.iterdir() if p.is_dir()]\n",
    "\n",
    "for model in model_types:\n",
    "    # load & augment just this model’s stats\n",
    "    df_aug = load_and_augment_results(\n",
    "        results_base=RESULTS_BASE,\n",
    "        seed=SEED,\n",
    "        K=K, O=O, S=S, n_obs=N_OBS,\n",
    "        model_types=[model],    # only process this one\n",
    "        prior_bins=200\n",
    "    )\n",
    "\n",
    "    # write it back into the same model directory\n",
    "    out_csv = base / model / \"augmented_beta_summary_stats.csv\"\n",
    "    df_aug.to_csv(out_csv, index=False)\n",
    "    print(f\"Saved augmented stats for '{model}' to {out_csv}\")"
   ],
   "id": "45201ea83b42e0d0",
   "outputs": [
    {
     "name": "stdout",
     "output_type": "stream",
     "text": [
      "Saved augmented stats for 'linear' to results_sample_2025-06-17\\linear\\augmented_beta_summary_stats.csv\n",
      "Saved augmented stats for 'logistic' to results_sample_2025-06-17\\logistic\\augmented_beta_summary_stats.csv\n",
      "Saved augmented stats for 'poisson' to results_sample_2025-06-17\\poisson\\augmented_beta_summary_stats.csv\n"
     ]
    }
   ],
   "execution_count": 1
  },
  {
   "metadata": {
    "ExecuteTime": {
     "end_time": "2025-06-18T18:24:55.194600Z",
     "start_time": "2025-06-18T18:24:50.802469Z"
    }
   },
   "cell_type": "code",
   "source": [
    "import seaborn as sns\n",
    "folder_name = \"results_sample_2025-06-18\"  # adjust if you saved elsewhere\n",
    "RESULTS_ROOT = Path(folder_name)            # adjust if you saved elsewhere\n",
    "FAMILIES     = [\"linear\", \"poisson\", \"logistic\"]\n",
    "OUT_FIG_DIR  = RESULTS_ROOT / \"figures\"\n",
    "OUT_FIG_DIR.mkdir(parents=True, exist_ok=True)\n",
    "\n",
    "# define your fixed color mapping\n",
    "palette = {\n",
    "    \"linear\":   \"#4c72b0\",   # blue\n",
    "    \"logistic\": \"#dd8452\",   # brown/orange\n",
    "    \"poisson\":  \"#55a868\",   # green\n",
    "}\n",
    "\n",
    "def newest_csv(model_dir: Path) -> Path | None:\n",
    "    csvs = sorted(model_dir.glob(\"beta_summary_stats.csv\"))\n",
    "    return csvs[-1] if csvs else None\n",
    "\n",
    "# -------------------------------------------------------------------------\n",
    "# 1)  Load & combine\n",
    "# -------------------------------------------------------------------------\n",
    "frames = []\n",
    "for fam in FAMILIES:\n",
    "    mdl_dir = RESULTS_ROOT / fam\n",
    "    csv     = newest_csv(mdl_dir)\n",
    "    if csv is None:\n",
    "        print(f\"[warn] No summary CSV in {mdl_dir}; skipping.\")\n",
    "        continue\n",
    "\n",
    "    df = pd.read_csv(csv)\n",
    "    df[\"model_type\"] = fam\n",
    "    frames.append(df)\n",
    "\n",
    "stats_all = pd.concat(frames, ignore_index=True)\n",
    "\n",
    "# -------------------------------------------------------------------------\n",
    "# 2)  Box‐plots for errors & KL\n",
    "# -------------------------------------------------------------------------\n",
    "sns.set_theme(style=\"whitegrid\")\n",
    "\n",
    "metrics = [\"mean_error\", \"median_error\", \"kl_divergence\"]\n",
    "for metric in metrics:\n",
    "    g = sns.catplot(\n",
    "        data=stats_all,\n",
    "        x=\"source\", y=metric, hue=\"model_type\",\n",
    "        hue_order=FAMILIES,\n",
    "        palette=palette,\n",
    "        kind=\"box\", height=5, aspect=1.8,\n",
    "        showfliers=False,\n",
    "    )\n",
    "    g.set_axis_labels(\"β parameter (source)\", metric.replace(\"_\", \" \").title())\n",
    "    g.fig.suptitle(f\"Distribution of {metric.replace('_',' ')} across repetitions\")\n",
    "    g.tight_layout()\n",
    "    g.savefig(OUT_FIG_DIR / f\"{metric}_boxplot.png\", dpi=300)\n",
    "    plt.close(g.fig)\n",
    "\n",
    "# -------------------------------------------------------------------------\n",
    "# 3)  Coverage‐rate bar‐plot\n",
    "# -------------------------------------------------------------------------\n",
    "coverage = (\n",
    "    stats_all\n",
    "      .groupby([\"model_type\", \"source\"])[\"ci_covers_prior_mean\"]\n",
    "      .mean()\n",
    "      .reset_index(name=\"coverage_rate\")\n",
    ")\n",
    "\n",
    "g = sns.catplot(\n",
    "    data=coverage,\n",
    "    x=\"source\", y=\"coverage_rate\", hue=\"model_type\",\n",
    "    hue_order=FAMILIES,\n",
    "    palette=palette,\n",
    "    kind=\"bar\", height=5, aspect=1.8\n",
    ")\n",
    "g.set_axis_labels(\"β parameter (source)\", \"Coverage rate\")\n",
    "g.set(ylim=(0, 1))\n",
    "g.fig.suptitle(\"95 % CI Coverage Rate\")\n",
    "g.tight_layout()\n",
    "g.savefig(OUT_FIG_DIR / \"ci_coverage_barplot.png\", dpi=300)\n",
    "plt.close(g.fig)\n",
    "\n",
    "print(f\"✓ Figures saved to: {OUT_FIG_DIR.resolve()}\")\n",
    "\n",
    "# -------------------------------------------------------------------------\n",
    "# 3)  Coverage‐rate bar‐plots for mean, median & mode\n",
    "# -------------------------------------------------------------------------\n",
    "# first compute per‐source coverage rates\n",
    "cov_cols = [\"ci_covers_prior_mean\", \"ci_covers_prior_median\", \"ci_covers_prior_mode\"]\n",
    "coverage = (\n",
    "    stats_all\n",
    "      .groupby([\"model_type\", \"source\"])[cov_cols]\n",
    "      .mean()\n",
    "      .reset_index()\n",
    ")\n",
    "\n",
    "# melt into long form for faceting\n",
    "coverage_melt = coverage.melt(\n",
    "    id_vars=[\"model_type\", \"source\"],\n",
    "    value_vars=cov_cols,\n",
    "    var_name=\"coverage_type\",\n",
    "    value_name=\"coverage_rate\"\n",
    ")\n",
    "\n",
    "# clean up the labels\n",
    "coverage_melt[\"coverage_type\"] = coverage_melt[\"coverage_type\"].map({\n",
    "    \"ci_covers_prior_mean\":   \"Prior Mean\",\n",
    "    \"ci_covers_prior_median\": \"Prior Median\",\n",
    "    \"ci_covers_prior_mode\":   \"Prior Mode\",\n",
    "})\n",
    "\n",
    "# plot with one facet per coverage type\n",
    "g = sns.catplot(\n",
    "    data=coverage_melt,\n",
    "    x=\"source\", y=\"coverage_rate\",\n",
    "    hue=\"model_type\", col=\"coverage_type\",\n",
    "    hue_order=FAMILIES, palette=palette,\n",
    "    kind=\"bar\", height=4.5, aspect=0.8,\n",
    "    sharey=True,\n",
    ")\n",
    "g.set_axis_labels(\"β parameter (source)\", \"Coverage rate\")\n",
    "g.set(ylim=(0, 1))\n",
    "g.fig.suptitle(\"95% CI Coverage Rates\")\n",
    "g.tight_layout(rect=[0, 0, 1, 0.95])\n",
    "\n",
    "# save a single file with all three facets\n",
    "g.savefig(OUT_FIG_DIR / \"ci_coverage_all_barplots.png\", dpi=300)\n",
    "plt.close(g.fig)\n",
    "\n",
    "print(f\"✓ Figures saved to: {OUT_FIG_DIR.resolve()}\")\n",
    "\n",
    "\n",
    "coverage = (\n",
    "    stats_all\n",
    "      .groupby([\"model_type\", \"source\"])\n",
    "      [[\"ci_covers_prior_mean\", \"ci_covers_prior_median\", \"ci_covers_prior_mode\"]]\n",
    "      .mean()\n",
    "      .reset_index()\n",
    ")\n",
    "\n",
    "# mapping from column → (nice label, output filename)\n",
    "coverage_map = {\n",
    "    \"ci_covers_prior_mean\":   (\"Prior Mean\",   \"ci_coverage_mean_barplot.png\"),\n",
    "    \"ci_covers_prior_median\": (\"Prior Median\", \"ci_coverage_median_barplot.png\"),\n",
    "    \"ci_covers_prior_mode\":   (\"Prior Mode\",   \"ci_coverage_mode_barplot.png\"),\n",
    "}\n",
    "\n",
    "for col, (label, fname) in coverage_map.items():\n",
    "    g = sns.catplot(\n",
    "        data=coverage,\n",
    "        x=\"source\", y=col, hue=\"model_type\",\n",
    "        hue_order=FAMILIES, palette=palette,\n",
    "        kind=\"bar\", height=5, aspect=1.8\n",
    "    )\n",
    "    g.set_axis_labels(\"β parameter (source)\", \"Coverage rate\")\n",
    "    g.set(ylim=(0, 1))\n",
    "    g.fig.suptitle(\"95% CI Coverage Rates\")\n",
    "    g.tight_layout()\n",
    "    g.savefig(OUT_FIG_DIR / fname, dpi=300)\n",
    "    plt.close(g.fig)\n",
    "\n",
    "print(f\"✓ Coverage plots saved to: {OUT_FIG_DIR.resolve()}\")\n",
    "\n",
    "\n",
    "\n",
    "# -------------------------------------------------------------------------\n",
    "# 4)  Box-plot for (post_mean − glm_beta_est)\n",
    "# -------------------------------------------------------------------------\n",
    "# compute the difference\n",
    "# -------------------------------------------------------------------------\n",
    "# 4)  Posterior vs GLM differences (mean & median)\n",
    "# -------------------------------------------------------------------------\n",
    "# compute differences\n",
    "stats_all[\"post_glm_mean_diff\"]   = stats_all[\"post_mean\"]   - stats_all[\"glm_beta_est\"]\n",
    "stats_all[\"post_glm_median_diff\"] = stats_all[\"post_median\"] - stats_all[\"glm_beta_est\"]\n",
    "\n",
    "# boxplot for Posterior Mean − GLM Estimate\n",
    "g = sns.catplot(\n",
    "    data=stats_all,\n",
    "    x=\"source\", y=\"post_glm_mean_diff\", hue=\"model_type\",\n",
    "    hue_order=FAMILIES, palette=palette,\n",
    "    kind=\"box\", height=5, aspect=1.8,\n",
    "    showfliers=False,\n",
    ")\n",
    "g.set_axis_labels(\"β parameter (source)\", \"Posterior Mean − GLM Estimate\")\n",
    "g.fig.suptitle(\"Distribution of (Post Mean − GLM Estimate) Across Sources\")\n",
    "g.tight_layout()\n",
    "g.savefig(OUT_FIG_DIR / \"post_mean_vs_glm_boxplot.png\", dpi=300)\n",
    "plt.close(g.fig)\n",
    "\n",
    "# boxplot for Posterior Median − GLM Estimate\n",
    "g = sns.catplot(\n",
    "    data=stats_all,\n",
    "    x=\"source\", y=\"post_glm_median_diff\", hue=\"model_type\",\n",
    "    hue_order=FAMILIES, palette=palette,\n",
    "    kind=\"box\", height=5, aspect=1.8,\n",
    "    showfliers=False,\n",
    ")\n",
    "g.set_axis_labels(\"β parameter (source)\", \"Posterior Median − GLM Estimate\")\n",
    "g.fig.suptitle(\"Distribution of (Post Median − GLM Estimate) Across Sources\")\n",
    "g.tight_layout()\n",
    "g.savefig(OUT_FIG_DIR / \"post_median_vs_glm_boxplot.png\", dpi=300)\n",
    "plt.close(g.fig)\n",
    "\n",
    "print(f\"✓ Added post_mean_vs_glm_boxplot.png and post_median_vs_glm_boxplot.png to: {OUT_FIG_DIR.resolve()}\")\n",
    "\n",
    "\n",
    "\n"
   ],
   "id": "36f799deef210cd3",
   "outputs": [
    {
     "name": "stdout",
     "output_type": "stream",
     "text": [
      "✓ Figures saved to: D:\\Pycharm_Projects\\results_sample_2025-06-18\\figures\n",
      "✓ Figures saved to: D:\\Pycharm_Projects\\results_sample_2025-06-18\\figures\n",
      "✓ Coverage plots saved to: D:\\Pycharm_Projects\\results_sample_2025-06-18\\figures\n",
      "✓ Added post_mean_vs_glm_boxplot.png and post_median_vs_glm_boxplot.png to: D:\\Pycharm_Projects\\results_sample_2025-06-18\\figures\n"
     ]
    }
   ],
   "execution_count": 4
  },
  {
   "metadata": {},
   "cell_type": "code",
   "outputs": [],
   "execution_count": null,
   "source": "",
   "id": "a44a681b96045971"
  }
 ],
 "metadata": {
  "kernelspec": {
   "display_name": "Python 3",
   "language": "python",
   "name": "python3"
  },
  "language_info": {
   "codemirror_mode": {
    "name": "ipython",
    "version": 2
   },
   "file_extension": ".py",
   "mimetype": "text/x-python",
   "name": "python",
   "nbconvert_exporter": "python",
   "pygments_lexer": "ipython2",
   "version": "2.7.6"
  }
 },
 "nbformat": 4,
 "nbformat_minor": 5
}
